{
 "cells": [
  {
   "cell_type": "markdown",
   "metadata": {
    "slideshow": {
     "slide_type": "slide"
    }
   },
   "source": [
    "# Introduction to Julia\n",
    "<table>\n",
    "<tr>\n",
    "<td> <a href=\"http://julialang.org\"><img src=\"figures/julia.jpg\" alt=\"Julia\" style=\"width: 500px;\"/></a></td>\n",
    "</tr></table>\n",
    "\n",
    "Jean PAUPHILET, MIT ORC"
   ]
  },
  {
   "cell_type": "markdown",
   "metadata": {
    "slideshow": {
     "slide_type": "subslide"
    }
   },
   "source": [
    "This notebook is an introduction to the **Julia** language and its commonly used IJulia/Jupyter notebook interface. It is based on material developed by Miles Lubin and Sebastien Martin of the MIT Operations Research Center, as well as online [open-source material](http://ucidatascienceinitiative.github.io/IntroToJulia/Html/WhyJulia).\n",
    "\n",
    "This is a broad overview of Julia and Jupyter, with many links to more specific, thorough material. We hope readers will use this resource as a reference."
   ]
  },
  {
   "cell_type": "markdown",
   "metadata": {
    "slideshow": {
     "slide_type": "slide"
    }
   },
   "source": [
    "## Why Julia?\n",
    "\n",
    "Quoting the [Julia website](http://julialang.org):\n",
    "> Julia is a **high-level**, **high-performance** **dynamic** programming language for **technical computing**, with syntax that is familiar to users of other technical computing environments. It provides a sophisticated compiler, distributed parallel execution, numerical accuracy, and an extensive mathematical function library."
   ]
  },
  {
   "cell_type": "markdown",
   "metadata": {
    "slideshow": {
     "slide_type": "subslide"
    }
   },
   "source": [
    "A **high-level** language:\n",
    "\n",
    "- Easy to use and learn, with a similar syntax to Python/Matlab. \n",
    "- It is possible to do complicated computations quickly."
   ]
  },
  {
   "cell_type": "markdown",
   "metadata": {
    "slideshow": {
     "slide_type": "fragment"
    }
   },
   "source": [
    "For example, Solving $Ax = b$ with \n",
    "$A = \\begin{pmatrix}\n",
    " 1 & 2 & 3\\\\ \n",
    " 2 & 1 & 2\\\\ \n",
    " 3 & 2 & 1\n",
    "\\end{pmatrix}$\n",
    "and $b = \\begin{pmatrix}\n",
    " 1 \\\\ \n",
    " 1 \\\\ \n",
    " 1 \n",
    "\\end{pmatrix}$\n",
    "is as simple as:"
   ]
  },
  {
   "cell_type": "code",
   "execution_count": 1,
   "metadata": {
    "slideshow": {
     "slide_type": "fragment"
    }
   },
   "outputs": [
    {
     "data": {
      "text/plain": [
       "3-element Array{Float64,1}:\n",
       "  0.25\n",
       " -0.0 \n",
       "  0.25"
      ]
     },
     "execution_count": 1,
     "metadata": {},
     "output_type": "execute_result"
    }
   ],
   "source": [
    "A = [1 2 3\n",
    "     2 1 2\n",
    "     3 2 1]\n",
    "\n",
    "b = [1,1,1]\n",
    "A\\b"
   ]
  },
  {
   "cell_type": "markdown",
   "metadata": {
    "slideshow": {
     "slide_type": "subslide"
    }
   },
   "source": [
    "A **dynamic** language:\n",
    "\n",
    "- Julia is, like Python, Matlab or R, a dynamic language: you can interact with the language without the need to compile your code. Static or compiled languages, like C or Fortran, are more complicated to use but generally faster, and thus used when there is a need for time-efficient computations. \n",
    "\n",
    "- Two-language approach: use high level languages for research and scripting, then translate the final result into a static language for performance."
   ]
  },
  {
   "cell_type": "markdown",
   "metadata": {
    "slideshow": {
     "slide_type": "subslide"
    }
   },
   "source": [
    "A **high-performance** language:\n",
    "- Julia is fast. Thanks to _multiple dispatch_, a strong _type system_, and _just-in-time compilation_, it can reach performance comparable to C and Fortran.\n",
    "<a href=\"http://nbviewer.jupyter.org/url/julialang.org/benchmarks/benchmarks.ipynb\"><img src=\"figures/Julia-benchmarks.png\" alt=\"Julia\" style=\"width: 1500px;\"/></a>"
   ]
  },
  {
   "cell_type": "markdown",
   "metadata": {
    "slideshow": {
     "slide_type": "subslide"
    }
   },
   "source": [
    "A **vivid** open-source community:\n",
    "- Julia is among the top 10 languages on Github, measured by stars and forks.\n",
    "- A lot of exciting projects to build a first-class language for ML/AI (data with missing values, GPU support, numeric differenciation,...)\n",
    "<img src=\"figures/stars.png\" alt=\"Julia\" style=\"width: 1500px;\"/>"
   ]
  },
  {
   "cell_type": "markdown",
   "metadata": {
    "slideshow": {
     "slide_type": "slide"
    }
   },
   "source": [
    "## Jupyter/IJulia notebook basics\n",
    "For this session, we will use Julia through a Jupyter notebook, a useful tool (originally for Python) made available to Julia by the IJulia project."
   ]
  },
  {
   "cell_type": "markdown",
   "metadata": {
    "slideshow": {
     "slide_type": "subslide"
    }
   },
   "source": [
    "### What is a Jupyter Notebook?\n",
    "- Jupyter notebooks are **documents** (like a Word document) that can contain and run code.\n",
    "- They were originally created for Python as part of the IPython project, and adapted for Julia by the **IJulia** project.\n",
    "- They are very useful to **prototype**, draw **plots**, or even for teaching material like this one.\n",
    "- The document relies only on a modern browser for rendering, and can easily be **shared**."
   ]
  },
  {
   "cell_type": "markdown",
   "metadata": {
    "slideshow": {
     "slide_type": "subslide"
    }
   },
   "source": [
    "### Installing IJulia and loading this notebook\n",
    "Once Julia is installed, start julia and just run the following command to install the `IJulia` package (you did this on the pre-assignment).\n",
    "```jl\n",
    "Pkg.install(\"IJulia\")\n",
    "```\n",
    "This should work on its own. If there is any issue, check out the [IJulia website](https://github.com/JuliaLang/IJulia.jl).\n",
    "\n",
    "Once IJulia is installed, go to the notebook file (_.ipynb_) directory. Then you can \n",
    "- either start julia and run:\n",
    "```jl\n",
    "using IJulia\n",
    "notebook()\n",
    "```\n",
    "- or run directly in command line \n",
    "```\n",
    "jupyter notebook\n",
    "```\n",
    "A webpage should open automatically, just click on the notebook to load it."
   ]
  },
  {
   "cell_type": "markdown",
   "metadata": {
    "slideshow": {
     "slide_type": "subslide"
    }
   },
   "source": [
    "### Navigating the notebook\n",
    "\n",
    "- Click `Help -> User Interface Tour` for a guided tour of the interface.\n",
    "- Each notebook is composed of **cells**, that either contain code or text (`Markdown`).\n",
    "- You can edit the content of a cell by double-clicking on it (_Edit Mode_)."
   ]
  },
  {
   "cell_type": "markdown",
   "metadata": {
    "collapsed": true,
    "slideshow": {
     "slide_type": "fragment"
    }
   },
   "source": [
    "When you are not editing a cell, you are in _Command mode_ and can edit the structure of the notebook (cells, name, options...)"
   ]
  },
  {
   "cell_type": "markdown",
   "metadata": {
    "slideshow": {
     "slide_type": "subslide"
    }
   },
   "source": [
    "- Create a cell by:\n",
    "    - Clicking `Insert -> Insert Cell`\n",
    "    - Pressing `a` or `b` in Command Mode\n",
    "    - Pressing `Alt+Enter` in Edit Mode\n",
    "- Delete a cell by:\n",
    "    - Clicking `Edit -> Delete Cell`\n",
    "    - Pressing `dd`\n",
    "- Execute a cell by:\n",
    "    - Clicking `Cell -> Run`\n",
    "    - Pressing `Ctrl+Enter`"
   ]
  },
  {
   "cell_type": "markdown",
   "metadata": {
    "slideshow": {
     "slide_type": "subslide"
    }
   },
   "source": [
    "Other functions:\n",
    "- Undo last text edit with `Ctrl+z` in Edit Mode\n",
    "- Undo last cell manipulation with `z` in Command Mode\n",
    "- Save notebook with `Ctrl+s` in Edit Mode\n",
    "- Save notebook with `s` in Command Mode\n",
    "\n",
    "Though notebooks rely on your browser to work, they do not require an internet connection (except for math rendering)."
   ]
  },
  {
   "cell_type": "markdown",
   "metadata": {
    "slideshow": {
     "slide_type": "subslide"
    }
   },
   "source": [
    "### Get comfortable with the notebook\n",
    "Notebooks are designed to not be fragile. If you try to close a notebook with unsaved changes, the browser will warn you.\n",
    "\n",
    "Try the following exercises:"
   ]
  },
  {
   "cell_type": "markdown",
   "metadata": {
    "slideshow": {
     "slide_type": "fragment"
    }
   },
   "source": [
    ">**\\[Exercise\\]**: Close/open\n",
    "\n",
    ">1. Save the notebook\n",
    ">2. Copy the address\n",
    ">3. Close the tab\n",
    ">4. Paste the address into a new tab (or re-open the last closed tab with `Ctrl+Shift+T` on Chrome)\n",
    "\n",
    ">_The document is still there, and the Julia kernel is still alive! Nothing is lost._"
   ]
  },
  {
   "cell_type": "markdown",
   "metadata": {
    "slideshow": {
     "slide_type": "fragment"
    }
   },
   "source": [
    ">**\\[Exercise\\]**: Zoom\n",
    "\n",
    ">Try changing the magnification of the web page (`Ctrl+, Ctrl-` on Chrome).\n",
    "\n",
    ">_Text and math scale well (so do graphics if you use an SVG or PDF backend)._"
   ]
  },
  {
   "cell_type": "markdown",
   "metadata": {
    "slideshow": {
     "slide_type": "fragment"
    }
   },
   "source": [
    ">**\\[Exercise\\]**: MathJax\n",
    ">1. Create a new cell, and select the type `Markdown` (or press `m`)\n",
    ">2. Type an opening \\$, your favorite mathematical expression, and a closing \\$.\n",
    ">3. Run the cell to render the $\\LaTeX$ expression.\n",
    ">4. Right-click the rendered expression."
   ]
  },
  {
   "cell_type": "markdown",
   "metadata": {
    "slideshow": {
     "slide_type": "slide"
    }
   },
   "source": [
    "### Advanced Jupyter notebooks' usage (Bonus)\n",
    "Jupyter notebooks have a lot of interesting hidden functionalities!"
   ]
  },
  {
   "cell_type": "markdown",
   "metadata": {
    "slideshow": {
     "slide_type": "subslide"
    }
   },
   "source": [
    "**Github and sharing**\n",
    "\n",
    "If you save your .ipynb notebook file in a .git project, hosted on Github, you can easily visualize and share it online (in non-interactive mode).\n",
    "\n",
    "For example, this notebook is available at https://github.com/sebmart/intro-julia-jupyter/blob/master/intro-julia-jupyter.ipynb\n",
    "\n",
    "You can also use [Gist](https://gist.github.com) and [nbviewer](http://nbviewer.jupyter.org) to quickly share a notebook (for example to your advisor) without creating a git repo."
   ]
  },
  {
   "cell_type": "markdown",
   "metadata": {
    "slideshow": {
     "slide_type": "subslide"
    }
   },
   "source": [
    "**Converting your notebook**\n",
    "\n",
    "Jupyter notebooks are a popular format that can be converted to a variety of types of documents, depending on your needs:\n",
    "- Latex\n",
    "- HTML\n",
    "- PDF\n",
    "- Slides with Reveal.JS (used to present this notebook!)\n",
    "- Markdown ...\n",
    "\n",
    "These conversions use the [`nbconvert`](https://github.com/jupyter/nbconvert) command."
   ]
  },
  {
   "cell_type": "markdown",
   "metadata": {
    "slideshow": {
     "slide_type": "subslide"
    }
   },
   "source": [
    "**Remote computing**\n",
    "\n",
    "The Notebook system is a web interface. Notebooks can be run on another computer. This is useful if you want your code to run on a more powerful remote machine.\n",
    "\n",
    "[Port-forwarding](https://help.ubuntu.com/community/SSH/OpenSSH/PortForwarding) through SSH is a good start for this."
   ]
  },
  {
   "cell_type": "markdown",
   "metadata": {
    "slideshow": {
     "slide_type": "subslide"
    }
   },
   "source": [
    "**Advanced Markdown**\n",
    "\n",
    "Jupyter text cells use Markdown for formatting. Markdown is an easy to use formatting language (a little like HTML or LaTeX in more simple). You can use the text of this notebook as an example, or learn more [here](https://github.com/adam-p/markdown-here/wiki/Markdown-Cheatsheet).\n",
    "\n",
    "Jupyter uses _Github flavored Markdown_, and is particularly good at displaying math and colored code. You can even include a video!"
   ]
  },
  {
   "cell_type": "markdown",
   "metadata": {
    "slideshow": {
     "slide_type": "slide"
    }
   },
   "source": [
    "## Coding in Julia\n",
    "\n",
    "This section is a brief introduction to Julia. It is not a comprehensive tutorial but more a _taste_ of the language for those who do not know it, and a showcase of cool features for those who already know Julia.\n",
    "\n",
    "Very good [tutorials](http://julialang.org/learning/) are available online and in books if you are interested in learning the language."
   ]
  },
  {
   "cell_type": "markdown",
   "metadata": {
    "slideshow": {
     "slide_type": "slide"
    }
   },
   "source": [
    "### Basic use\n",
    "Julia, as a dynamic language, can simply be used as a calculator:"
   ]
  },
  {
   "cell_type": "code",
   "execution_count": 2,
   "metadata": {
    "slideshow": {
     "slide_type": "fragment"
    }
   },
   "outputs": [
    {
     "data": {
      "text/plain": [
       "2"
      ]
     },
     "execution_count": 2,
     "metadata": {},
     "output_type": "execute_result"
    }
   ],
   "source": [
    "1+1"
   ]
  },
  {
   "cell_type": "code",
   "execution_count": 3,
   "metadata": {
    "slideshow": {
     "slide_type": "fragment"
    }
   },
   "outputs": [
    {
     "data": {
      "text/plain": [
       "-0.01136232398070678"
      ]
     },
     "execution_count": 3,
     "metadata": {},
     "output_type": "execute_result"
    }
   ],
   "source": [
    "sin(exp(2*pi)+sqrt(3))"
   ]
  },
  {
   "cell_type": "markdown",
   "metadata": {
    "slideshow": {
     "slide_type": "fragment"
    }
   },
   "source": [
    "The building blocs of Julia code are variables:"
   ]
  },
  {
   "cell_type": "code",
   "execution_count": 4,
   "metadata": {
    "slideshow": {
     "slide_type": "fragment"
    }
   },
   "outputs": [
    {
     "data": {
      "text/plain": [
       "9"
      ]
     },
     "execution_count": 4,
     "metadata": {},
     "output_type": "execute_result"
    }
   ],
   "source": [
    "a = 1\n",
    "b = 2\n",
    "# This is a comment \n",
    "c = a^2 + b^3 "
   ]
  },
  {
   "cell_type": "markdown",
   "metadata": {
    "slideshow": {
     "slide_type": "subslide"
    }
   },
   "source": [
    "Julia supports the common `if`, `while` and `for` structures:"
   ]
  },
  {
   "cell_type": "code",
   "execution_count": 5,
   "metadata": {
    "slideshow": {
     "slide_type": "fragment"
    }
   },
   "outputs": [
    {
     "name": "stdout",
     "output_type": "stream",
     "text": [
      "World"
     ]
    }
   ],
   "source": [
    "if c >= 10\n",
    "    print(\"Hello\")\n",
    "else\n",
    "    print(\"World\")\n",
    "end"
   ]
  },
  {
   "cell_type": "code",
   "execution_count": 6,
   "metadata": {
    "slideshow": {
     "slide_type": "fragment"
    }
   },
   "outputs": [
    {
     "name": "stdout",
     "output_type": "stream",
     "text": [
      "Why, hello!\n",
      "Why, hello!\n",
      "Why, hello!\n",
      "Why, hello!\n",
      "Why, hello!\n"
     ]
    }
   ],
   "source": [
    "i = 1\n",
    "while i <= 5\n",
    "    println(\"Why, hello!\") # Print with a new line\n",
    "    i += 1\n",
    "end"
   ]
  },
  {
   "cell_type": "code",
   "execution_count": 7,
   "metadata": {
    "slideshow": {
     "slide_type": "fragment"
    }
   },
   "outputs": [
    {
     "name": "stdout",
     "output_type": "stream",
     "text": [
      "1 banana\n",
      "2 bananas\n",
      "3 bananas\n"
     ]
    }
   ],
   "source": [
    "for i = 1:3\n",
    "    print(\"$i banana\") # '$' can be used to insert variables into text\n",
    "    if i>1\n",
    "        print(\"s\")\n",
    "    end\n",
    "    println() # Just a new line\n",
    "end"
   ]
  },
  {
   "cell_type": "markdown",
   "metadata": {
    "slideshow": {
     "slide_type": "fragment"
    }
   },
   "source": [
    "**Do not worry about writing loops**: in Julia, they are as fast as writing vectorized code, and sometimes faster!"
   ]
  },
  {
   "cell_type": "markdown",
   "metadata": {
    "slideshow": {
     "slide_type": "subslide"
    }
   },
   "source": [
    "**Arrays** (list of numbers) are at the core of research computing and Julia's arrays are extremely optimized."
   ]
  },
  {
   "cell_type": "code",
   "execution_count": 8,
   "metadata": {
    "slideshow": {
     "slide_type": "fragment"
    }
   },
   "outputs": [
    {
     "data": {
      "text/plain": [
       "3-element Array{Int64,1}:\n",
       " 1\n",
       " 2\n",
       " 3"
      ]
     },
     "execution_count": 8,
     "metadata": {},
     "output_type": "execute_result"
    }
   ],
   "source": [
    "myList = [1, 2, 3]"
   ]
  },
  {
   "cell_type": "markdown",
   "metadata": {
    "slideshow": {
     "slide_type": "fragment"
    }
   },
   "source": [
    "Array indexing starts with 1 in Julia:"
   ]
  },
  {
   "cell_type": "code",
   "execution_count": 9,
   "metadata": {
    "slideshow": {
     "slide_type": "fragment"
    }
   },
   "outputs": [
    {
     "data": {
      "text/plain": [
       "1"
      ]
     },
     "execution_count": 9,
     "metadata": {},
     "output_type": "execute_result"
    }
   ],
   "source": [
    "myList[1]"
   ]
  },
  {
   "cell_type": "code",
   "execution_count": 10,
   "metadata": {
    "slideshow": {
     "slide_type": "fragment"
    }
   },
   "outputs": [
    {
     "data": {
      "text/plain": [
       "3-element Array{Int64,1}:\n",
       " 1\n",
       " 2\n",
       " 4"
      ]
     },
     "execution_count": 10,
     "metadata": {},
     "output_type": "execute_result"
    }
   ],
   "source": [
    "myList[3] = 4 \n",
    "myList"
   ]
  },
  {
   "cell_type": "markdown",
   "metadata": {
    "slideshow": {
     "slide_type": "subslide"
    }
   },
   "source": [
    "A 2-dimensional array is a Matrix"
   ]
  },
  {
   "cell_type": "code",
   "execution_count": 11,
   "metadata": {
    "slideshow": {
     "slide_type": "fragment"
    }
   },
   "outputs": [
    {
     "data": {
      "text/plain": [
       "3×3 Array{Int64,2}:\n",
       " 1  2  3\n",
       " 2  1  2\n",
       " 3  2  1"
      ]
     },
     "execution_count": 11,
     "metadata": {},
     "output_type": "execute_result"
    }
   ],
   "source": [
    "A = [1 2 3\n",
    "     2 1 2\n",
    "     3 2 1]\n",
    "\n",
    "A = [1 2 3; 2 1 2; 3 2 1] #same thing"
   ]
  },
  {
   "cell_type": "markdown",
   "metadata": {
    "slideshow": {
     "slide_type": "fragment"
    }
   },
   "source": [
    "Matrices can be multiplied, inverted..."
   ]
  },
  {
   "cell_type": "code",
   "execution_count": 12,
   "metadata": {
    "slideshow": {
     "slide_type": "fragment"
    }
   },
   "outputs": [
    {
     "data": {
      "text/plain": [
       "3×3 Array{Float64,2}:\n",
       " 1.0  2.0  3.0\n",
       " 2.0  1.0  2.0\n",
       " 3.0  2.0  1.0"
      ]
     },
     "execution_count": 12,
     "metadata": {},
     "output_type": "execute_result"
    }
   ],
   "source": [
    "A^-1 #inverse\n",
    "\n",
    "A^2 * A^-1"
   ]
  },
  {
   "cell_type": "code",
   "execution_count": 13,
   "metadata": {
    "slideshow": {
     "slide_type": "fragment"
    }
   },
   "outputs": [
    {
     "data": {
      "text/plain": [
       "3-element Array{Int64,1}:\n",
       " 14\n",
       " 10\n",
       " 10"
      ]
     },
     "execution_count": 13,
     "metadata": {},
     "output_type": "execute_result"
    }
   ],
   "source": [
    "A*[1,2,3]"
   ]
  },
  {
   "cell_type": "markdown",
   "metadata": {
    "slideshow": {
     "slide_type": "subslide"
    }
   },
   "source": [
    "Component-wise operations can be obtained by adding a '.' in front of the operator. See the difference for instance between:"
   ]
  },
  {
   "cell_type": "code",
   "execution_count": 14,
   "metadata": {
    "slideshow": {
     "slide_type": "fragment"
    }
   },
   "outputs": [
    {
     "data": {
      "text/plain": [
       "3×3 Array{Int64,2}:\n",
       " 2  2  3\n",
       " 2  2  2\n",
       " 3  2  2"
      ]
     },
     "execution_count": 14,
     "metadata": {},
     "output_type": "execute_result"
    }
   ],
   "source": [
    "Id = [1 0 0; 0 1 0; 0 0 1]\n",
    "A .+ Id"
   ]
  },
  {
   "cell_type": "markdown",
   "metadata": {
    "slideshow": {
     "slide_type": "fragment"
    }
   },
   "source": [
    "and"
   ]
  },
  {
   "cell_type": "code",
   "execution_count": 15,
   "metadata": {
    "slideshow": {
     "slide_type": "fragment"
    }
   },
   "outputs": [
    {
     "data": {
      "text/plain": [
       "3×3 Array{Int64,2}:\n",
       " 2  2  3\n",
       " 2  2  2\n",
       " 3  2  2"
      ]
     },
     "execution_count": 15,
     "metadata": {},
     "output_type": "execute_result"
    }
   ],
   "source": [
    "A + Id"
   ]
  },
  {
   "cell_type": "markdown",
   "metadata": {
    "slideshow": {
     "slide_type": "fragment"
    }
   },
   "source": [
    "(Well there is none because matrix addition is component-wise)"
   ]
  },
  {
   "cell_type": "code",
   "execution_count": 16,
   "metadata": {
    "slideshow": {
     "slide_type": "subslide"
    }
   },
   "outputs": [
    {
     "data": {
      "text/plain": [
       "3×3 Array{Int64,2}:\n",
       " 1  0  0\n",
       " 0  1  0\n",
       " 0  0  1"
      ]
     },
     "execution_count": 16,
     "metadata": {},
     "output_type": "execute_result"
    }
   ],
   "source": [
    "A .* Id"
   ]
  },
  {
   "cell_type": "markdown",
   "metadata": {
    "slideshow": {
     "slide_type": "fragment"
    }
   },
   "source": [
    "and"
   ]
  },
  {
   "cell_type": "code",
   "execution_count": 17,
   "metadata": {
    "slideshow": {
     "slide_type": "fragment"
    }
   },
   "outputs": [
    {
     "data": {
      "text/plain": [
       "3×3 Array{Int64,2}:\n",
       " 1  2  3\n",
       " 2  1  2\n",
       " 3  2  1"
      ]
     },
     "execution_count": 17,
     "metadata": {},
     "output_type": "execute_result"
    }
   ],
   "source": [
    "A * Id"
   ]
  },
  {
   "cell_type": "markdown",
   "metadata": {
    "slideshow": {
     "slide_type": "subslide"
    }
   },
   "source": [
    "Let's try a quick exercise!\n",
    "\n",
    "> **[Exercise]** A random variable $X\\sim\\text{Bin}(n,p)$ is defined as the number of successes in $n$ trials where each trial has a success probability $p$. For example, if $X=\\text{Bin}(10,0.5)$, then $X$ is the number of coin flips that turn up heads in 10 flips of a fair coin.\n",
    "\n",
    "> Using only the function `rand()`, which generates a uniformly random number between 0 and 1, write a function `binomial_rv(n,p)` that outputs a single draw of a binomial random variable with parameters `n` and `p`."
   ]
  },
  {
   "cell_type": "code",
   "execution_count": 20,
   "metadata": {
    "slideshow": {
     "slide_type": "fragment"
    }
   },
   "outputs": [
    {
     "data": {
      "text/plain": [
       "4"
      ]
     },
     "execution_count": 20,
     "metadata": {},
     "output_type": "execute_result"
    }
   ],
   "source": [
    "function binomial_rv(n, p)\n",
    "    sum(1*(rand(n) .< p))\n",
    "end\n",
    "binomial_rv(10,0.5)"
   ]
  },
  {
   "cell_type": "markdown",
   "metadata": {
    "slideshow": {
     "slide_type": "slide"
    }
   },
   "source": [
    "### Just-in-time compilation\n",
    "\n",
    "We mentioned earlier that one of the reasons Julia is fast is _just-in-time_ compilation. This means that right before a function is executed, Julia compiles it and optimizes it. Function compilations are also cached for future use."
   ]
  },
  {
   "cell_type": "code",
   "execution_count": 21,
   "metadata": {
    "slideshow": {
     "slide_type": "subslide"
    }
   },
   "outputs": [
    {
     "name": "stdout",
     "output_type": "stream",
     "text": [
      "First use: slow like a dynamic language\n",
      "  0.006647 seconds (13.03 k allocations: 701.250 KiB)\n",
      "Second use: compiled and optimized automatically\n",
      "  0.000002 seconds (5 allocations: 176 bytes)\n"
     ]
    }
   ],
   "source": [
    "function countTo(n)\n",
    "    count = 0\n",
    "    for i = 1:n\n",
    "        count += 1\n",
    "    end\n",
    "    return count\n",
    "end\n",
    "println(\"First use: slow like a dynamic language\")\n",
    "@time countTo(10_000_000) #the @time macro is useful to track computational time and memory usage\n",
    "println(\"Second use: compiled and optimized automatically\")\n",
    "@time countTo(10_000_000);"
   ]
  },
  {
   "cell_type": "markdown",
   "metadata": {
    "slideshow": {
     "slide_type": "slide"
    }
   },
   "source": [
    "### Type stability\n",
    "\n",
    "Other interpreted languages have just-in-time compilers (e.g. Python). Why is Julia better?\n",
    "\n",
    "**Types:** Everything has a type in Julia"
   ]
  },
  {
   "cell_type": "code",
   "execution_count": 22,
   "metadata": {
    "slideshow": {
     "slide_type": "fragment"
    }
   },
   "outputs": [
    {
     "data": {
      "text/plain": [
       "Int64"
      ]
     },
     "execution_count": 22,
     "metadata": {},
     "output_type": "execute_result"
    }
   ],
   "source": [
    "typeof(1)"
   ]
  },
  {
   "cell_type": "code",
   "execution_count": 23,
   "metadata": {
    "slideshow": {
     "slide_type": "fragment"
    }
   },
   "outputs": [
    {
     "data": {
      "text/plain": [
       "Float64"
      ]
     },
     "execution_count": 23,
     "metadata": {},
     "output_type": "execute_result"
    }
   ],
   "source": [
    "typeof(1.5)"
   ]
  },
  {
   "cell_type": "code",
   "execution_count": 24,
   "metadata": {
    "slideshow": {
     "slide_type": "fragment"
    }
   },
   "outputs": [
    {
     "data": {
      "text/plain": [
       "String"
      ]
     },
     "execution_count": 24,
     "metadata": {},
     "output_type": "execute_result"
    }
   ],
   "source": [
    "typeof(\"abc\")"
   ]
  },
  {
   "cell_type": "markdown",
   "metadata": {
    "slideshow": {
     "slide_type": "subslide"
    }
   },
   "source": [
    "Type stability is the idea that there is only one possible type which can be output by a method. For example, the reasonable type to output from `*(::Int64,::Int64)` is an `Int64`. No matter what you give it, it will spit out an `Int64`.\n",
    "\n",
    "This is called **[multiple dispatch](https://en.wikipedia.org/wiki/Multiple_dispatch)** : the `*` operator calls a different method depending on the types that it sees."
   ]
  },
  {
   "cell_type": "code",
   "execution_count": 25,
   "metadata": {
    "slideshow": {
     "slide_type": "fragment"
    }
   },
   "outputs": [
    {
     "data": {
      "text/plain": [
       "1//2"
      ]
     },
     "execution_count": 25,
     "metadata": {},
     "output_type": "execute_result"
    }
   ],
   "source": [
    "1//2 # fraction in Julia"
   ]
  },
  {
   "cell_type": "code",
   "execution_count": 26,
   "metadata": {
    "slideshow": {
     "slide_type": "fragment"
    }
   },
   "outputs": [
    {
     "data": {
      "text/plain": [
       "Rational{Int64}"
      ]
     },
     "execution_count": 26,
     "metadata": {},
     "output_type": "execute_result"
    }
   ],
   "source": [
    "typeof(1//2)"
   ]
  },
  {
   "cell_type": "code",
   "execution_count": 27,
   "metadata": {
    "slideshow": {
     "slide_type": "fragment"
    }
   },
   "outputs": [
    {
     "data": {
      "text/plain": [
       "1//4"
      ]
     },
     "execution_count": 27,
     "metadata": {},
     "output_type": "execute_result"
    }
   ],
   "source": [
    "(1//2)*(1//2)"
   ]
  },
  {
   "cell_type": "code",
   "execution_count": 28,
   "metadata": {
    "scrolled": true,
    "slideshow": {
     "slide_type": "fragment"
    }
   },
   "outputs": [
    {
     "data": {
      "text/plain": [
       "0.25"
      ]
     },
     "execution_count": 28,
     "metadata": {},
     "output_type": "execute_result"
    }
   ],
   "source": [
    "(0.5)*(0.5) # The same function gives different results depending on the type"
   ]
  },
  {
   "cell_type": "code",
   "execution_count": 29,
   "metadata": {
    "slideshow": {
     "slide_type": "fragment"
    }
   },
   "outputs": [
    {
     "data": {
      "text/plain": [
       "-1 + 0im"
      ]
     },
     "execution_count": 29,
     "metadata": {},
     "output_type": "execute_result"
    }
   ],
   "source": [
    "(im)*(im) # This also works with complex numbers"
   ]
  },
  {
   "cell_type": "code",
   "execution_count": 30,
   "metadata": {
    "slideshow": {
     "slide_type": "subslide"
    }
   },
   "outputs": [
    {
     "name": "stdout",
     "output_type": "stream",
     "text": [
      "Default output\n",
      "You gave me an integer!\n",
      "Default output\n"
     ]
    }
   ],
   "source": [
    "function myFunction(x)\n",
    "    println(\"Default output\")\n",
    "end\n",
    "\n",
    "function myFunction(x::Int) # only called when x is an integer\n",
    "    println(\"You gave me an integer!\")\n",
    "end\n",
    "\n",
    "myFunction(1.0)\n",
    "myFunction(1)\n",
    "myFunction(\"ORC\")"
   ]
  },
  {
   "cell_type": "markdown",
   "metadata": {
    "slideshow": {
     "slide_type": "subslide"
    }
   },
   "source": [
    "#### How does type stability help?\n",
    "\n",
    "To explore the power of Julia's type-stable system, we will use code introspection macros to see what the code actually compiles to. Let's look at the code in LLVM, a portable assembly language:"
   ]
  },
  {
   "cell_type": "code",
   "execution_count": 31,
   "metadata": {
    "slideshow": {
     "slide_type": "fragment"
    }
   },
   "outputs": [
    {
     "name": "stdout",
     "output_type": "stream",
     "text": [
      "\n",
      "; Function ^\n",
      "; Location: intfuncs.jl:220\n",
      "define i64 @\"julia_^_35873\"(i64, i64) {\n",
      "top:\n",
      "  %2 = call i64 @julia_power_by_squaring_27457(i64 %0, i64 %1)\n",
      "  ret i64 %2\n",
      "}\n"
     ]
    }
   ],
   "source": [
    "@code_llvm ^(2,5)"
   ]
  },
  {
   "cell_type": "markdown",
   "metadata": {
    "slideshow": {
     "slide_type": "fragment"
    }
   },
   "source": [
    "The code above is short and sweet: it multiplies the two numbers and returns the result. It turns out that the compiled code is _the same_ as the compiled version of the same code written in C or Fortran."
   ]
  },
  {
   "cell_type": "markdown",
   "metadata": {
    "slideshow": {
     "slide_type": "fragment"
    }
   },
   "source": [
    "_Question_: in what cases does the code compile to something as efficient as C/Fortran?\n",
    "\n",
    "_Answer_: **type-stability**. If a function is type-stable, then the compiler can know what the type will be at all points in the function and smartly optimize it to the same assembly as C/Fortran. If it is not type-stable, Julia has to add expensive \"boxing\" to ensure types are found/known before operations are performed."
   ]
  },
  {
   "cell_type": "markdown",
   "metadata": {
    "slideshow": {
     "slide_type": "slide"
    }
   },
   "source": [
    "## Fun functionalities\n",
    "\n",
    "Julia has a lot of nice functionalities for you to discover!"
   ]
  },
  {
   "cell_type": "markdown",
   "metadata": {
    "slideshow": {
     "slide_type": "subslide"
    }
   },
   "source": [
    "#### List comprehension (similar to Python)"
   ]
  },
  {
   "cell_type": "code",
   "execution_count": 32,
   "metadata": {
    "slideshow": {
     "slide_type": "fragment"
    }
   },
   "outputs": [
    {
     "data": {
      "text/plain": [
       "5-element Array{Int64,1}:\n",
       "   4\n",
       "  16\n",
       "  36\n",
       "  64\n",
       " 100"
      ]
     },
     "execution_count": 32,
     "metadata": {},
     "output_type": "execute_result"
    }
   ],
   "source": [
    "[i^2 for i in 1:10 if i%2 == 0] # list comprehensions (similar to Python)"
   ]
  },
  {
   "cell_type": "markdown",
   "metadata": {
    "slideshow": {
     "slide_type": "subslide"
    }
   },
   "source": [
    "#### Support for unicode characters ($\\LaTeX$ syntax)\n",
    "You can use unicode characters as part of variables and function names in Julia. Some of them are already defined Julia constants and functions\n",
    "> Try to type `\\pi<TAB>` in a cell."
   ]
  },
  {
   "cell_type": "code",
   "execution_count": 33,
   "metadata": {
    "slideshow": {
     "slide_type": "fragment"
    }
   },
   "outputs": [
    {
     "data": {
      "text/plain": [
       "π = 3.1415926535897..."
      ]
     },
     "execution_count": 33,
     "metadata": {},
     "output_type": "execute_result"
    }
   ],
   "source": [
    "π"
   ]
  },
  {
   "cell_type": "code",
   "execution_count": 34,
   "metadata": {
    "slideshow": {
     "slide_type": "fragment"
    }
   },
   "outputs": [
    {
     "data": {
      "text/plain": [
       "true"
      ]
     },
     "execution_count": 34,
     "metadata": {},
     "output_type": "execute_result"
    }
   ],
   "source": [
    "\"carrot\" ∈ [\"potato\", \"tomato\", \"carrot\"]"
   ]
  },
  {
   "cell_type": "code",
   "execution_count": 35,
   "metadata": {
    "scrolled": false,
    "slideshow": {
     "slide_type": "fragment"
    }
   },
   "outputs": [
    {
     "name": "stdout",
     "output_type": "stream",
     "text": [
      "0.32207950528848817\n",
      "In\n"
     ]
    }
   ],
   "source": [
    "η = rand()\n",
    "println(η)\n",
    "if η >= 0.1 && η < .5 #check if η ∈ [.1, .5)\n",
    "    println(\"In\")\n",
    "else \n",
    "    println(\"Out\")\n",
    "end"
   ]
  },
  {
   "cell_type": "code",
   "execution_count": 36,
   "metadata": {
    "slideshow": {
     "slide_type": "fragment"
    }
   },
   "outputs": [
    {
     "data": {
      "text/plain": [
       "1.4142135623730951"
      ]
     },
     "execution_count": 36,
     "metadata": {},
     "output_type": "execute_result"
    }
   ],
   "source": [
    "√2"
   ]
  },
  {
   "cell_type": "code",
   "execution_count": 37,
   "metadata": {
    "slideshow": {
     "slide_type": "fragment"
    }
   },
   "outputs": [
    {
     "data": {
      "text/plain": [
       "220"
      ]
     },
     "execution_count": 37,
     "metadata": {},
     "output_type": "execute_result"
    }
   ],
   "source": [
    "sumEvenSquares = sum(i^2 for i in 1:10 if i%2 == 0) # summing over an iterator"
   ]
  },
  {
   "cell_type": "markdown",
   "metadata": {
    "slideshow": {
     "slide_type": "slide"
    }
   },
   "source": [
    "### Package manager\n",
    "\n",
    "Julia has a package manager to quickly download, install, update and uninstall new tools (_packages_)"
   ]
  },
  {
   "cell_type": "markdown",
   "metadata": {
    "slideshow": {
     "slide_type": "subslide"
    }
   },
   "source": [
    "You can enter use the package manager in two ways:\n",
    "- as the 'Pkg' package \n",
    "- by pressing the ']' key\n",
    "\n",
    "Compare those two syntaxes"
   ]
  },
  {
   "cell_type": "code",
   "execution_count": 38,
   "metadata": {
    "collapsed": true,
    "slideshow": {
     "slide_type": "fragment"
    }
   },
   "outputs": [
    {
     "name": "stdout",
     "output_type": "stream",
     "text": [
      "\u001b[32m\u001b[1m  Updating\u001b[22m\u001b[39m registry at `~/.julia/registries/General`\n",
      "\u001b[32m\u001b[1m  Updating\u001b[22m\u001b[39m git-repo `https://github.com/JuliaRegistries/General.git`\n",
      "\u001b[2K\u001b[?25h[1mFetching:\u001b[22m\u001b[39m [========================================>]  99.9 %0.0 %13.5 %>                             ]  27.1 %\u001b[36m\u001b[1mFetching:\u001b[22m\u001b[39m [=================>                       ]  40.6 %             ]  66.5 % [=================================>       ]  80.0 %\u001b[32m\u001b[1m Resolving\u001b[22m\u001b[39m package versions...\n",
      "\u001b[32m\u001b[1m Installed\u001b[22m\u001b[39m SoftGlobalScope ─────── v1.0.8\n",
      "\u001b[32m\u001b[1m Installed\u001b[22m\u001b[39m JSExpr ──────────────── v0.5.0\n",
      "\u001b[32m\u001b[1m Installed\u001b[22m\u001b[39m TableTraits ─────────── v0.4.1\n",
      "\u001b[32m\u001b[1m Installed\u001b[22m\u001b[39m CMake ───────────────── v1.1.1\n",
      "\u001b[32m\u001b[1m Installed\u001b[22m\u001b[39m NLSolversBase ───────── v7.1.2\n",
      "\u001b[32m\u001b[1m Installed\u001b[22m\u001b[39m FunctionalCollections ─ v0.5.0\n",
      "\u001b[32m\u001b[1m Installed\u001b[22m\u001b[39m ImageFiltering ──────── v0.5.2\n",
      "\u001b[32m\u001b[1m Installed\u001b[22m\u001b[39m Interpolations ──────── v0.11.1\n",
      "\u001b[32m\u001b[1m Installed\u001b[22m\u001b[39m Rotations ───────────── v0.9.2\n",
      "\u001b[32m\u001b[1m Installed\u001b[22m\u001b[39m WebSockets ──────────── v1.2.0\n",
      "\u001b[32m\u001b[1m Installed\u001b[22m\u001b[39m StaticArrays ────────── v0.10.2\n",
      "\u001b[32m\u001b[1m  Updating\u001b[22m\u001b[39m `~/.julia/environments/v1.0/Project.toml`\n",
      "\u001b[90m [no changes]\u001b[39m\n",
      "\u001b[32m\u001b[1m  Updating\u001b[22m\u001b[39m `~/.julia/environments/v1.0/Manifest.toml`\n",
      " \u001b[90m [631607c0]\u001b[39m\u001b[93m ↑ CMake v1.1.0 ⇒ v1.1.1\u001b[39m\n",
      " \u001b[90m [de31a74c]\u001b[39m\u001b[93m ↑ FunctionalCollections v0.4.0 ⇒ v0.5.0\u001b[39m\n",
      " \u001b[90m [6a3955dd]\u001b[39m\u001b[93m ↑ ImageFiltering v0.5.1 ⇒ v0.5.2\u001b[39m\n",
      " \u001b[90m [a98d9a8b]\u001b[39m\u001b[93m ↑ Interpolations v0.11.0 ⇒ v0.11.1\u001b[39m\n",
      " \u001b[90m [97c1335a]\u001b[39m\u001b[93m ↑ JSExpr v0.4.0 ⇒ v0.5.0\u001b[39m\n",
      " \u001b[90m [d41bc354]\u001b[39m\u001b[93m ↑ NLSolversBase v7.1.1 ⇒ v7.1.2\u001b[39m\n",
      " \u001b[90m [6038ab10]\u001b[39m\u001b[93m ↑ Rotations v0.9.1 ⇒ v0.9.2\u001b[39m\n",
      " \u001b[90m [b85f4697]\u001b[39m\u001b[93m ↑ SoftGlobalScope v1.0.7 ⇒ v1.0.8\u001b[39m\n",
      " \u001b[90m [90137ffa]\u001b[39m\u001b[93m ↑ StaticArrays v0.10.0 ⇒ v0.10.2\u001b[39m\n",
      " \u001b[90m [3783bdb8]\u001b[39m\u001b[93m ↑ TableTraits v0.4.0 ⇒ v0.4.1\u001b[39m\n",
      " \u001b[90m [0f1e0344]\u001b[39m\u001b[93m ↑ WebIO v0.6.1 ⇒ v0.7.0\u001b[39m\n",
      " \u001b[90m [104b5d7c]\u001b[39m\u001b[93m ↑ WebSockets v1.1.1 ⇒ v1.2.0\u001b[39m\n",
      "\u001b[32m\u001b[1m  Building\u001b[22m\u001b[39m CMake → `~/.julia/packages/CMake/ZGawK/deps/build.log`\n"
     ]
    }
   ],
   "source": [
    "] add DataFrames"
   ]
  },
  {
   "cell_type": "markdown",
   "metadata": {
    "slideshow": {
     "slide_type": "fragment"
    }
   },
   "source": [
    "and"
   ]
  },
  {
   "cell_type": "code",
   "execution_count": 39,
   "metadata": {
    "slideshow": {
     "slide_type": "fragment"
    }
   },
   "outputs": [
    {
     "name": "stdout",
     "output_type": "stream",
     "text": [
      "\u001b[32m\u001b[1m Resolving\u001b[22m\u001b[39m package versions...\n",
      "\u001b[32m\u001b[1m  Updating\u001b[22m\u001b[39m `~/.julia/environments/v1.0/Project.toml`\n",
      "\u001b[90m [no changes]\u001b[39m\n",
      "\u001b[32m\u001b[1m  Updating\u001b[22m\u001b[39m `~/.julia/environments/v1.0/Manifest.toml`\n",
      "\u001b[90m [no changes]\u001b[39m\n"
     ]
    }
   ],
   "source": [
    "using Pkg\n",
    "Pkg.add(\"DataFrames\")"
   ]
  },
  {
   "cell_type": "markdown",
   "metadata": {
    "slideshow": {
     "slide_type": "subslide"
    }
   },
   "source": [
    "By default, Julia has many built-in packages. And **over 1,900 registered packages**!"
   ]
  },
  {
   "cell_type": "markdown",
   "metadata": {
    "slideshow": {
     "slide_type": "subslide"
    }
   },
   "source": [
    "** LinearAlgebra **"
   ]
  },
  {
   "cell_type": "code",
   "execution_count": 40,
   "metadata": {
    "collapsed": true,
    "slideshow": {
     "slide_type": "fragment"
    }
   },
   "outputs": [],
   "source": [
    "using LinearAlgebra"
   ]
  },
  {
   "cell_type": "code",
   "execution_count": 41,
   "metadata": {
    "slideshow": {
     "slide_type": "fragment"
    }
   },
   "outputs": [
    {
     "data": {
      "text/plain": [
       "3×3 Array{Float64,2}:\n",
       " 1.0  0.0  0.0\n",
       " 0.0  1.0  0.0\n",
       " 0.0  0.0  1.0"
      ]
     },
     "execution_count": 41,
     "metadata": {},
     "output_type": "execute_result"
    }
   ],
   "source": [
    "LinearAlgebra.Matrix(1.0LinearAlgebra.I, 3, 3) #Defines the identity matrix"
   ]
  },
  {
   "cell_type": "code",
   "execution_count": 42,
   "metadata": {
    "slideshow": {
     "slide_type": "fragment"
    }
   },
   "outputs": [
    {
     "data": {
      "text/plain": [
       "3-element Array{Float64,1}:\n",
       " -2.0               \n",
       " -0.7015621187164252\n",
       "  5.701562118716413 "
      ]
     },
     "execution_count": 42,
     "metadata": {},
     "output_type": "execute_result"
    }
   ],
   "source": [
    "eigenValues, eigenVectors = LinearAlgebra.eigen(A)\n",
    "eigenValues"
   ]
  },
  {
   "cell_type": "markdown",
   "metadata": {
    "collapsed": true,
    "slideshow": {
     "slide_type": "subslide"
    }
   },
   "source": [
    "** Statistics **"
   ]
  },
  {
   "cell_type": "code",
   "execution_count": 43,
   "metadata": {
    "slideshow": {
     "slide_type": "fragment"
    }
   },
   "outputs": [
    {
     "data": {
      "text/plain": [
       "1.8888888888888888"
      ]
     },
     "execution_count": 43,
     "metadata": {},
     "output_type": "execute_result"
    }
   ],
   "source": [
    "using Statistics\n",
    "Statistics.mean(A)"
   ]
  },
  {
   "cell_type": "code",
   "execution_count": 44,
   "metadata": {
    "slideshow": {
     "slide_type": "fragment"
    }
   },
   "outputs": [
    {
     "data": {
      "text/plain": [
       "2.0"
      ]
     },
     "execution_count": 44,
     "metadata": {},
     "output_type": "execute_result"
    }
   ],
   "source": [
    "Statistics.median(A)"
   ]
  },
  {
   "cell_type": "markdown",
   "metadata": {
    "slideshow": {
     "slide_type": "subslide"
    }
   },
   "source": [
    "** Random **"
   ]
  },
  {
   "cell_type": "code",
   "execution_count": 45,
   "metadata": {
    "collapsed": true,
    "slideshow": {
     "slide_type": "fragment"
    }
   },
   "outputs": [],
   "source": [
    "using Random"
   ]
  },
  {
   "cell_type": "code",
   "execution_count": 46,
   "metadata": {
    "collapsed": true,
    "slideshow": {
     "slide_type": "fragment"
    }
   },
   "outputs": [
    {
     "data": {
      "text/plain": [
       "MersenneTwister(UInt32[0x0000000a], Random.DSFMT.DSFMT_state(Int32[1007524736, 1073256705, 415953332, 1072893275, -601364280, 1073193666, -1335760268, 1072926448, 1521827180, 1073499520  …  -439825479, 1072978026, -411693740, 1073111955, -1611334130, 1963385220, 236575170, -789052601, 382, 0]), [0.0, 0.0, 0.0, 0.0, 0.0, 0.0, 0.0, 0.0, 0.0, 0.0  …  0.0, 0.0, 0.0, 0.0, 0.0, 0.0, 0.0, 0.0, 0.0, 0.0], UInt128[0x00000000000000000000000000000000, 0x00000000000000000000000000000000, 0x00000000000000000000000000000000, 0x00000000000000000000000000000000, 0x00000000000000000000000000000000, 0x00000000000000000000000000000000, 0x00000000000000000000000000000000, 0x00000000000000000000000000000000, 0x00000000000000000000000000000000, 0x00000000000000000000000000000000  …  0x00000000000000000000000000000000, 0x00000000000000000000000000000000, 0x00000000000000000000000000000000, 0x00000000000000000000000000000000, 0x00000000000000000000000000000000, 0x00000000000000000000000000000000, 0x00000000000000000000000000000000, 0x00000000000000000000000000000000, 0x00000000000000000000000000000000, 0x00000000000000000000000000000000], 1002, 0)"
      ]
     },
     "execution_count": 46,
     "metadata": {},
     "output_type": "execute_result"
    }
   ],
   "source": [
    "Random.seed!(10)"
   ]
  },
  {
   "cell_type": "code",
   "execution_count": 47,
   "metadata": {
    "collapsed": true,
    "slideshow": {
     "slide_type": "fragment"
    }
   },
   "outputs": [
    {
     "data": {
      "text/plain": [
       "5-element Array{Int64,1}:\n",
       " 5\n",
       " 1\n",
       " 4\n",
       " 2\n",
       " 3"
      ]
     },
     "execution_count": 47,
     "metadata": {},
     "output_type": "execute_result"
    }
   ],
   "source": [
    "Random.randperm(5)"
   ]
  },
  {
   "cell_type": "code",
   "execution_count": 48,
   "metadata": {
    "collapsed": true,
    "slideshow": {
     "slide_type": "fragment"
    }
   },
   "outputs": [
    {
     "data": {
      "text/plain": [
       "5-element Array{Int64,1}:\n",
       " 5\n",
       " 1\n",
       " 2\n",
       " 3\n",
       " 4"
      ]
     },
     "execution_count": 48,
     "metadata": {},
     "output_type": "execute_result"
    }
   ],
   "source": [
    "Random.shuffle(1:5)"
   ]
  },
  {
   "cell_type": "markdown",
   "metadata": {
    "slideshow": {
     "slide_type": "subslide"
    }
   },
   "source": [
    "Use `?` to get the documentation of a function"
   ]
  },
  {
   "cell_type": "code",
   "execution_count": 49,
   "metadata": {
    "collapsed": true,
    "slideshow": {
     "slide_type": "fragment"
    }
   },
   "outputs": [
    {
     "name": "stdout",
     "output_type": "stream",
     "text": [
      "search: \u001b[0m\u001b[1me\u001b[22m\u001b[0m\u001b[1mi\u001b[22m\u001b[0m\u001b[1mg\u001b[22m\u001b[0m\u001b[1me\u001b[22m\u001b[0m\u001b[1mn\u001b[22m \u001b[0m\u001b[1me\u001b[22m\u001b[0m\u001b[1mi\u001b[22m\u001b[0m\u001b[1mg\u001b[22m\u001b[0m\u001b[1me\u001b[22m\u001b[0m\u001b[1mn\u001b[22m! \u001b[0m\u001b[1mE\u001b[22m\u001b[0m\u001b[1mi\u001b[22m\u001b[0m\u001b[1mg\u001b[22m\u001b[0m\u001b[1me\u001b[22m\u001b[0m\u001b[1mn\u001b[22m \u001b[0m\u001b[1me\u001b[22m\u001b[0m\u001b[1mi\u001b[22m\u001b[0m\u001b[1mg\u001b[22m\u001b[0m\u001b[1me\u001b[22m\u001b[0m\u001b[1mn\u001b[22mValues \u001b[0m\u001b[1me\u001b[22m\u001b[0m\u001b[1mi\u001b[22m\u001b[0m\u001b[1mg\u001b[22m\u001b[0m\u001b[1me\u001b[22m\u001b[0m\u001b[1mn\u001b[22mVectors G\u001b[0m\u001b[1me\u001b[22mneral\u001b[0m\u001b[1mi\u001b[22mzedEi\u001b[0m\u001b[1mg\u001b[22m\u001b[0m\u001b[1me\u001b[22m\u001b[0m\u001b[1mn\u001b[22m \u001b[0m\u001b[1me\u001b[22m\u001b[0m\u001b[1mi\u001b[22m\u001b[0m\u001b[1mg\u001b[22mv\u001b[0m\u001b[1me\u001b[22mcs\n",
      "\n"
     ]
    },
    {
     "data": {
      "text/markdown": [
       "```\n",
       "eigen(A; permute::Bool=true, scale::Bool=true) -> Eigen\n",
       "```\n",
       "\n",
       "Computes the eigenvalue decomposition of `A`, returning an `Eigen` factorization object `F` which contains the eigenvalues in `F.values` and the eigenvectors in the columns of the matrix `F.vectors`. (The `k`th eigenvector can be obtained from the slice `F.vectors[:, k]`.)\n",
       "\n",
       "Iterating the decomposition produces the components `F.values` and `F.vectors`.\n",
       "\n",
       "The following functions are available for `Eigen` objects: [`inv`](@ref), [`det`](@ref), and [`isposdef`](@ref).\n",
       "\n",
       "For general nonsymmetric matrices it is possible to specify how the matrix is balanced before the eigenvector calculation. The option `permute=true` permutes the matrix to become closer to upper triangular, and `scale=true` scales the matrix by its diagonal elements to make rows and columns more equal in norm. The default is `true` for both options.\n",
       "\n",
       "# Examples\n",
       "\n",
       "```jldoctest\n",
       "julia> F = eigen([1.0 0.0 0.0; 0.0 3.0 0.0; 0.0 0.0 18.0])\n",
       "Eigen{Float64,Float64,Array{Float64,2},Array{Float64,1}}\n",
       "eigenvalues:\n",
       "3-element Array{Float64,1}:\n",
       "  1.0\n",
       "  3.0\n",
       " 18.0\n",
       "eigenvectors:\n",
       "3×3 Array{Float64,2}:\n",
       " 1.0  0.0  0.0\n",
       " 0.0  1.0  0.0\n",
       " 0.0  0.0  1.0\n",
       "\n",
       "julia> F.values\n",
       "3-element Array{Float64,1}:\n",
       "  1.0\n",
       "  3.0\n",
       " 18.0\n",
       "\n",
       "julia> F.vectors\n",
       "3×3 Array{Float64,2}:\n",
       " 1.0  0.0  0.0\n",
       " 0.0  1.0  0.0\n",
       " 0.0  0.0  1.0\n",
       "\n",
       "julia> vals, vecs = F; # destructuring via iteration\n",
       "\n",
       "julia> vals == F.values && vecs == F.vectors\n",
       "true\n",
       "```\n",
       "\n",
       "---\n",
       "\n",
       "```\n",
       "eigen(A, B) -> GeneralizedEigen\n",
       "```\n",
       "\n",
       "Computes the generalized eigenvalue decomposition of `A` and `B`, returning a `GeneralizedEigen` factorization object `F` which contains the generalized eigenvalues in `F.values` and the generalized eigenvectors in the columns of the matrix `F.vectors`. (The `k`th generalized eigenvector can be obtained from the slice `F.vectors[:, k]`.)\n",
       "\n",
       "Iterating the decomposition produces the components `F.values` and `F.vectors`.\n",
       "\n",
       "# Examples\n",
       "\n",
       "```jldoctest\n",
       "julia> A = [1 0; 0 -1]\n",
       "2×2 Array{Int64,2}:\n",
       " 1   0\n",
       " 0  -1\n",
       "\n",
       "julia> B = [0 1; 1 0]\n",
       "2×2 Array{Int64,2}:\n",
       " 0  1\n",
       " 1  0\n",
       "\n",
       "julia> F = eigen(A, B);\n",
       "\n",
       "julia> F.values\n",
       "2-element Array{Complex{Float64},1}:\n",
       " 0.0 + 1.0im\n",
       " 0.0 - 1.0im\n",
       "\n",
       "julia> F.vectors\n",
       "2×2 Array{Complex{Float64},2}:\n",
       "  0.0-1.0im   0.0+1.0im\n",
       " -1.0-0.0im  -1.0+0.0im\n",
       "\n",
       "julia> vals, vecs = F; # destructuring via iteration\n",
       "\n",
       "julia> vals == F.values && vecs == F.vectors\n",
       "true\n",
       "```\n",
       "\n",
       "---\n",
       "\n",
       "```\n",
       "eigen(A::Union{SymTridiagonal, Hermitian, Symmetric}, irange::UnitRange) -> Eigen\n",
       "```\n",
       "\n",
       "Computes the eigenvalue decomposition of `A`, returning an `Eigen` factorization object `F` which contains the eigenvalues in `F.values` and the eigenvectors in the columns of the matrix `F.vectors`. (The `k`th eigenvector can be obtained from the slice `F.vectors[:, k]`.)\n",
       "\n",
       "Iterating the decomposition produces the components `F.values` and `F.vectors`.\n",
       "\n",
       "The following functions are available for `Eigen` objects: [`inv`](@ref), [`det`](@ref), and [`isposdef`](@ref).\n",
       "\n",
       "The `UnitRange` `irange` specifies indices of the sorted eigenvalues to search for.\n",
       "\n",
       "!!! note\n",
       "    If `irange` is not `1:n`, where `n` is the dimension of `A`, then the returned factorization will be a *truncated* factorization.\n",
       "\n",
       "\n",
       "---\n",
       "\n",
       "```\n",
       "eigen(A::Union{SymTridiagonal, Hermitian, Symmetric}, vl::Real, vu::Real) -> Eigen\n",
       "```\n",
       "\n",
       "Computes the eigenvalue decomposition of `A`, returning an `Eigen` factorization object `F` which contains the eigenvalues in `F.values` and the eigenvectors in the columns of the matrix `F.vectors`. (The `k`th eigenvector can be obtained from the slice `F.vectors[:, k]`.)\n",
       "\n",
       "Iterating the decomposition produces the components `F.values` and `F.vectors`.\n",
       "\n",
       "The following functions are available for `Eigen` objects: [`inv`](@ref), [`det`](@ref), and [`isposdef`](@ref).\n",
       "\n",
       "`vl` is the lower bound of the window of eigenvalues to search for, and `vu` is the upper bound.\n",
       "\n",
       "!!! note\n",
       "    If [`vl`, `vu`] does not contain all eigenvalues of `A`, then the returned factorization will be a *truncated* factorization.\n",
       "\n"
      ],
      "text/plain": [
       "\u001b[36m  eigen(A; permute::Bool=true, scale::Bool=true) -> Eigen\u001b[39m\n",
       "\n",
       "  Computes the eigenvalue decomposition of \u001b[36mA\u001b[39m, returning an \u001b[36mEigen\u001b[39m factorization\n",
       "  object \u001b[36mF\u001b[39m which contains the eigenvalues in \u001b[36mF.values\u001b[39m and the eigenvectors in\n",
       "  the columns of the matrix \u001b[36mF.vectors\u001b[39m. (The \u001b[36mk\u001b[39mth eigenvector can be obtained\n",
       "  from the slice \u001b[36mF.vectors[:, k]\u001b[39m.)\n",
       "\n",
       "  Iterating the decomposition produces the components \u001b[36mF.values\u001b[39m and \u001b[36mF.vectors\u001b[39m.\n",
       "\n",
       "  The following functions are available for \u001b[36mEigen\u001b[39m objects: \u001b[36minv\u001b[39m, \u001b[36mdet\u001b[39m, and\n",
       "  \u001b[36misposdef\u001b[39m.\n",
       "\n",
       "  For general nonsymmetric matrices it is possible to specify how the matrix\n",
       "  is balanced before the eigenvector calculation. The option \u001b[36mpermute=true\u001b[39m\n",
       "  permutes the matrix to become closer to upper triangular, and \u001b[36mscale=true\u001b[39m\n",
       "  scales the matrix by its diagonal elements to make rows and columns more\n",
       "  equal in norm. The default is \u001b[36mtrue\u001b[39m for both options.\n",
       "\n",
       "\u001b[1m  Examples\u001b[22m\n",
       "\u001b[1m  ≡≡≡≡≡≡≡≡≡≡\u001b[22m\n",
       "\n",
       "\u001b[36m  julia> F = eigen([1.0 0.0 0.0; 0.0 3.0 0.0; 0.0 0.0 18.0])\u001b[39m\n",
       "\u001b[36m  Eigen{Float64,Float64,Array{Float64,2},Array{Float64,1}}\u001b[39m\n",
       "\u001b[36m  eigenvalues:\u001b[39m\n",
       "\u001b[36m  3-element Array{Float64,1}:\u001b[39m\n",
       "\u001b[36m    1.0\u001b[39m\n",
       "\u001b[36m    3.0\u001b[39m\n",
       "\u001b[36m   18.0\u001b[39m\n",
       "\u001b[36m  eigenvectors:\u001b[39m\n",
       "\u001b[36m  3×3 Array{Float64,2}:\u001b[39m\n",
       "\u001b[36m   1.0  0.0  0.0\u001b[39m\n",
       "\u001b[36m   0.0  1.0  0.0\u001b[39m\n",
       "\u001b[36m   0.0  0.0  1.0\u001b[39m\n",
       "\u001b[36m  \u001b[39m\n",
       "\u001b[36m  julia> F.values\u001b[39m\n",
       "\u001b[36m  3-element Array{Float64,1}:\u001b[39m\n",
       "\u001b[36m    1.0\u001b[39m\n",
       "\u001b[36m    3.0\u001b[39m\n",
       "\u001b[36m   18.0\u001b[39m\n",
       "\u001b[36m  \u001b[39m\n",
       "\u001b[36m  julia> F.vectors\u001b[39m\n",
       "\u001b[36m  3×3 Array{Float64,2}:\u001b[39m\n",
       "\u001b[36m   1.0  0.0  0.0\u001b[39m\n",
       "\u001b[36m   0.0  1.0  0.0\u001b[39m\n",
       "\u001b[36m   0.0  0.0  1.0\u001b[39m\n",
       "\u001b[36m  \u001b[39m\n",
       "\u001b[36m  julia> vals, vecs = F; # destructuring via iteration\u001b[39m\n",
       "\u001b[36m  \u001b[39m\n",
       "\u001b[36m  julia> vals == F.values && vecs == F.vectors\u001b[39m\n",
       "\u001b[36m  true\u001b[39m\n",
       "\n",
       "  ────────────────────────────────────────────────────────────────────────────\n",
       "\n",
       "\u001b[36m  eigen(A, B) -> GeneralizedEigen\u001b[39m\n",
       "\n",
       "  Computes the generalized eigenvalue decomposition of \u001b[36mA\u001b[39m and \u001b[36mB\u001b[39m, returning a\n",
       "  \u001b[36mGeneralizedEigen\u001b[39m factorization object \u001b[36mF\u001b[39m which contains the generalized\n",
       "  eigenvalues in \u001b[36mF.values\u001b[39m and the generalized eigenvectors in the columns of\n",
       "  the matrix \u001b[36mF.vectors\u001b[39m. (The \u001b[36mk\u001b[39mth generalized eigenvector can be obtained from\n",
       "  the slice \u001b[36mF.vectors[:, k]\u001b[39m.)\n",
       "\n",
       "  Iterating the decomposition produces the components \u001b[36mF.values\u001b[39m and \u001b[36mF.vectors\u001b[39m.\n",
       "\n",
       "\u001b[1m  Examples\u001b[22m\n",
       "\u001b[1m  ≡≡≡≡≡≡≡≡≡≡\u001b[22m\n",
       "\n",
       "\u001b[36m  julia> A = [1 0; 0 -1]\u001b[39m\n",
       "\u001b[36m  2×2 Array{Int64,2}:\u001b[39m\n",
       "\u001b[36m   1   0\u001b[39m\n",
       "\u001b[36m   0  -1\u001b[39m\n",
       "\u001b[36m  \u001b[39m\n",
       "\u001b[36m  julia> B = [0 1; 1 0]\u001b[39m\n",
       "\u001b[36m  2×2 Array{Int64,2}:\u001b[39m\n",
       "\u001b[36m   0  1\u001b[39m\n",
       "\u001b[36m   1  0\u001b[39m\n",
       "\u001b[36m  \u001b[39m\n",
       "\u001b[36m  julia> F = eigen(A, B);\u001b[39m\n",
       "\u001b[36m  \u001b[39m\n",
       "\u001b[36m  julia> F.values\u001b[39m\n",
       "\u001b[36m  2-element Array{Complex{Float64},1}:\u001b[39m\n",
       "\u001b[36m   0.0 + 1.0im\u001b[39m\n",
       "\u001b[36m   0.0 - 1.0im\u001b[39m\n",
       "\u001b[36m  \u001b[39m\n",
       "\u001b[36m  julia> F.vectors\u001b[39m\n",
       "\u001b[36m  2×2 Array{Complex{Float64},2}:\u001b[39m\n",
       "\u001b[36m    0.0-1.0im   0.0+1.0im\u001b[39m\n",
       "\u001b[36m   -1.0-0.0im  -1.0+0.0im\u001b[39m\n",
       "\u001b[36m  \u001b[39m\n",
       "\u001b[36m  julia> vals, vecs = F; # destructuring via iteration\u001b[39m\n",
       "\u001b[36m  \u001b[39m\n",
       "\u001b[36m  julia> vals == F.values && vecs == F.vectors\u001b[39m\n",
       "\u001b[36m  true\u001b[39m\n",
       "\n",
       "  ────────────────────────────────────────────────────────────────────────────\n",
       "\n",
       "\u001b[36m  eigen(A::Union{SymTridiagonal, Hermitian, Symmetric}, irange::UnitRange) -> Eigen\u001b[39m\n",
       "\n",
       "  Computes the eigenvalue decomposition of \u001b[36mA\u001b[39m, returning an \u001b[36mEigen\u001b[39m factorization\n",
       "  object \u001b[36mF\u001b[39m which contains the eigenvalues in \u001b[36mF.values\u001b[39m and the eigenvectors in\n",
       "  the columns of the matrix \u001b[36mF.vectors\u001b[39m. (The \u001b[36mk\u001b[39mth eigenvector can be obtained\n",
       "  from the slice \u001b[36mF.vectors[:, k]\u001b[39m.)\n",
       "\n",
       "  Iterating the decomposition produces the components \u001b[36mF.values\u001b[39m and \u001b[36mF.vectors\u001b[39m.\n",
       "\n",
       "  The following functions are available for \u001b[36mEigen\u001b[39m objects: \u001b[36minv\u001b[39m, \u001b[36mdet\u001b[39m, and\n",
       "  \u001b[36misposdef\u001b[39m.\n",
       "\n",
       "  The \u001b[36mUnitRange\u001b[39m \u001b[36mirange\u001b[39m specifies indices of the sorted eigenvalues to search\n",
       "  for.\n",
       "\n",
       "\u001b[36m\u001b[1m  │ \u001b[22m\u001b[39m\u001b[36m\u001b[1mNote\u001b[22m\u001b[39m\n",
       "\u001b[36m\u001b[1m  │\u001b[22m\u001b[39m\n",
       "\u001b[36m\u001b[1m  │\u001b[22m\u001b[39m  If \u001b[36mirange\u001b[39m is not \u001b[36m1:n\u001b[39m, where \u001b[36mn\u001b[39m is the dimension of \u001b[36mA\u001b[39m, then the\n",
       "\u001b[36m\u001b[1m  │\u001b[22m\u001b[39m  returned factorization will be a \u001b[4mtruncated\u001b[24m factorization.\n",
       "\n",
       "  ────────────────────────────────────────────────────────────────────────────\n",
       "\n",
       "\u001b[36m  eigen(A::Union{SymTridiagonal, Hermitian, Symmetric}, vl::Real, vu::Real) -> Eigen\u001b[39m\n",
       "\n",
       "  Computes the eigenvalue decomposition of \u001b[36mA\u001b[39m, returning an \u001b[36mEigen\u001b[39m factorization\n",
       "  object \u001b[36mF\u001b[39m which contains the eigenvalues in \u001b[36mF.values\u001b[39m and the eigenvectors in\n",
       "  the columns of the matrix \u001b[36mF.vectors\u001b[39m. (The \u001b[36mk\u001b[39mth eigenvector can be obtained\n",
       "  from the slice \u001b[36mF.vectors[:, k]\u001b[39m.)\n",
       "\n",
       "  Iterating the decomposition produces the components \u001b[36mF.values\u001b[39m and \u001b[36mF.vectors\u001b[39m.\n",
       "\n",
       "  The following functions are available for \u001b[36mEigen\u001b[39m objects: \u001b[36minv\u001b[39m, \u001b[36mdet\u001b[39m, and\n",
       "  \u001b[36misposdef\u001b[39m.\n",
       "\n",
       "  \u001b[36mvl\u001b[39m is the lower bound of the window of eigenvalues to search for, and \u001b[36mvu\u001b[39m is\n",
       "  the upper bound.\n",
       "\n",
       "\u001b[36m\u001b[1m  │ \u001b[22m\u001b[39m\u001b[36m\u001b[1mNote\u001b[22m\u001b[39m\n",
       "\u001b[36m\u001b[1m  │\u001b[22m\u001b[39m\n",
       "\u001b[36m\u001b[1m  │\u001b[22m\u001b[39m  If [\u001b[36mvl\u001b[39m, \u001b[36mvu\u001b[39m] does not contain all eigenvalues of \u001b[36mA\u001b[39m, then the\n",
       "\u001b[36m\u001b[1m  │\u001b[22m\u001b[39m  returned factorization will be a \u001b[4mtruncated\u001b[24m factorization."
      ]
     },
     "execution_count": 49,
     "metadata": {},
     "output_type": "execute_result"
    }
   ],
   "source": [
    "?eigen"
   ]
  },
  {
   "cell_type": "markdown",
   "metadata": {
    "slideshow": {
     "slide_type": "subslide"
    }
   },
   "source": [
    "Use tab-completion to auto-complete functions and variables names: try ``myF<TAB>``:"
   ]
  },
  {
   "cell_type": "code",
   "execution_count": 50,
   "metadata": {
    "slideshow": {
     "slide_type": "fragment"
    }
   },
   "outputs": [
    {
     "data": {
      "text/plain": [
       "factorial (generic function with 7 methods)"
      ]
     },
     "execution_count": 50,
     "metadata": {},
     "output_type": "execute_result"
    }
   ],
   "source": [
    "myFunction\n",
    "factorial"
   ]
  },
  {
   "cell_type": "markdown",
   "metadata": {
    "slideshow": {
     "slide_type": "subslide"
    }
   },
   "source": [
    "The ``methods`` function lists all of the different implementations of a function depending on the input types.\n",
    "Click on the link to see the Julia source code."
   ]
  },
  {
   "cell_type": "code",
   "execution_count": 51,
   "metadata": {
    "collapsed": true,
    "slideshow": {
     "slide_type": "fragment"
    }
   },
   "outputs": [
    {
     "data": {
      "text/html": [
       "12 methods for generic function <b>sin</b>:<ul><li> sin(x::<b>BigFloat</b>) in Base.MPFR at <a href=\"https://github.com/JuliaLang/julia/tree/0d713926f85dfa3e4e0962215b909b8e47e94f48/base/mpfr.jl#L683\" target=\"_blank\">mpfr.jl:683</a></li> <li> sin(::<b>Missing</b>) in Base.Math at <a href=\"https://github.com/JuliaLang/julia/tree/0d713926f85dfa3e4e0962215b909b8e47e94f48/base/math.jl#L1070\" target=\"_blank\">math.jl:1070</a></li> <li> sin(a::<b>Complex{Float16}</b>) in Base.Math at <a href=\"https://github.com/JuliaLang/julia/tree/0d713926f85dfa3e4e0962215b909b8e47e94f48/base/math.jl#L1019\" target=\"_blank\">math.jl:1019</a></li> <li> sin(a::<b>Float16</b>) in Base.Math at <a href=\"https://github.com/JuliaLang/julia/tree/0d713926f85dfa3e4e0962215b909b8e47e94f48/base/math.jl#L1018\" target=\"_blank\">math.jl:1018</a></li> <li> sin<i>{T}</i>(z::<b>Complex{T}</b>) in Base at <a href=\"https://github.com/JuliaLang/julia/tree/0d713926f85dfa3e4e0962215b909b8e47e94f48/base/complex.jl#L760\" target=\"_blank\">complex.jl:760</a></li> <li> sin<i>{T<:Union{Float32, Float64}}</i>(x::<b>T</b>) in Base.Math at <a href=\"https://github.com/JuliaLang/julia/tree/0d713926f85dfa3e4e0962215b909b8e47e94f48/base/special/trig.jl#L30\" target=\"_blank\">special/trig.jl:30</a></li> <li> sin(x::<b>Real</b>) in Base.Math at <a href=\"https://github.com/JuliaLang/julia/tree/0d713926f85dfa3e4e0962215b909b8e47e94f48/base/special/trig.jl#L53\" target=\"_blank\">special/trig.jl:53</a></li> <li> sin(A::<b>Hermitian{#s560,S} where S<:(AbstractArray{#s561,2} where #s561<:#s560) where #s560<:Complex</b>) in LinearAlgebra at <a href=\"file:///Users/osx/buildbot/slave/package_osx64/build/usr/share/julia/stdlib/v1.0/LinearAlgebra/src/symmetric.jl\" target=\"_blank\">/Users/osx/buildbot/slave/package_osx64/build/usr/share/julia/stdlib/v1.0/LinearAlgebra/src/symmetric.jl:720</a></li> <li> sin(A::<b>Union{Hermitian{#s561,S}, Symmetric{#s561,S}} where S where #s561<:Real</b>) in LinearAlgebra at <a href=\"file:///Users/osx/buildbot/slave/package_osx64/build/usr/share/julia/stdlib/v1.0/LinearAlgebra/src/symmetric.jl\" target=\"_blank\">/Users/osx/buildbot/slave/package_osx64/build/usr/share/julia/stdlib/v1.0/LinearAlgebra/src/symmetric.jl:716</a></li> <li> sin(D::<b>Diagonal</b>) in LinearAlgebra at <a href=\"file:///Users/osx/buildbot/slave/package_osx64/build/usr/share/julia/stdlib/v1.0/LinearAlgebra/src/diagonal.jl\" target=\"_blank\">/Users/osx/buildbot/slave/package_osx64/build/usr/share/julia/stdlib/v1.0/LinearAlgebra/src/diagonal.jl:424</a></li> <li> sin(A::<b>AbstractArray{#s561,2} where #s561<:Real</b>) in LinearAlgebra at <a href=\"file:///Users/osx/buildbot/slave/package_osx64/build/usr/share/julia/stdlib/v1.0/LinearAlgebra/src/dense.jl\" target=\"_blank\">/Users/osx/buildbot/slave/package_osx64/build/usr/share/julia/stdlib/v1.0/LinearAlgebra/src/dense.jl:770</a></li> <li> sin(A::<b>AbstractArray{#s561,2} where #s561<:Complex</b>) in LinearAlgebra at <a href=\"file:///Users/osx/buildbot/slave/package_osx64/build/usr/share/julia/stdlib/v1.0/LinearAlgebra/src/dense.jl\" target=\"_blank\">/Users/osx/buildbot/slave/package_osx64/build/usr/share/julia/stdlib/v1.0/LinearAlgebra/src/dense.jl:777</a></li> </ul>"
      ],
      "text/plain": [
       "# 12 methods for generic function \"sin\":\n",
       "[1] sin(x::BigFloat) in Base.MPFR at mpfr.jl:683\n",
       "[2] sin(::Missing) in Base.Math at math.jl:1070\n",
       "[3] sin(a::Complex{Float16}) in Base.Math at math.jl:1019\n",
       "[4] sin(a::Float16) in Base.Math at math.jl:1018\n",
       "[5] sin(z::Complex{T}) where T in Base at complex.jl:760\n",
       "[6] sin(x::T) where T<:Union{Float32, Float64} in Base.Math at special/trig.jl:30\n",
       "[7] sin(x::Real) in Base.Math at special/trig.jl:53\n",
       "[8] sin(A::Hermitian{#s560,S} where S<:(AbstractArray{#s561,2} where #s561<:#s560) where #s560<:Complex) in LinearAlgebra at /Users/osx/buildbot/slave/package_osx64/build/usr/share/julia/stdlib/v1.0/LinearAlgebra/src/symmetric.jl:720\n",
       "[9] sin(A::Union{Hermitian{#s561,S}, Symmetric{#s561,S}} where S where #s561<:Real) in LinearAlgebra at /Users/osx/buildbot/slave/package_osx64/build/usr/share/julia/stdlib/v1.0/LinearAlgebra/src/symmetric.jl:716\n",
       "[10] sin(D::Diagonal) in LinearAlgebra at /Users/osx/buildbot/slave/package_osx64/build/usr/share/julia/stdlib/v1.0/LinearAlgebra/src/diagonal.jl:424\n",
       "[11] sin(A::AbstractArray{#s561,2} where #s561<:Real) in LinearAlgebra at /Users/osx/buildbot/slave/package_osx64/build/usr/share/julia/stdlib/v1.0/LinearAlgebra/src/dense.jl:770\n",
       "[12] sin(A::AbstractArray{#s561,2} where #s561<:Complex) in LinearAlgebra at /Users/osx/buildbot/slave/package_osx64/build/usr/share/julia/stdlib/v1.0/LinearAlgebra/src/dense.jl:777"
      ]
     },
     "execution_count": 51,
     "metadata": {},
     "output_type": "execute_result"
    }
   ],
   "source": [
    "methods(sin)"
   ]
  },
  {
   "cell_type": "markdown",
   "metadata": {
    "slideshow": {
     "slide_type": "slide"
    }
   },
   "source": [
    "### Other Julia functionalities (Bonus)\n",
    "We only presented a small subset of Julia functionalities. We list here of few interesting things you may not know."
   ]
  },
  {
   "cell_type": "markdown",
   "metadata": {
    "slideshow": {
     "slide_type": "subslide"
    }
   },
   "source": [
    "**Using the command line from Julia**\n",
    "\n",
    "You can run bash commands directly from Julia by starting the command with a semicolon: `;`"
   ]
  },
  {
   "cell_type": "code",
   "execution_count": 52,
   "metadata": {
    "collapsed": true,
    "slideshow": {
     "slide_type": "fragment"
    }
   },
   "outputs": [
    {
     "name": "stdout",
     "output_type": "stream",
     "text": [
      "1-intro-julia-jupyter-old.ipynb\n",
      "1-julia-basics-complete.ipynb\n",
      "1-julia-basics-slides.slides.html\n",
      "1-julia-basics.ipynb\n",
      "2-julia-data-case.ipynb\n",
      "3-julia-jump-case.ipynb\n",
      "JuMP - Integer Programming (complete).ipynb\n",
      "JuMP - Integer Programming.ipynb\n",
      "README.md\n",
      "data\n",
      "experiment\n",
      "figures\n"
     ]
    }
   ],
   "source": [
    ";ls"
   ]
  },
  {
   "cell_type": "markdown",
   "metadata": {
    "slideshow": {
     "slide_type": "subslide"
    }
   },
   "source": [
    "**Juno**\n",
    "\n",
    "Julia has a very nice and powerful text editor, [_Juno_](http://junolab.org), that is built on [Atom](https://atom.io). It is very similar to the Matlab interface or RStudio. Functionalities include:\n",
    "- Autocomplete\n",
    "- Integrated Plotting\n",
    "- Debugging, Manual, ...\n",
    "\n",
    "It is better suited for serious projects with several files, when an IJulia notebook is not enough."
   ]
  },
  {
   "cell_type": "markdown",
   "metadata": {
    "slideshow": {
     "slide_type": "subslide"
    }
   },
   "source": [
    "**Advanced Julia functionalities**\n",
    "Julia is a state-of-the-art programming language, with lots of useful functionalities, including:\n",
    "- [Powerful Macros](https://docs.julialang.org/en/v1/manual/metaprogramming/#Metaprogramming-1) (meta-programming)\n",
    "- [Code testing](https://docs.julialang.org/en/v1/stdlib/Test/#Basic-Unit-Tests-1)\n",
    "- [User-defined types](https://docs.julialang.org/en/v1/manual/types/#man-types-1), that are as fast as built-in ones.\n",
    "- [Package creation](https://docs.julialang.org/en/v1/stdlib/Pkg/#Creating-your-own-packages-1)"
   ]
  },
  {
   "cell_type": "markdown",
   "metadata": {
    "slideshow": {
     "slide_type": "subslide"
    }
   },
   "source": [
    "** Interesting Packages **\n",
    "Using the Package eco-system, there is almost nothing you cannot achieve:"
   ]
  },
  {
   "cell_type": "markdown",
   "metadata": {
    "slideshow": {
     "slide_type": "fragment"
    }
   },
   "source": [
    "- Advanced Plotting   with [**Plots.jl**](https://juliaplots.github.io). Functionalities include 3D-plots, animated plots, stats plots, home-made plot \"recipes\" ...\n",
    "- Call any python code using [**PyCall.jl**](https://github.com/JuliaPy/PyCall.jl), R code using [**RCall.jl**](https://github.com/JuliaInterop/RCall.jl)\n",
    "- Save and load your variables or environment to a file with [**JLD2.jl**](https://github.com/JuliaIO/JLD2.jl)\n",
    "- Advanced graphs/networks algorithms with [**LightGraphs.jl**](https://github.com/JuliaGraphs/LightGraphs.jl)\n",
    "- Applications in [**Finance**](https://github.com/JuliaQuant), [**Biology**](https://github.com/BioJulia/Bio.jl), [**Stats and Machine Learning**](http://juliastats.github.io), [**Optimization**](http://www.juliaopt.org) (including the great [**JuMP**](https://github.com/JuliaOpt/JuMP.jl) package!)\n",
    "\n",
    "And a lot more in the over 1,900 registered packages!"
   ]
  }
 ],
 "metadata": {
  "kernelspec": {
   "display_name": "Julia 1.0.1",
   "language": "julia",
   "name": "julia-1.0"
  },
  "language_info": {
   "file_extension": ".jl",
   "mimetype": "application/julia",
   "name": "julia",
   "version": "1.0.1"
  }
 },
 "nbformat": 4,
 "nbformat_minor": 2
}
