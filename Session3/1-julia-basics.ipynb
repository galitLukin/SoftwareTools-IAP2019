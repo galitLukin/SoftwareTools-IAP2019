{
 "cells": [
  {
   "cell_type": "markdown",
   "metadata": {
    "slideshow": {
     "slide_type": "slide"
    }
   },
   "source": [
    "# Introduction to Julia\n",
    "<table>\n",
    "<tr>\n",
    "<td> <a href=\"http://julialang.org\"><img src=\"figures/julia.png\" alt=\"Julia\" style=\"width: 500px;\"/></a></td>\n",
    "</tr></table>\n",
    "\n",
    "Jean PAUPHILET, MIT ORC"
   ]
  },
  {
   "cell_type": "code",
   "execution_count": 1,
   "metadata": {},
   "outputs": [
    {
     "data": {
      "text/plain": [
       "2"
      ]
     },
     "execution_count": 1,
     "metadata": {},
     "output_type": "execute_result"
    }
   ],
   "source": [
    "1+1"
   ]
  },
  {
   "cell_type": "markdown",
   "metadata": {
    "slideshow": {
     "slide_type": "subslide"
    }
   },
   "source": [
    "This notebook is an introduction to the **Julia** language and its commonly used IJulia/Jupyter notebook interface. It is based on material developed by Miles Lubin and Sebastien Martin of the MIT Operations Research Center, as well as online [open-source material](http://ucidatascienceinitiative.github.io/IntroToJulia/Html/WhyJulia).\n",
    "\n",
    "This is a broad overview of Julia and Jupyter, with many links to more specific, thorough material. We hope readers will use this resource as a reference."
   ]
  },
  {
   "cell_type": "markdown",
   "metadata": {
    "slideshow": {
     "slide_type": "slide"
    }
   },
   "source": [
    "## Why Julia?\n",
    "\n",
    "Quoting the [Julia website](http://julialang.org):\n",
    "> Julia is a **high-level**, **high-performance** **dynamic** programming language for **technical computing**, with syntax that is familiar to users of other technical computing environments. It provides a sophisticated compiler, distributed parallel execution, numerical accuracy, and an extensive mathematical function library."
   ]
  },
  {
   "cell_type": "markdown",
   "metadata": {
    "slideshow": {
     "slide_type": "subslide"
    }
   },
   "source": [
    "A **high-level** language:\n",
    "\n",
    "- Easy to use and learn, with a similar syntax to Python/Matlab. \n",
    "- It is possible to do complicated computations quickly."
   ]
  },
  {
   "cell_type": "markdown",
   "metadata": {
    "slideshow": {
     "slide_type": "fragment"
    }
   },
   "source": [
    "For example, Solving $Ax = b$ with \n",
    "$A = \\begin{pmatrix}\n",
    " 1 & 2 & 3\\\\ \n",
    " 2 & 1 & 2\\\\ \n",
    " 3 & 2 & 1\n",
    "\\end{pmatrix}$\n",
    "and $b = \\begin{pmatrix}\n",
    " 1 \\\\ \n",
    " 1 \\\\ \n",
    " 1 \n",
    "\\end{pmatrix}$\n",
    "is as simple as:"
   ]
  },
  {
   "cell_type": "code",
   "execution_count": 2,
   "metadata": {
    "slideshow": {
     "slide_type": "fragment"
    }
   },
   "outputs": [
    {
     "data": {
      "text/plain": [
       "3-element Array{Float64,1}:\n",
       "  0.25\n",
       " -0.0 \n",
       "  0.25"
      ]
     },
     "execution_count": 2,
     "metadata": {},
     "output_type": "execute_result"
    }
   ],
   "source": [
    "A = [1 2 3\n",
    "     2 1 2\n",
    "     3 2 1]\n",
    "\n",
    "b = [1,1,1]\n",
    "A\\b"
   ]
  },
  {
   "cell_type": "markdown",
   "metadata": {},
   "source": [
    "$ \\alpha = 1$"
   ]
  },
  {
   "cell_type": "markdown",
   "metadata": {
    "slideshow": {
     "slide_type": "subslide"
    }
   },
   "source": [
    "A **dynamic** language:\n",
    "\n",
    "- Julia is, like Python, Matlab or R, a dynamic language: you can interact with the language without the need to compile your code. Static or compiled languages, like C or Fortran, are more complicated to use but generally faster, and thus used when there is a need for time-efficient computations. \n",
    "\n",
    "- Two-language approach: use high level languages for research and scripting, then translate the final result into a static language for performance."
   ]
  },
  {
   "cell_type": "markdown",
   "metadata": {
    "slideshow": {
     "slide_type": "subslide"
    }
   },
   "source": [
    "A **high-performance** language:\n",
    "- Julia is fast. Thanks to _multiple dispatch_, a strong _type system_, and _just-in-time compilation_, it can reach performance comparable to C and Fortran.\n",
    "<a href=\"http://nbviewer.jupyter.org/url/julialang.org/benchmarks/benchmarks.ipynb\"><img src=\"figures/Julia-benchmarks.png\" alt=\"Julia\" style=\"width: 1500px;\"/></a>"
   ]
  },
  {
   "cell_type": "markdown",
   "metadata": {
    "slideshow": {
     "slide_type": "subslide"
    }
   },
   "source": [
    "A **vivid** open-source community:\n",
    "- Julia is among the top 10 languages on Github, measured by stars and forks.\n",
    "- A lot of exciting projects to build a first-class language for ML/AI (data with missing values, GPU support, numeric differenciation,...)\n",
    "<img src=\"figures/stars.png\" alt=\"Julia\" style=\"width: 1500px;\"/>"
   ]
  },
  {
   "cell_type": "markdown",
   "metadata": {
    "slideshow": {
     "slide_type": "slide"
    }
   },
   "source": [
    "## Jupyter/IJulia notebook basics\n",
    "For this session, we will use Julia through a Jupyter notebook, a useful tool (originally for Python) made available to Julia by the IJulia project."
   ]
  },
  {
   "cell_type": "markdown",
   "metadata": {
    "slideshow": {
     "slide_type": "subslide"
    }
   },
   "source": [
    "### What is a Jupyter Notebook?\n",
    "- Jupyter notebooks are **documents** (like a Word document) that can contain and run code.\n",
    "- They were originally created for Python as part of the IPython project, and adapted for Julia by the **IJulia** project.\n",
    "- They are very useful to **prototype**, draw **plots**, or even for teaching material like this one.\n",
    "- The document relies only on a modern browser for rendering, and can easily be **shared**."
   ]
  },
  {
   "cell_type": "markdown",
   "metadata": {
    "slideshow": {
     "slide_type": "subslide"
    }
   },
   "source": [
    "### Installing IJulia and loading this notebook\n",
    "Once Julia is installed, start julia and just run the following command to install the `IJulia` package (you did this on the pre-assignment).\n",
    "```jl\n",
    "Pkg.install(\"IJulia\")\n",
    "```\n",
    "This should work on its own. If there is any issue, check out the [IJulia website](https://github.com/JuliaLang/IJulia.jl).\n",
    "\n",
    "Once IJulia is installed, go to the notebook file (_.ipynb_) directory. Then you can \n",
    "- either start julia and run:\n",
    "```jl\n",
    "using IJulia\n",
    "notebook()\n",
    "```\n",
    "- or run directly in command line \n",
    "```\n",
    "jupyter notebook\n",
    "```\n",
    "A webpage should open automatically, just click on the notebook to load it."
   ]
  },
  {
   "cell_type": "markdown",
   "metadata": {
    "slideshow": {
     "slide_type": "subslide"
    }
   },
   "source": [
    "### Navigating the notebook\n",
    "\n",
    "- Click `Help -> User Interface Tour` for a guided tour of the interface.\n",
    "- Each notebook is composed of **cells**, that either contain code or text (`Markdown`).\n",
    "- You can edit the content of a cell by double-clicking on it (_Edit Mode_)."
   ]
  },
  {
   "cell_type": "markdown",
   "metadata": {
    "collapsed": true,
    "slideshow": {
     "slide_type": "fragment"
    }
   },
   "source": [
    "When you are not editing a cell, you are in _Command mode_ and can edit the structure of the notebook (cells, name, options...)"
   ]
  },
  {
   "cell_type": "markdown",
   "metadata": {
    "slideshow": {
     "slide_type": "subslide"
    }
   },
   "source": [
    "- Create a cell by:\n",
    "    - Clicking `Insert -> Insert Cell`\n",
    "    - Pressing `a` or `b` in Command Mode\n",
    "    - Pressing `Alt+Enter` in Edit Mode\n",
    "- Delete a cell by:\n",
    "    - Clicking `Edit -> Delete Cell`\n",
    "    - Pressing `dd`\n",
    "- Execute a cell by:\n",
    "    - Clicking `Cell -> Run`\n",
    "    - Pressing `Ctrl+Enter`"
   ]
  },
  {
   "cell_type": "markdown",
   "metadata": {
    "slideshow": {
     "slide_type": "subslide"
    }
   },
   "source": [
    "Other functions:\n",
    "- Undo last text edit with `Ctrl+z` in Edit Mode\n",
    "- Undo last cell manipulation with `z` in Command Mode\n",
    "- Save notebook with `Ctrl+s` in Edit Mode\n",
    "- Save notebook with `s` in Command Mode\n",
    "\n",
    "Though notebooks rely on your browser to work, they do not require an internet connection (except for math rendering)."
   ]
  },
  {
   "cell_type": "markdown",
   "metadata": {
    "slideshow": {
     "slide_type": "subslide"
    }
   },
   "source": [
    "### Get comfortable with the notebook\n",
    "Notebooks are designed to not be fragile. If you try to close a notebook with unsaved changes, the browser will warn you.\n",
    "\n",
    "Try the following exercises:"
   ]
  },
  {
   "cell_type": "markdown",
   "metadata": {
    "slideshow": {
     "slide_type": "fragment"
    }
   },
   "source": [
    ">**\\[Exercise\\]**: Close/open\n",
    "\n",
    ">1. Save the notebook\n",
    ">2. Copy the address\n",
    ">3. Close the tab\n",
    ">4. Paste the address into a new tab (or re-open the last closed tab with `Ctrl+Shift+T` on Chrome)\n",
    "\n",
    ">_The document is still there, and the Julia kernel is still alive! Nothing is lost._"
   ]
  },
  {
   "cell_type": "markdown",
   "metadata": {
    "slideshow": {
     "slide_type": "fragment"
    }
   },
   "source": [
    ">**\\[Exercise\\]**: Zoom\n",
    "\n",
    ">Try changing the magnification of the web page (`Ctrl+, Ctrl-` on Chrome).\n",
    "\n",
    ">_Text and math scale well (so do graphics if you use an SVG or PDF backend)._"
   ]
  },
  {
   "cell_type": "markdown",
   "metadata": {
    "slideshow": {
     "slide_type": "fragment"
    }
   },
   "source": [
    ">**\\[Exercise\\]**: MathJax\n",
    ">1. Create a new cell, and select the type `Markdown` (or press `m`)\n",
    ">2. Type an opening \\$, your favorite mathematical expression, and a closing \\$.\n",
    ">3. Run the cell to render the $\\LaTeX$ expression.\n",
    ">4. Right-click the rendered expression."
   ]
  },
  {
   "cell_type": "markdown",
   "metadata": {
    "slideshow": {
     "slide_type": "slide"
    }
   },
   "source": [
    "### Advanced Jupyter notebooks' usage (Bonus)\n",
    "Jupyter notebooks have a lot of interesting hidden functionalities!"
   ]
  },
  {
   "cell_type": "markdown",
   "metadata": {
    "slideshow": {
     "slide_type": "subslide"
    }
   },
   "source": [
    "**Github and sharing**\n",
    "\n",
    "If you save your .ipynb notebook file in a .git project, hosted on Github, you can easily visualize and share it online (in non-interactive mode).\n",
    "\n",
    "For example, this notebook is available at https://github.com/sebmart/intro-julia-jupyter/blob/master/intro-julia-jupyter.ipynb\n",
    "\n",
    "You can also use [Gist](https://gist.github.com) and [nbviewer](http://nbviewer.jupyter.org) to quickly share a notebook (for example to your advisor) without creating a git repo."
   ]
  },
  {
   "cell_type": "markdown",
   "metadata": {
    "slideshow": {
     "slide_type": "subslide"
    }
   },
   "source": [
    "**Converting your notebook**\n",
    "\n",
    "Jupyter notebooks are a popular format that can be converted to a variety of types of documents, depending on your needs:\n",
    "- Latex\n",
    "- HTML\n",
    "- PDF\n",
    "- Slides with Reveal.JS (used to present this notebook!)\n",
    "- Markdown ...\n",
    "\n",
    "These conversions use the [`nbconvert`](https://github.com/jupyter/nbconvert) command."
   ]
  },
  {
   "cell_type": "markdown",
   "metadata": {
    "slideshow": {
     "slide_type": "subslide"
    }
   },
   "source": [
    "**Remote computing**\n",
    "\n",
    "The Notebook system is a web interface. Notebooks can be run on another computer. This is useful if you want your code to run on a more powerful remote machine.\n",
    "\n",
    "[Port-forwarding](https://help.ubuntu.com/community/SSH/OpenSSH/PortForwarding) through SSH is a good start for this."
   ]
  },
  {
   "cell_type": "markdown",
   "metadata": {
    "slideshow": {
     "slide_type": "subslide"
    }
   },
   "source": [
    "**Advanced Markdown**\n",
    "\n",
    "Jupyter text cells use Markdown for formatting. Markdown is an easy to use formatting language (a little like HTML or LaTeX in more simple). You can use the text of this notebook as an example, or learn more [here](https://github.com/adam-p/markdown-here/wiki/Markdown-Cheatsheet).\n",
    "\n",
    "Jupyter uses _Github flavored Markdown_, and is particularly good at displaying math and colored code. You can even include a video!"
   ]
  },
  {
   "cell_type": "markdown",
   "metadata": {
    "slideshow": {
     "slide_type": "slide"
    }
   },
   "source": [
    "## Coding in Julia\n",
    "\n",
    "This section is a brief introduction to Julia. It is not a comprehensive tutorial but more a _taste_ of the language for those who do not know it, and a showcase of cool features for those who already know Julia.\n",
    "\n",
    "Very good [tutorials](http://julialang.org/learning/) are available online and in books if you are interested in learning the language."
   ]
  },
  {
   "cell_type": "markdown",
   "metadata": {
    "slideshow": {
     "slide_type": "slide"
    }
   },
   "source": [
    "### Basic use\n",
    "Julia, as a dynamic language, can simply be used as a calculator:"
   ]
  },
  {
   "cell_type": "code",
   "execution_count": null,
   "metadata": {
    "collapsed": true,
    "slideshow": {
     "slide_type": "fragment"
    }
   },
   "outputs": [],
   "source": [
    "1+1"
   ]
  },
  {
   "cell_type": "code",
   "execution_count": null,
   "metadata": {
    "collapsed": true,
    "slideshow": {
     "slide_type": "fragment"
    }
   },
   "outputs": [],
   "source": [
    "sin(exp(2*pi)+sqrt(3))"
   ]
  },
  {
   "cell_type": "markdown",
   "metadata": {
    "slideshow": {
     "slide_type": "fragment"
    }
   },
   "source": [
    "The building blocs of Julia code are variables:"
   ]
  },
  {
   "cell_type": "code",
   "execution_count": null,
   "metadata": {
    "collapsed": true,
    "slideshow": {
     "slide_type": "fragment"
    }
   },
   "outputs": [],
   "source": [
    "a = 1\n",
    "b = 2\n",
    "# This is a comment \n",
    "c = a^2 + b^3 "
   ]
  },
  {
   "cell_type": "markdown",
   "metadata": {
    "slideshow": {
     "slide_type": "subslide"
    }
   },
   "source": [
    "Julia supports the common `if`, `while` and `for` structures:"
   ]
  },
  {
   "cell_type": "code",
   "execution_count": null,
   "metadata": {
    "collapsed": true,
    "slideshow": {
     "slide_type": "fragment"
    }
   },
   "outputs": [],
   "source": [
    "if c >= 10\n",
    "    print(\"Hello\")\n",
    "else\n",
    "    print(\"World\")\n",
    "end"
   ]
  },
  {
   "cell_type": "code",
   "execution_count": null,
   "metadata": {
    "collapsed": true,
    "slideshow": {
     "slide_type": "fragment"
    }
   },
   "outputs": [],
   "source": [
    "i = 1\n",
    "while i <= 5\n",
    "    println(\"Why, hello!\") # Print with a new line\n",
    "    i += 1\n",
    "end"
   ]
  },
  {
   "cell_type": "code",
   "execution_count": null,
   "metadata": {
    "collapsed": true,
    "slideshow": {
     "slide_type": "fragment"
    }
   },
   "outputs": [],
   "source": [
    "for i = 1:3\n",
    "    print(\"$i banana\") # '$' can be used to insert variables into text\n",
    "    if i>1\n",
    "        print(\"s\")\n",
    "    end\n",
    "    println() # Just a new line\n",
    "end"
   ]
  },
  {
   "cell_type": "markdown",
   "metadata": {
    "slideshow": {
     "slide_type": "fragment"
    }
   },
   "source": [
    "**Do not worry about writing loops**: in Julia, they are as fast as writing vectorized code, and sometimes faster!"
   ]
  },
  {
   "cell_type": "markdown",
   "metadata": {
    "slideshow": {
     "slide_type": "subslide"
    }
   },
   "source": [
    "**Arrays** (list of numbers) are at the core of research computing and Julia's arrays are extremely optimized."
   ]
  },
  {
   "cell_type": "code",
   "execution_count": null,
   "metadata": {
    "collapsed": true,
    "slideshow": {
     "slide_type": "fragment"
    }
   },
   "outputs": [],
   "source": [
    "myList = [1, 2, 3]"
   ]
  },
  {
   "cell_type": "markdown",
   "metadata": {
    "slideshow": {
     "slide_type": "fragment"
    }
   },
   "source": [
    "Array indexing starts with 1 in Julia:"
   ]
  },
  {
   "cell_type": "code",
   "execution_count": null,
   "metadata": {
    "collapsed": true,
    "slideshow": {
     "slide_type": "fragment"
    }
   },
   "outputs": [],
   "source": [
    "myList[1]"
   ]
  },
  {
   "cell_type": "code",
   "execution_count": null,
   "metadata": {
    "collapsed": true,
    "slideshow": {
     "slide_type": "fragment"
    }
   },
   "outputs": [],
   "source": [
    "myList[3] = 4 \n",
    "myList"
   ]
  },
  {
   "cell_type": "markdown",
   "metadata": {
    "slideshow": {
     "slide_type": "subslide"
    }
   },
   "source": [
    "A 2-dimensional array is a Matrix"
   ]
  },
  {
   "cell_type": "code",
   "execution_count": null,
   "metadata": {
    "collapsed": true,
    "slideshow": {
     "slide_type": "fragment"
    }
   },
   "outputs": [],
   "source": [
    "A = [1 2 3\n",
    "     2 1 2\n",
    "     3 2 1]\n",
    "\n",
    "A = [1 2 3; 2 1 2; 3 2 1] #same thing"
   ]
  },
  {
   "cell_type": "markdown",
   "metadata": {
    "slideshow": {
     "slide_type": "fragment"
    }
   },
   "source": [
    "Matrices can be multiplied, inverted..."
   ]
  },
  {
   "cell_type": "code",
   "execution_count": null,
   "metadata": {
    "collapsed": true,
    "slideshow": {
     "slide_type": "fragment"
    }
   },
   "outputs": [],
   "source": [
    "A^-1 #inverse\n",
    "\n",
    "A^2 * A^-1"
   ]
  },
  {
   "cell_type": "code",
   "execution_count": null,
   "metadata": {
    "collapsed": true,
    "slideshow": {
     "slide_type": "fragment"
    }
   },
   "outputs": [],
   "source": [
    "A*[1,2,3]"
   ]
  },
  {
   "cell_type": "markdown",
   "metadata": {
    "slideshow": {
     "slide_type": "subslide"
    }
   },
   "source": [
    "Component-wise operations can be obtained by adding a '.' in front of the operator. See the difference for instance between:"
   ]
  },
  {
   "cell_type": "code",
   "execution_count": null,
   "metadata": {
    "collapsed": true,
    "slideshow": {
     "slide_type": "fragment"
    }
   },
   "outputs": [],
   "source": [
    "Id = [1 0 0; 0 1 0; 0 0 1]\n",
    "A .+ Id"
   ]
  },
  {
   "cell_type": "markdown",
   "metadata": {
    "slideshow": {
     "slide_type": "fragment"
    }
   },
   "source": [
    "and"
   ]
  },
  {
   "cell_type": "code",
   "execution_count": null,
   "metadata": {
    "collapsed": true,
    "slideshow": {
     "slide_type": "fragment"
    }
   },
   "outputs": [],
   "source": [
    "A + Id"
   ]
  },
  {
   "cell_type": "markdown",
   "metadata": {
    "slideshow": {
     "slide_type": "fragment"
    }
   },
   "source": [
    "(Well there is none because matrix addition is component-wise)"
   ]
  },
  {
   "cell_type": "code",
   "execution_count": null,
   "metadata": {
    "collapsed": true,
    "slideshow": {
     "slide_type": "subslide"
    }
   },
   "outputs": [],
   "source": [
    "A .* Id"
   ]
  },
  {
   "cell_type": "markdown",
   "metadata": {
    "slideshow": {
     "slide_type": "fragment"
    }
   },
   "source": [
    "and"
   ]
  },
  {
   "cell_type": "code",
   "execution_count": null,
   "metadata": {
    "collapsed": true,
    "slideshow": {
     "slide_type": "fragment"
    }
   },
   "outputs": [],
   "source": [
    "A * Id"
   ]
  },
  {
   "cell_type": "markdown",
   "metadata": {
    "slideshow": {
     "slide_type": "subslide"
    }
   },
   "source": [
    "Let's try a quick exercise!\n",
    "\n",
    "> **[Exercise]** A random variable $X\\sim\\text{Bin}(n,p)$ is defined as the number of successes in $n$ trials where each trial has a success probability $p$. For example, if $X=\\text{Bin}(10,0.5)$, then $X$ is the number of coin flips that turn up heads in 10 flips of a fair coin.\n",
    "\n",
    "> Using only the function `rand()`, which generates a uniformly random number between 0 and 1, write a function `binomial_rv(n,p)` that outputs a single draw of a binomial random variable with parameters `n` and `p`."
   ]
  },
  {
   "cell_type": "code",
   "execution_count": 6,
   "metadata": {},
   "outputs": [
    {
     "data": {
      "text/plain": [
       "10-element Array{Float64,1}:\n",
       " 0.7093218470022489 \n",
       " 0.9958747674939974 \n",
       " 0.29372326663659853\n",
       " 0.33388005087827666\n",
       " 0.15617722984225413\n",
       " 0.7573980293217224 \n",
       " 0.636568439983108  \n",
       " 0.7007126017445844 \n",
       " 0.37893641369863085\n",
       " 0.5189613170776908 "
      ]
     },
     "execution_count": 6,
     "metadata": {},
     "output_type": "execute_result"
    }
   ],
   "source": [
    "rand(10)"
   ]
  },
  {
   "cell_type": "code",
   "execution_count": 7,
   "metadata": {
    "slideshow": {
     "slide_type": "fragment"
    }
   },
   "outputs": [
    {
     "data": {
      "text/plain": [
       "4"
      ]
     },
     "execution_count": 7,
     "metadata": {},
     "output_type": "execute_result"
    }
   ],
   "source": [
    "function binomial_rv(n, p)\n",
    "    u = rand(n)\n",
    "    z = 0\n",
    "    for i in 1:n\n",
    "        z += 1*(u[i] < p)\n",
    "    end \n",
    "    return z\n",
    "end\n",
    "binomial_rv(10,0.5)"
   ]
  },
  {
   "cell_type": "code",
   "execution_count": 9,
   "metadata": {},
   "outputs": [
    {
     "data": {
      "text/plain": [
       "3"
      ]
     },
     "execution_count": 9,
     "metadata": {},
     "output_type": "execute_result"
    }
   ],
   "source": [
    "function binomial_rv(n, p)\n",
    "    return sum(rand(n) .< p)\n",
    "end\n",
    "binomial_rv(10,0.5)"
   ]
  },
  {
   "cell_type": "markdown",
   "metadata": {
    "slideshow": {
     "slide_type": "slide"
    }
   },
   "source": [
    "### Just-in-time compilation\n",
    "\n",
    "We mentioned earlier that one of the reasons Julia is fast is _just-in-time_ compilation. This means that right before a function is executed, Julia compiles it and optimizes it. Function compilations are also cached for future use."
   ]
  },
  {
   "cell_type": "code",
   "execution_count": null,
   "metadata": {
    "collapsed": true,
    "slideshow": {
     "slide_type": "subslide"
    }
   },
   "outputs": [],
   "source": [
    "function countTo(n)\n",
    "    count = 0\n",
    "    for i = 1:n\n",
    "        count += 1\n",
    "    end\n",
    "    return count\n",
    "end\n",
    "println(\"First use: slow like a dynamic language\")\n",
    "@time countTo(10_000_000) #the @time macro is useful to track computational time and memory usage\n",
    "println(\"Second use: compiled and optimized automatically\")\n",
    "@time countTo(10_000_000);"
   ]
  },
  {
   "cell_type": "markdown",
   "metadata": {
    "slideshow": {
     "slide_type": "slide"
    }
   },
   "source": [
    "### Type stability\n",
    "\n",
    "Other interpreted languages have just-in-time compilers (e.g. Python). Why is Julia better?\n",
    "\n",
    "**Types:** Everything has a type in Julia"
   ]
  },
  {
   "cell_type": "code",
   "execution_count": null,
   "metadata": {
    "collapsed": true,
    "slideshow": {
     "slide_type": "fragment"
    }
   },
   "outputs": [],
   "source": [
    "typeof(1)"
   ]
  },
  {
   "cell_type": "code",
   "execution_count": null,
   "metadata": {
    "collapsed": true,
    "slideshow": {
     "slide_type": "fragment"
    }
   },
   "outputs": [],
   "source": [
    "typeof(1.5)"
   ]
  },
  {
   "cell_type": "code",
   "execution_count": null,
   "metadata": {
    "collapsed": true,
    "slideshow": {
     "slide_type": "fragment"
    }
   },
   "outputs": [],
   "source": [
    "typeof(\"abc\")"
   ]
  },
  {
   "cell_type": "markdown",
   "metadata": {
    "slideshow": {
     "slide_type": "subslide"
    }
   },
   "source": [
    "Type stability is the idea that there is only one possible type which can be output by a method. For example, the reasonable type to output from `*(::Int64,::Int64)` is an `Int64`. No matter what you give it, it will spit out an `Int64`.\n",
    "\n",
    "This is called **[multiple dispatch](https://en.wikipedia.org/wiki/Multiple_dispatch)** : the `*` operator calls a different method depending on the types that it sees."
   ]
  },
  {
   "cell_type": "code",
   "execution_count": null,
   "metadata": {
    "collapsed": true,
    "slideshow": {
     "slide_type": "fragment"
    }
   },
   "outputs": [],
   "source": [
    "1//2 # fraction in Julia"
   ]
  },
  {
   "cell_type": "code",
   "execution_count": null,
   "metadata": {
    "collapsed": true,
    "slideshow": {
     "slide_type": "fragment"
    }
   },
   "outputs": [],
   "source": [
    "typeof(1//2)"
   ]
  },
  {
   "cell_type": "code",
   "execution_count": null,
   "metadata": {
    "collapsed": true,
    "slideshow": {
     "slide_type": "fragment"
    }
   },
   "outputs": [],
   "source": [
    "(1//2)*(1//2)"
   ]
  },
  {
   "cell_type": "code",
   "execution_count": null,
   "metadata": {
    "collapsed": true,
    "scrolled": true,
    "slideshow": {
     "slide_type": "fragment"
    }
   },
   "outputs": [],
   "source": [
    "(0.5)*(0.5) # The same function gives different results depending on the type"
   ]
  },
  {
   "cell_type": "code",
   "execution_count": null,
   "metadata": {
    "collapsed": true,
    "slideshow": {
     "slide_type": "fragment"
    }
   },
   "outputs": [],
   "source": [
    "(im)*(im) # This also works with complex numbers"
   ]
  },
  {
   "cell_type": "code",
   "execution_count": null,
   "metadata": {
    "collapsed": true,
    "slideshow": {
     "slide_type": "subslide"
    }
   },
   "outputs": [],
   "source": [
    "function myFunction(x)\n",
    "    println(\"Default output\")\n",
    "end\n",
    "\n",
    "function myFunction(x::Int) # only called when x is an integer\n",
    "    println(\"You gave me an integer!\")\n",
    "end\n",
    "\n",
    "myFunction(1.0)\n",
    "myFunction(1)\n",
    "myFunction(\"ORC\")"
   ]
  },
  {
   "cell_type": "markdown",
   "metadata": {
    "slideshow": {
     "slide_type": "subslide"
    }
   },
   "source": [
    "#### How does type stability help?\n",
    "\n",
    "To explore the power of Julia's type-stable system, we will use code introspection macros to see what the code actually compiles to. Let's look at the code in LLVM, a portable assembly language:"
   ]
  },
  {
   "cell_type": "code",
   "execution_count": null,
   "metadata": {
    "collapsed": true,
    "slideshow": {
     "slide_type": "fragment"
    }
   },
   "outputs": [],
   "source": [
    "@code_llvm ^(2,5)"
   ]
  },
  {
   "cell_type": "markdown",
   "metadata": {
    "slideshow": {
     "slide_type": "fragment"
    }
   },
   "source": [
    "The code above is short and sweet: it multiplies the two numbers and returns the result. It turns out that the compiled code is _the same_ as the compiled version of the same code written in C or Fortran."
   ]
  },
  {
   "cell_type": "markdown",
   "metadata": {
    "slideshow": {
     "slide_type": "fragment"
    }
   },
   "source": [
    "_Question_: in what cases does the code compile to something as efficient as C/Fortran?\n",
    "\n",
    "_Answer_: **type-stability**. If a function is type-stable, then the compiler can know what the type will be at all points in the function and smartly optimize it to the same assembly as C/Fortran. If it is not type-stable, Julia has to add expensive \"boxing\" to ensure types are found/known before operations are performed."
   ]
  },
  {
   "cell_type": "markdown",
   "metadata": {
    "slideshow": {
     "slide_type": "slide"
    }
   },
   "source": [
    "## Fun functionalities\n",
    "\n",
    "Julia has a lot of nice functionalities for you to discover!"
   ]
  },
  {
   "cell_type": "markdown",
   "metadata": {
    "slideshow": {
     "slide_type": "subslide"
    }
   },
   "source": [
    "#### List comprehension (similar to Python)"
   ]
  },
  {
   "cell_type": "code",
   "execution_count": null,
   "metadata": {
    "collapsed": true,
    "slideshow": {
     "slide_type": "fragment"
    }
   },
   "outputs": [],
   "source": [
    "[i^2 for i in 1:10 if i%2 == 0] # list comprehensions (similar to Python)"
   ]
  },
  {
   "cell_type": "markdown",
   "metadata": {
    "slideshow": {
     "slide_type": "subslide"
    }
   },
   "source": [
    "#### Support for unicode characters ($\\LaTeX$ syntax)\n",
    "You can use unicode characters as part of variables and function names in Julia. Some of them are already defined Julia constants and functions\n",
    "> Try to type `\\pi<TAB>` in a cell."
   ]
  },
  {
   "cell_type": "code",
   "execution_count": 10,
   "metadata": {},
   "outputs": [
    {
     "data": {
      "text/plain": [
       "π = 3.1415926535897..."
      ]
     },
     "execution_count": 10,
     "metadata": {},
     "output_type": "execute_result"
    }
   ],
   "source": [
    "π"
   ]
  },
  {
   "cell_type": "code",
   "execution_count": 2,
   "metadata": {},
   "outputs": [
    {
     "data": {
      "text/plain": [
       "π = 3.1415926535897..."
      ]
     },
     "execution_count": 2,
     "metadata": {},
     "output_type": "execute_result"
    }
   ],
   "source": [
    "π"
   ]
  },
  {
   "cell_type": "code",
   "execution_count": null,
   "metadata": {
    "collapsed": true,
    "slideshow": {
     "slide_type": "fragment"
    }
   },
   "outputs": [],
   "source": [
    "π"
   ]
  },
  {
   "cell_type": "code",
   "execution_count": null,
   "metadata": {
    "collapsed": true,
    "slideshow": {
     "slide_type": "fragment"
    }
   },
   "outputs": [],
   "source": [
    "\"carrot\" ∈ [\"potato\", \"tomato\", \"carrot\"]"
   ]
  },
  {
   "cell_type": "code",
   "execution_count": null,
   "metadata": {
    "collapsed": true,
    "scrolled": false,
    "slideshow": {
     "slide_type": "fragment"
    }
   },
   "outputs": [],
   "source": [
    "η = rand()\n",
    "println(η)\n",
    "if η >= 0.1 && η < .5 #check if η ∈ [.1, .5)\n",
    "    println(\"In\")\n",
    "else \n",
    "    println(\"Out\")\n",
    "end"
   ]
  },
  {
   "cell_type": "code",
   "execution_count": null,
   "metadata": {
    "collapsed": true,
    "slideshow": {
     "slide_type": "fragment"
    }
   },
   "outputs": [],
   "source": [
    "√2"
   ]
  },
  {
   "cell_type": "code",
   "execution_count": null,
   "metadata": {
    "collapsed": true,
    "slideshow": {
     "slide_type": "fragment"
    }
   },
   "outputs": [],
   "source": [
    "sumEvenSquares = sum(i^2 for i in 1:10 if i%2 == 0) # summing over an iterator"
   ]
  },
  {
   "cell_type": "markdown",
   "metadata": {
    "slideshow": {
     "slide_type": "slide"
    }
   },
   "source": [
    "### Package manager\n",
    "\n",
    "Julia has a package manager to quickly download, install, update and uninstall new tools (_packages_)"
   ]
  },
  {
   "cell_type": "markdown",
   "metadata": {
    "slideshow": {
     "slide_type": "subslide"
    }
   },
   "source": [
    "You can enter use the package manager in two ways:\n",
    "- as the 'Pkg' package \n",
    "- by pressing the ']' key\n",
    "\n",
    "Compare those two syntaxes"
   ]
  },
  {
   "cell_type": "code",
   "execution_count": null,
   "metadata": {
    "collapsed": true,
    "slideshow": {
     "slide_type": "fragment"
    }
   },
   "outputs": [],
   "source": [
    "] add DataFrames"
   ]
  },
  {
   "cell_type": "markdown",
   "metadata": {
    "slideshow": {
     "slide_type": "fragment"
    }
   },
   "source": [
    "and"
   ]
  },
  {
   "cell_type": "code",
   "execution_count": null,
   "metadata": {
    "collapsed": true,
    "slideshow": {
     "slide_type": "fragment"
    }
   },
   "outputs": [],
   "source": [
    "using Pkg\n",
    "Pkg.add(\"DataFrames\")"
   ]
  },
  {
   "cell_type": "markdown",
   "metadata": {
    "slideshow": {
     "slide_type": "subslide"
    }
   },
   "source": [
    "By default, Julia has many built-in packages. And **over 1,900 registered packages**!"
   ]
  },
  {
   "cell_type": "markdown",
   "metadata": {
    "slideshow": {
     "slide_type": "subslide"
    }
   },
   "source": [
    "** LinearAlgebra **"
   ]
  },
  {
   "cell_type": "code",
   "execution_count": null,
   "metadata": {
    "collapsed": true,
    "slideshow": {
     "slide_type": "fragment"
    }
   },
   "outputs": [],
   "source": [
    "using LinearAlgebra"
   ]
  },
  {
   "cell_type": "code",
   "execution_count": null,
   "metadata": {
    "collapsed": true,
    "slideshow": {
     "slide_type": "fragment"
    }
   },
   "outputs": [],
   "source": [
    "LinearAlgebra.Matrix(1.0LinearAlgebra.I, 3, 3) #Defines the identity matrix"
   ]
  },
  {
   "cell_type": "code",
   "execution_count": null,
   "metadata": {
    "collapsed": true,
    "slideshow": {
     "slide_type": "fragment"
    }
   },
   "outputs": [],
   "source": [
    "eigenValues, eigenVectors = LinearAlgebra.eigen(A)\n",
    "eigenValues"
   ]
  },
  {
   "cell_type": "markdown",
   "metadata": {
    "collapsed": true,
    "slideshow": {
     "slide_type": "subslide"
    }
   },
   "source": [
    "** Statistics **"
   ]
  },
  {
   "cell_type": "code",
   "execution_count": null,
   "metadata": {
    "collapsed": true,
    "slideshow": {
     "slide_type": "fragment"
    }
   },
   "outputs": [],
   "source": [
    "using Statistics\n",
    "Statistics.mean(A)"
   ]
  },
  {
   "cell_type": "code",
   "execution_count": null,
   "metadata": {
    "collapsed": true,
    "slideshow": {
     "slide_type": "fragment"
    }
   },
   "outputs": [],
   "source": [
    "Statistics.median(A)"
   ]
  },
  {
   "cell_type": "markdown",
   "metadata": {
    "slideshow": {
     "slide_type": "subslide"
    }
   },
   "source": [
    "** Random **"
   ]
  },
  {
   "cell_type": "code",
   "execution_count": null,
   "metadata": {
    "collapsed": true,
    "slideshow": {
     "slide_type": "fragment"
    }
   },
   "outputs": [],
   "source": [
    "using Random"
   ]
  },
  {
   "cell_type": "code",
   "execution_count": null,
   "metadata": {
    "collapsed": true,
    "slideshow": {
     "slide_type": "fragment"
    }
   },
   "outputs": [],
   "source": [
    "Random.seed!(10)"
   ]
  },
  {
   "cell_type": "code",
   "execution_count": null,
   "metadata": {
    "collapsed": true,
    "slideshow": {
     "slide_type": "fragment"
    }
   },
   "outputs": [],
   "source": [
    "Random.randperm(5)"
   ]
  },
  {
   "cell_type": "code",
   "execution_count": null,
   "metadata": {
    "collapsed": true,
    "slideshow": {
     "slide_type": "fragment"
    }
   },
   "outputs": [],
   "source": [
    "Random.shuffle(1:5)"
   ]
  },
  {
   "cell_type": "markdown",
   "metadata": {
    "slideshow": {
     "slide_type": "subslide"
    }
   },
   "source": [
    "Use `?` to get the documentation of a function"
   ]
  },
  {
   "cell_type": "code",
   "execution_count": null,
   "metadata": {
    "collapsed": true,
    "slideshow": {
     "slide_type": "fragment"
    }
   },
   "outputs": [],
   "source": [
    "?eigen"
   ]
  },
  {
   "cell_type": "markdown",
   "metadata": {
    "slideshow": {
     "slide_type": "subslide"
    }
   },
   "source": [
    "Use tab-completion to auto-complete functions and variables names: try ``myF<TAB>``:"
   ]
  },
  {
   "cell_type": "code",
   "execution_count": null,
   "metadata": {
    "collapsed": true,
    "slideshow": {
     "slide_type": "fragment"
    }
   },
   "outputs": [],
   "source": [
    "myFun\n",
    "fact"
   ]
  },
  {
   "cell_type": "markdown",
   "metadata": {
    "slideshow": {
     "slide_type": "subslide"
    }
   },
   "source": [
    "The ``methods`` function lists all of the different implementations of a function depending on the input types.\n",
    "Click on the link to see the Julia source code."
   ]
  },
  {
   "cell_type": "code",
   "execution_count": null,
   "metadata": {
    "collapsed": true,
    "slideshow": {
     "slide_type": "fragment"
    }
   },
   "outputs": [],
   "source": [
    "methods(sin)"
   ]
  },
  {
   "cell_type": "markdown",
   "metadata": {
    "slideshow": {
     "slide_type": "slide"
    }
   },
   "source": [
    "### Other Julia functionalities (Bonus)\n",
    "We only presented a small subset of Julia functionalities. We list here of few interesting things you may not know."
   ]
  },
  {
   "cell_type": "markdown",
   "metadata": {
    "slideshow": {
     "slide_type": "subslide"
    }
   },
   "source": [
    "**Using the command line from Julia**\n",
    "\n",
    "You can run bash commands directly from Julia by starting the command with a semicolon: `;`"
   ]
  },
  {
   "cell_type": "code",
   "execution_count": null,
   "metadata": {
    "collapsed": true,
    "slideshow": {
     "slide_type": "fragment"
    }
   },
   "outputs": [],
   "source": [
    ";ls"
   ]
  },
  {
   "cell_type": "markdown",
   "metadata": {
    "slideshow": {
     "slide_type": "subslide"
    }
   },
   "source": [
    "**Juno**\n",
    "\n",
    "Julia has a very nice and powerful text editor, [_Juno_](http://junolab.org), that is built on [Atom](https://atom.io). It is very similar to the Matlab interface or RStudio. Functionalities include:\n",
    "- Autocomplete\n",
    "- Integrated Plotting\n",
    "- Debugging, Manual, ...\n",
    "\n",
    "It is better suited for serious projects with several files, when an IJulia notebook is not enough."
   ]
  },
  {
   "cell_type": "markdown",
   "metadata": {
    "slideshow": {
     "slide_type": "subslide"
    }
   },
   "source": [
    "**Advanced Julia functionalities**\n",
    "Julia is a state-of-the-art programming language, with lots of useful functionalities, including:\n",
    "- [Powerful Macros](https://docs.julialang.org/en/v1/manual/metaprogramming/#Metaprogramming-1) (meta-programming)\n",
    "- [Code testing](https://docs.julialang.org/en/v1/stdlib/Test/#Basic-Unit-Tests-1)\n",
    "- [User-defined types](https://docs.julialang.org/en/v1/manual/types/#man-types-1), that are as fast as built-in ones.\n",
    "- [Package creation](https://docs.julialang.org/en/v1/stdlib/Pkg/#Creating-your-own-packages-1)"
   ]
  },
  {
   "cell_type": "markdown",
   "metadata": {
    "slideshow": {
     "slide_type": "subslide"
    }
   },
   "source": [
    "** Interesting Packages **\n",
    "Using the Package eco-system, there is almost nothing you cannot achieve:"
   ]
  },
  {
   "cell_type": "markdown",
   "metadata": {
    "slideshow": {
     "slide_type": "fragment"
    }
   },
   "source": [
    "- Advanced Plotting   with [**Plots.jl**](https://juliaplots.github.io). Functionalities include 3D-plots, animated plots, stats plots, home-made plot \"recipes\" ...\n",
    "- Call any python code using [**PyCall.jl**](https://github.com/JuliaPy/PyCall.jl), R code using [**RCall.jl**](https://github.com/JuliaInterop/RCall.jl)\n",
    "- Save and load your variables or environment to a file with [**JLD2.jl**](https://github.com/JuliaIO/JLD2.jl)\n",
    "- Advanced graphs/networks algorithms with [**LightGraphs.jl**](https://github.com/JuliaGraphs/LightGraphs.jl)\n",
    "- Applications in [**Finance**](https://github.com/JuliaQuant), [**Biology**](https://github.com/BioJulia/Bio.jl), [**Stats and Machine Learning**](http://juliastats.github.io), [**Optimization**](http://www.juliaopt.org) (including the great [**JuMP**](https://github.com/JuliaOpt/JuMP.jl) package!)\n",
    "\n",
    "And a lot more in the over 1,900 registered packages!"
   ]
  }
 ],
 "metadata": {
  "kernelspec": {
   "display_name": "Julia 1.0.1",
   "language": "julia",
   "name": "julia-1.0"
  },
  "language_info": {
   "file_extension": ".jl",
   "mimetype": "application/julia",
   "name": "julia",
   "version": "1.0.1"
  }
 },
 "nbformat": 4,
 "nbformat_minor": 2
}
