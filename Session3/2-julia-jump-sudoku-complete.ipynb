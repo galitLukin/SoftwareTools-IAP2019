{
 "cells": [
  {
   "cell_type": "markdown",
   "metadata": {
    "slideshow": {
     "slide_type": "slide"
    }
   },
   "source": [
    "# Optimization with JuMP\n",
    "\n",
    "Optimization models play a central role in operations research. \n",
    "\n",
    "In this session, we will explore the basic functionalities of JuMP, a modeling language to define and solve optimization models in Julia.\n",
    "\n",
    "<a href=\"https://github.com/JuliaOpt/JuMP.jl\"><img src=\"figures/jump.svg\" alt=\"Julia\" style=\"width: 500px;\"/></a>"
   ]
  },
  {
   "cell_type": "markdown",
   "metadata": {
    "slideshow": {
     "slide_type": "subslide"
    }
   },
   "source": [
    "Suppose Iain wants to carry items to the pawn shop to get some extra cash. He has $N$ items, each with a weight $w_i$ and a price $p_i$. Iain hasn't been to the gym lately, so he can only carry $C$ kilos. How does he choose what to bring with him?\n",
    "\n",
    "We can model this as an integer optimization problem:\n",
    "\n",
    "\\begin{align*}\n",
    "\\max& \\sum_{i=1}^N p_i x_i \\\\\n",
    "\\text{s.t.}& \\sum_{i=1}^N w_i x_i \\leq C \\\\\n",
    "& x_i \\in \\{0,1\\} \\quad \\forall i = 1,\\ldots,N\n",
    "\\end{align*}\n",
    "\n"
   ]
  },
  {
   "cell_type": "markdown",
   "metadata": {
    "slideshow": {
     "slide_type": "slide"
    }
   },
   "source": [
    "## A toy example\n",
    "\n",
    "Consider the following (small) knapsack problem:\n",
    "\n",
    "\\begin{align*}\n",
    "    \\max\\:& x + y \\\\\n",
    "    \\text{s.t.}\\:& x + 2y \\leq 1.5 \\\\\n",
    "    & x, y \\in \\{0,1\\}\n",
    "\\end{align*}\n",
    "\n",
    "How would you solve this? "
   ]
  },
  {
   "cell_type": "markdown",
   "metadata": {
    "slideshow": {
     "slide_type": "subslide"
    }
   },
   "source": [
    "## Exhaustive enumeration\n",
    "\n",
    "The simple way is just to consider each possible value for $x$ and $y$ and compare the cost.\n",
    "\n",
    "![alt text](figures/tree_1.png)\n",
    "\n",
    "In the general case, this would lead to $2^N$ possible collections of items. After Iain has weighed all of them (and verified that he can lift them at once), he just chooses the best set."
   ]
  },
  {
   "cell_type": "markdown",
   "metadata": {
    "slideshow": {
     "slide_type": "subslide"
    }
   },
   "source": [
    "## Branch-and-bound: smart enumeration\n",
    "Let's visualize this approach as a search tree:\n",
    "\n",
    "![alt text](figures/tree_2.png)"
   ]
  },
  {
   "cell_type": "markdown",
   "metadata": {
    "slideshow": {
     "slide_type": "subslide"
    }
   },
   "source": [
    "Each node is a subproblem with \n",
    "- some variables fixed to $0$\n",
    "- some variables fixed to $1$\n",
    "- the remaining variables are unknown \n",
    "\n",
    "At each node, we have techniques to \n",
    "- find a lower bound on the objective value (i.e., find a feasible solution)\n",
    "- find an upper bound on the objective value (e.g., solve the relaxation)\n",
    "\n",
    "This leads us to a powerful tool in solving these enumeration problems: \n",
    ">If I can show you that the optimal cost for subproblem ``q`` is _less_ than the optimal cost for the original problem, the same is true for any descendent of ``q``. "
   ]
  },
  {
   "cell_type": "markdown",
   "metadata": {
    "slideshow": {
     "slide_type": "subslide"
    }
   },
   "source": [
    "\n",
    "That is, we can _prune_ the tree and safely discard some nodes, kind of like this:\n",
    "\n",
    "![alt text](figures/tree_3.png)"
   ]
  },
  {
   "cell_type": "markdown",
   "metadata": {
    "slideshow": {
     "slide_type": "skip"
    }
   },
   "source": [
    "## Worked Example\n",
    "\n",
    "\\begin{align*}\n",
    "    \\max\\quad& x + y \\\\\n",
    "    \\text{s.t.}\\quad& x + 2y \\leq 1.5 \\\\\n",
    "    & 0 \\leq x, y \\leq 1 \\\\\n",
    "    & x, y \\in \\{0,1\\}\n",
    "\\end{align*}\n",
    "\n",
    "What does the relaxation (no integrality restrictions) of this problem look like?\n",
    "\n",
    "First, we solve the LP relaxation and get $(x^*,y^*) = (1,0.25)$. \n",
    "\n",
    "This isn't integer feasible, so we branch on $y$. The subproblem with $y = 1$ is infeasible, and the subproblem with $y = 0$ is feasible with solution $(x^*,y^*) = (1,0)$. This is integer feasible, so we update our lower bound. We've also exhausted the tree, so we have our optimal solution!\n",
    "\n",
    "The branch-and-bound scheme can end up solving many subproblems, so for it to work well, we need to _prune_ large portions of the tree. "
   ]
  },
  {
   "cell_type": "markdown",
   "metadata": {
    "slideshow": {
     "slide_type": "skip"
    }
   },
   "source": [
    "## Branch and bound\n",
    "We'll keep track of a global _lower bound_ $LB$ for our problem. Each node ``q`` will have an upper bound $UB_q$ that it inherents from its parent. If we get to the point where we have solved all subproblems (or, ideally, pruned off a great deal of them), we know that we're optimal. To do this we'll also keep track of a list $L$ of subproblems left to solve; initially, it's just the relaxation. The procedure is:\n",
    "\n",
    "While $L$ is not empty, pick a subproblem ``q`` out of our list $L$ and solve it. \n",
    "1. ``if`` ``q`` is infeasible, ``continue``\n",
    "2. ``if`` the solution is integer feasible, update the lower bound $LB$ if the cost is higher than what we had before\n",
    "3. ``if``  the relaxation value is less than our global $LB$ ``continue``\n",
    "4. ``else`` pick a non-integer variable $i$ and _branch_ by adding two subproblems to $L$: \n",
    "    * One with $x_i = 0$\n",
    "    * Another with $x_i = 1$\n",
    "\n",
    "Branch-and-bound is sometimes called an _implicit enumeration_ scheme because of step 3: we avoid solving any subproblems that we can prove won't produce the optimal solution.\n",
    "\n",
    "** The \"magic\" of modern MIP solvers largely comes down to pruning massive portions of the tree **\n",
    "\n",
    "\n",
    "## Stuff you should care about\n",
    "\n",
    "1. Cuts (improve the _upper bounds_)\n",
    "2. Heuristics (improve the _lower bounds_)\n",
    "3. Presolve (_simplify_ everything before we build the tree)\n",
    "4. Branching strategies (construct the tree in a smart way)"
   ]
  },
  {
   "cell_type": "markdown",
   "metadata": {
    "slideshow": {
     "slide_type": "skip"
    }
   },
   "source": [
    "## 1. Cuts\n",
    "\n",
    "Cuts are inequalities that are _valid_ (don't cut off any feasible integer points) and _strengthen_ the formulation (chop off some of the region feasible for the relaxation)\n",
    "\n",
    "Three main types of cuts:\n",
    "\n",
    "1. General purpose (e.g. CG, split, MIR)\n",
    "2. Structure-specific (e.g. knapsack cover, clique)\n",
    "3. Problem-specific (whatever _you_ cook up)\n",
    "\n",
    "### Example \n",
    "\n",
    "Let's go back to our knapsack example and imagine that had been a bit smarter and realized that $x + \\frac{4}{3}y \\leq 1$ is feasible for all integer feasible points. If we add this to our formulation, we have the optimal solution at the root node!"
   ]
  },
  {
   "cell_type": "markdown",
   "metadata": {
    "slideshow": {
     "slide_type": "skip"
    }
   },
   "source": [
    "## 2. Heuristics\n",
    "\n",
    "You can add integer feasible solutions into the branch-and-bound scheme to improve the lower bound. These can come from\n",
    "\n",
    "1. Problem-specific heuristics\n",
    "2. Neighborhood search\n",
    "3. Rounding or \"polishing\"\n",
    "\n",
    "### Example\n",
    "\n",
    "After we've already solved it twice, it's easy to see that the optimal solution for our knapsack is $(1,0)$. So, we can just start out the branch-and-bound procedure with $LB = 1$.\n",
    "\n",
    "More generally, if we're solving a knapsack problem, one simple heuristic is to add a _greedy solution_ where you iteratively add the best available item to the sack until you run out of room. This will often be a very good solution, and is a simple example of a problem-specific heuristic scheme."
   ]
  },
  {
   "cell_type": "markdown",
   "metadata": {
    "slideshow": {
     "slide_type": "skip"
    }
   },
   "source": [
    "## 3. Presolve\n",
    "\n",
    "Modern MIP solvers have a litany of techniques to simplify problems _before_ constructing the tree. \n",
    "\n",
    "* Variable/constraint bounds tightening\n",
    "* Logical inferences\n",
    "* General cleanup (remove redundant variables, constraints)\n",
    "\n",
    "By shrinking problems, presolve potentially shrinks\n",
    "\n",
    "* the B&B tree (fewer binary variables)\n",
    "* The node solve time (smaller LP relaxations)\n",
    "\n",
    "### Example\n",
    "\n",
    "For our problem\n",
    "\\begin{align*}\n",
    "    \\max\\:& x + y \\\\\n",
    "    \\text{s.t.}\\:& x + 2y \\leq 1.5 \\\\\n",
    "    & x, y \\in \\{0,1\\}\n",
    "\\end{align*}\n",
    "\n",
    "we can perform bounds tightening to get\n",
    "\n",
    "\\begin{align*}\n",
    "    \\max\\:& x + y \\\\\n",
    "    \\text{s.t.}\\:& x + 2y \\leq 1 \\\\\n",
    "    & x, y \\in \\{0,1\\}\n",
    "\\end{align*}\n",
    "\n",
    "Then, we can reason that, since $x,y \\in \\{0,1\\}$, we cannot have $y=1$, and so we can reduce our problem to \n",
    "\n",
    "\\begin{align*}\n",
    "    \\max\\:& x \\\\\n",
    "    & x \\in \\{0,1\\}\n",
    "\\end{align*}\n",
    "\n",
    "Which we can then solve in closed form."
   ]
  },
  {
   "cell_type": "markdown",
   "metadata": {
    "slideshow": {
     "slide_type": "skip"
    }
   },
   "source": [
    "## 4. Branching strategies\n",
    "\n",
    "Different paths through the B&B tree can see drastically different performance:\n",
    "\n",
    "* Missing a node that produces a good feasible solution will mean you add nodes to your list you otherwise would have pruned\n",
    "* Choosing nodes that would otherwise be pruned just slows you down\n",
    "\n",
    "How do we know _a priori_ what a good branching strategy is, though? \n",
    "\n",
    "We don't really, but you can make informed guesses. \n",
    "\n",
    "Consider another small problem:\n",
    "\\begin{align*}\n",
    "    \\max\\:& y \\\\\n",
    "    \\text{s.t.}\\:& -x + y \\leq \\frac{1}{3} \\\\\n",
    "    & x + y \\leq \\frac{4}{3} \\\\\n",
    "    & 0 \\leq x,y \\leq 1 \\\\\n",
    "    & x, y \\in \\{0,1\\}\n",
    "\\end{align*}\n",
    "If we solve the relaxation, we get an optimal solution of $(x^*,y^*) = (\\frac{1}{2},\\frac{5}{6})$.\n",
    "\n",
    "Now we have a choice: both coordinates are fractional, so we can branch on either. \n",
    "\n",
    "If we branch on $y$, we get: the branch with $y=0$ gives us an optimal solution in $(0,1)$, and the $y=1$ branch is infeasible, so we have no more branches to take and we are done. \n",
    "\n",
    "But if we had branched on $x$ instead: the optimal solution for both branches is still fractional, so we have to branch again. If we have, say, 1000 binary variables instead of just two, we see how branching strategies can have an enormous effect on performance."
   ]
  },
  {
   "cell_type": "markdown",
   "metadata": {
    "slideshow": {
     "slide_type": "slide"
    }
   },
   "source": [
    "# Implementation in JuMP\n",
    "\n",
    "Let's solve our simple knapsack problem in JuMP."
   ]
  },
  {
   "cell_type": "markdown",
   "metadata": {
    "slideshow": {
     "slide_type": "subslide"
    }
   },
   "source": [
    "[JuMP.jl](https://github.com/JuliaOpt/JuMP.jl) is a high-level modeling language for mathematical optimization embedded in Julia. It currently supports \n",
    "- a number of open-source and commercial solvers (Artelys Knitro, BARON, Bonmin, Cbc, Clp, Couenne, CPLEX, ECOS, FICO Xpress, GLPK, Gurobi, Ipopt, MOSEK, NLopt, SCS) \n",
    "- for a variety of problem classes, including linear programming, (mixed) integer programming, second-order conic programming, semidefinite programming, and nonlinear programming."
   ]
  },
  {
   "cell_type": "markdown",
   "metadata": {
    "slideshow": {
     "slide_type": "subslide"
    }
   },
   "source": [
    "<a href=\"http://www.juliaopt.org\"><img src=\"figures/juliaopt.png\" alt=\"JuliaOpt\" style=\"width: 1000px;\"/></a>"
   ]
  },
  {
   "cell_type": "markdown",
   "metadata": {
    "collapsed": true,
    "slideshow": {
     "slide_type": "slide"
    }
   },
   "source": [
    "Take a simple knapsack problem \n",
    "\n",
    "\\begin{align*}\n",
    "    \\max\\:& x + y \\\\\n",
    "    \\text{s.t.}\\:& x + 2y \\leq 1.5 \\\\\n",
    "    & x, y \\in \\{0,1\\}\n",
    "\\end{align*}\n",
    "\n",
    "you can easily define it in JuMP:"
   ]
  },
  {
   "cell_type": "code",
   "execution_count": 1,
   "metadata": {
    "slideshow": {
     "slide_type": "fragment"
    }
   },
   "outputs": [
    {
     "name": "stdout",
     "output_type": "stream",
     "text": [
      "Max x + y\n",
      "Subject to\n",
      " x + 2 y ≤ 1.5\n",
      " x ∈ {0,1}\n",
      " y ∈ {0,1}\n"
     ]
    }
   ],
   "source": [
    "using JuMP, Gurobi\n",
    "m = Model(solver=GurobiSolver())\n",
    "\n",
    "@variable(m, x, Bin) # or Int\n",
    "@variable(m, y, Bin)\n",
    "\n",
    "@constraint(m, x + 2y ≤ 1.5)\n",
    "@objective(m, Max, x + y)\n",
    "\n",
    "print(m)"
   ]
  },
  {
   "cell_type": "markdown",
   "metadata": {
    "slideshow": {
     "slide_type": "subslide"
    }
   },
   "source": [
    "and solve it"
   ]
  },
  {
   "cell_type": "code",
   "execution_count": 2,
   "metadata": {
    "slideshow": {
     "slide_type": "fragment"
    }
   },
   "outputs": [
    {
     "name": "stdout",
     "output_type": "stream",
     "text": [
      "Academic license - for non-commercial use only\n",
      "Optimize a model with 1 rows, 2 columns and 2 nonzeros\n",
      "Variable types: 0 continuous, 2 integer (2 binary)\n",
      "Coefficient statistics:\n",
      "  Matrix range     [1e+00, 2e+00]\n",
      "  Objective range  [1e+00, 1e+00]\n",
      "  Bounds range     [1e+00, 1e+00]\n",
      "  RHS range        [2e+00, 2e+00]\n",
      "Found heuristic solution: objective 1.0000000\n",
      "Presolve removed 1 rows and 2 columns\n",
      "Presolve time: 0.00s\n",
      "Presolve: All rows and columns removed\n",
      "\n",
      "Explored 0 nodes (0 simplex iterations) in 0.00 seconds\n",
      "Thread count was 1 (of 4 available processors)\n",
      "\n",
      "Solution count 1: 1 \n",
      "\n",
      "Optimal solution found (tolerance 1.00e-04)\n",
      "Best objective 1.000000000000e+00, best bound 1.000000000000e+00, gap 0.0000%\n"
     ]
    },
    {
     "data": {
      "text/plain": [
       ":Optimal"
      ]
     },
     "execution_count": 2,
     "metadata": {},
     "output_type": "execute_result"
    }
   ],
   "source": [
    "solve(m)"
   ]
  },
  {
   "cell_type": "markdown",
   "metadata": {
    "collapsed": true,
    "slideshow": {
     "slide_type": "subslide"
    }
   },
   "source": [
    "This is kind of dull since Gurobi solves this before we ever get to the branch-and-bound tree! Let's cook up a problem that's a little more interesting. What about more items, and more knapsacks! If $N=100$, naïve enumeration would create $2^{100}$ nodes, which would take quite some time. How does the solver actually tackle it?"
   ]
  },
  {
   "cell_type": "code",
   "execution_count": 3,
   "metadata": {
    "slideshow": {
     "slide_type": "fragment"
    }
   },
   "outputs": [
    {
     "name": "stdout",
     "output_type": "stream",
     "text": [
      "Academic license - for non-commercial use only\n",
      "Optimize a model with 10 rows, 100 columns and 1000 nonzeros\n",
      "Variable types: 0 continuous, 100 integer (100 binary)\n",
      "Coefficient statistics:\n",
      "  Matrix range     [2e-03, 1e+00]\n",
      "  Objective range  [3e-02, 1e+00]\n",
      "  Bounds range     [1e+00, 1e+00]\n",
      "  RHS range        [2e+00, 2e+00]\n",
      "Found heuristic solution: objective 2.7236830\n",
      "Presolve time: 0.00s\n",
      "Presolved: 10 rows, 100 columns, 1000 nonzeros\n",
      "Variable types: 0 continuous, 100 integer (100 binary)\n",
      "\n",
      "Root relaxation: objective 4.313656e+00, 22 iterations, 0.00 seconds\n",
      "\n",
      "    Nodes    |    Current Node    |     Objective Bounds      |     Work\n",
      " Expl Unexpl |  Obj  Depth IntInf | Incumbent    BestBd   Gap | It/Node Time\n",
      "\n",
      "     0     0    4.31366    0    7    2.72368    4.31366  58.4%     -    0s\n",
      "H    0     0                       3.5201901    4.31366  22.5%     -    0s\n",
      "     0     0    4.21181    0   10    3.52019    4.21181  19.6%     -    0s\n",
      "     0     0    4.17991    0   10    3.52019    4.17991  18.7%     -    0s\n",
      "     0     0    4.15439    0   11    3.52019    4.15439  18.0%     -    0s\n",
      "     0     0    4.13910    0   10    3.52019    4.13910  17.6%     -    0s\n",
      "     0     0    4.11729    0   12    3.52019    4.11729  17.0%     -    0s\n",
      "     0     0    4.11399    0   11    3.52019    4.11399  16.9%     -    0s\n",
      "     0     0    4.11055    0   11    3.52019    4.11055  16.8%     -    0s\n",
      "     0     0    4.10724    0   12    3.52019    4.10724  16.7%     -    0s\n",
      "     0     0    4.10669    0   12    3.52019    4.10669  16.7%     -    0s\n",
      "     0     0    4.10636    0   13    3.52019    4.10636  16.7%     -    0s\n",
      "     0     0    4.10601    0   14    3.52019    4.10601  16.6%     -    0s\n",
      "     0     0    4.10588    0   14    3.52019    4.10588  16.6%     -    0s\n",
      "     0     0    4.10588    0    7    3.52019    4.10588  16.6%     -    0s\n",
      "     0     0    4.10588    0   10    3.52019    4.10588  16.6%     -    0s\n",
      "     0     0    4.10588    0    8    3.52019    4.10588  16.6%     -    0s\n",
      "     0     0    4.10588    0   11    3.52019    4.10588  16.6%     -    0s\n",
      "     0     0    4.10588    0   11    3.52019    4.10588  16.6%     -    0s\n",
      "     0     0    4.10588    0   12    3.52019    4.10588  16.6%     -    0s\n",
      "     0     0    4.10588    0   11    3.52019    4.10588  16.6%     -    0s\n",
      "     0     0    4.10588    0   12    3.52019    4.10588  16.6%     -    0s\n",
      "     0     0    4.10588    0   13    3.52019    4.10588  16.6%     -    0s\n",
      "     0     0    4.10588    0   14    3.52019    4.10588  16.6%     -    0s\n",
      "     0     0    4.10588    0   14    3.52019    4.10588  16.6%     -    0s\n",
      "     0     0    4.10588    0   13    3.52019    4.10588  16.6%     -    0s\n",
      "     0     0    4.10588    0   13    3.52019    4.10588  16.6%     -    0s\n",
      "     0     0    4.10588    0   14    3.52019    4.10588  16.6%     -    0s\n",
      "     0     0    4.10588    0   16    3.52019    4.10588  16.6%     -    0s\n",
      "     0     0    4.10588    0   16    3.52019    4.10588  16.6%     -    0s\n",
      "     0     2    4.10588    0   16    3.52019    4.10588  16.6%     -    0s\n",
      "\n",
      "Cutting planes:\n",
      "  Gomory: 2\n",
      "  Cover: 10\n",
      "  MIR: 4\n",
      "  StrongCG: 2\n",
      "\n",
      "Explored 289 nodes (1700 simplex iterations) in 0.20 seconds\n",
      "Thread count was 4 (of 4 available processors)\n",
      "\n",
      "Solution count 2: 3.52019 2.72368 \n",
      "\n",
      "Optimal solution found (tolerance 1.00e-04)\n",
      "Best objective 3.520190123503e+00, best bound 3.520190123503e+00, gap 0.0000%\n"
     ]
    },
    {
     "data": {
      "text/plain": [
       ":Optimal"
      ]
     },
     "execution_count": 3,
     "metadata": {},
     "output_type": "execute_result"
    }
   ],
   "source": [
    "using LinearAlgebra\n",
    "N = 100\n",
    "\n",
    "m = Model(solver=GurobiSolver())\n",
    "@variable(m, x[1:N], Bin)\n",
    "for _ in 1:10\n",
    "    @constraint(m, dot(rand(N), x) ≤ N / 50)\n",
    "end\n",
    "\n",
    "@objective(m, Max, dot(rand(N), x))\n",
    "\n",
    "solve(m)"
   ]
  },
  {
   "cell_type": "markdown",
   "metadata": {
    "slideshow": {
     "slide_type": "skip"
    }
   },
   "source": [
    "## Understanding solver output"
   ]
  },
  {
   "cell_type": "markdown",
   "metadata": {
    "slideshow": {
     "slide_type": "skip"
    }
   },
   "source": [
    "First, it solves the LP relaxation and reports back:\n",
    "```\n",
    "Root relaxation: objective 4.086983e+00, 18 iterations, 0.00 seconds\n",
    "```\n",
    "Now it explores the branch-and-bound tree, and updates us as it goes along. Let's look at just the first line:\n",
    "```\n",
    "    Nodes    |    Current Node    |     Objective Bounds      |     Work\n",
    " Expl Unexpl |  Obj  Depth IntInf | Incumbent    BestBd   Gap | It/Node Time\n",
    "\n",
    "     0     0    4.08698    0    8    0.85653    4.08698   377%     -    0s\n",
    "```\n",
    "We see that the information is broken down into four main columns:\n",
    "\n",
    "1. ``Nodes``: Global node information\n",
    "    * how many nodes have we looked at\n",
    "    * how many do we have in our queue\n",
    "2. ``Current Node``\n",
    "    * objective\n",
    "    * depth in the tree\n",
    "    * number of noninteger variables in the solution\n",
    "3. ``Objective Bounds``\n",
    "    * Best incumbent (lower bound)\n",
    "    * node upper bound\n",
    "    * the gap between the two\n",
    "4. ``Work``\n",
    "    * average simplex iterations per node\n",
    "    * total elapsed time\n",
    "\n",
    "Finally, we get a neat summary of the cutting planes Gurobi found useful:\n",
    "```\n",
    "Cutting planes:\n",
    "    Gomory: 3\n",
    "  Cover: 5\n",
    "  MIR: 2\n",
    "  StrongCG: 1\n",
    "```\n",
    "All told, we explored 264  nodes, much less than the $2^{100}$ we were worried about. All this only took 1354 simplex iterations and 0.14 seconds.\n",
    "\n",
    "Now what about those ``H``s that appear? That tells us that Gurobi ran a heuristic and found a new best solution. You can see for yourself, as the incumbent value increases while the bound remains the same:\n",
    "```\n",
    "    Nodes    |    Current Node    |     Objective Bounds      |     Work\n",
    " Expl Unexpl |  Obj  Depth IntInf | Incumbent    BestBd   Gap | It/Node Time\n",
    "\n",
    "     0     0    4.00770    0   12    2.97534    4.00770  34.7%     -    0s\n",
    "H    0     0                       3.4427490    4.00770  16.4%     -    0s\n",
    "```\n",
    "You'll also sometimes see a ``*`` instead of the ``H``, which says that the feasible solution came from branching instead of heuristics."
   ]
  },
  {
   "cell_type": "markdown",
   "metadata": {
    "slideshow": {
     "slide_type": "skip"
    }
   },
   "source": [
    "# Solver parameters: Should you bother?\n",
    "\n",
    "Gurobi (and other high-quality solvers) allow you to tweak a wide range of different parameters; _sometimes_ tuning these can drastically improve performance. It can be kind of intimidating, though: Gurobi has over 100 parameters, so which are the important ones?\n",
    "\n",
    "Some useful ones:\n",
    "\n",
    "* ``TimeLimit``: How long the solver will run before giving up.\n",
    "* ``NodeLimit``: How many nodes to explore before giving up.\n",
    "* ``MIPGap``: Termination criterion for relative gap $\\frac{UB-LB}{LB}$.\n",
    "* ``MIPFocus``: High-level controls on solver priority (proving optimality or increasing bound or finding optimal solution).\n",
    "* ``Heuristics``: Determines the amount of time spent in MIP heuristics.\n",
    "* ``Cuts``: Controls the aggressiveness of cut generation.\n",
    "* ``Presolve``: Controls the presolve level (conservative or aggressive).\n",
    "\n",
    "Is that it? Well, no, but you probably need domain knowledge about your problem to go much further. There's an alternative: Gurobi has a parameter tuning feature you can try to \"learn\" good parameter settings for a particular model. Try it out if you aren't quite happy with your performance."
   ]
  },
  {
   "cell_type": "markdown",
   "metadata": {
    "slideshow": {
     "slide_type": "slide"
    }
   },
   "source": [
    "## Sudoku\n",
    "\n",
    "![Sudoku](http://upload.wikimedia.org/wikipedia/commons/f/ff/Sudoku-by-L2G-20050714.svg)\n",
    "\n",
    "**Sudoku** is a number puzzle played on a 9x9 grid. The challenge is to place a digit between 1 and 9 inclusive in each empty cell, such that the completed grid obeys the following rules:\n",
    "\n",
    "* Each row contains the numbers 1 to 9 once and only once.\n",
    "* Each column contains the numbers 1 to 9 once and only once.\n",
    "* Each 3x3 subgrid contains the numbers 1 to 9 once and only once."
   ]
  },
  {
   "cell_type": "markdown",
   "metadata": {
    "slideshow": {
     "slide_type": "slide"
    }
   },
   "source": [
    ">**\\[Exercise\\]**: Sudoku\n",
    "\n",
    "> Model the Sudoku problem as an optimization problem.\n",
    "\n",
    "> Write a Julia function to solve it."
   ]
  },
  {
   "cell_type": "markdown",
   "metadata": {
    "slideshow": {
     "slide_type": "slide"
    }
   },
   "source": [
    "** Variables **\n",
    "\n",
    "We define binary variables \n",
    "$$ x_{i,j,k} \\in \\{0, 1\\}, $$\n",
    "for each row $i$, column $j$ and integer $k \\in \\{ 1,2, \\dots,9\\}$.\n",
    "\n",
    "$x_{i,j,k} = 1$ iff the number $k$ appears in cell $(i,j)$"
   ]
  },
  {
   "cell_type": "markdown",
   "metadata": {
    "slideshow": {
     "slide_type": "slide"
    }
   },
   "source": [
    "** Constraints **"
   ]
  },
  {
   "cell_type": "markdown",
   "metadata": {
    "slideshow": {
     "slide_type": "subslide"
    }
   },
   "source": [
    "- Exactly one value appears in each cell: for all $(i,j)$,\n",
    "$$\\sum_{k=1}^9 x_{i,j,k} = 1$$\n",
    "- Each value appears in each row exactly once: for all $i$, all $k$,\n",
    "$$\\sum_{j=1}^9 x_{i,j,k} = 1$$\n",
    "- Each value appears in each column exactly once: for all $j$, all $k$,\n",
    "$$\\sum_{i=1}^9 x_{i,j,k} = 1$$\n",
    "- Each value appears in each 3x3 subgrid exactly once: for all subgrid $(i,j) \\in \\{1,4,7\\}\\times\\{1,4,7\\}$, for all $k$,\n",
    "$$\\sum_{i'=i}^{i+2} \\sum_{j'=j}^{j+2} x_{i,j,k} = 1$$\n",
    "- Match the value on known cells "
   ]
  },
  {
   "cell_type": "markdown",
   "metadata": {
    "slideshow": {
     "slide_type": "slide"
    }
   },
   "source": [
    "** Objective? **"
   ]
  },
  {
   "cell_type": "markdown",
   "metadata": {
    "slideshow": {
     "slide_type": "slide"
    }
   },
   "source": [
    "Let us solve this problem in Julia now!"
   ]
  },
  {
   "cell_type": "code",
   "execution_count": 4,
   "metadata": {
    "slideshow": {
     "slide_type": "slide"
    }
   },
   "outputs": [
    {
     "data": {
      "image/png": "[encoded data removed]",
      "text/plain": [
       "Figure(PyObject <Figure size 640x480 with 1 Axes>)"
      ]
     },
     "metadata": {},
     "output_type": "display_data"
    }
   ],
   "source": [
    "init_vals = [\n",
    "5 3 0 0 7 0 0 0 0\n",
    "6 0 0 1 9 5 0 0 0\n",
    "0 9 8 0 0 0 0 6 0\n",
    "8 0 0 0 6 0 0 0 3\n",
    "4 0 0 8 0 3 0 0 1\n",
    "7 0 0 0 2 0 0 0 6\n",
    "0 6 0 0 0 0 2 8 0\n",
    "0 0 0 4 1 9 0 0 5\n",
    "0 0 0 0 8 0 0 7 9\n",
    "]\n",
    "\n",
    "using PyPlot\n",
    "# Displays a sudoku matrix. If an initial state is provided, \n",
    "# then the new numbers are displayed in red. \n",
    "function display_sudoku(sudoku, initial_state=zeros(9,9))\n",
    "    fig, ax = subplots()\n",
    "    ax[:axis](\"off\")\n",
    "    # Make sudoku basic 9x9 grid.\n",
    "    for i in 0:9\n",
    "        plot([i,i], [0, 9], color = \"black\")\n",
    "        plot([0, 9], [i,i], color = \"black\")\n",
    "    end\n",
    "    # Make thicker lines to separate the 3x3 subgrids.\n",
    "    for i in 0:3:9\n",
    "        plot([i,i], [0,9], color = \"black\", linewidth = 3)\n",
    "        plot([0,9], [i,i], color = \"black\", linewidth = 3)\n",
    "    end\n",
    "    # Display the values at the right square.\n",
    "    for i in 0:8\n",
    "        for j in 0:8 \n",
    "            value = Int(sudoku[9-j,i+1])\n",
    "            old_value = initial_state[9-j,i+1]\n",
    "            # If an initial state is not provided (set to zero) or the value of the \n",
    "            # square did not change, the color is set to black. Otherwise, it becomes red.\n",
    "            col = (sum(initial_state) == 0 || old_value == value) ? \"black\" : \"red\"\n",
    "            if value > 0 # Omit zero values  \n",
    "                text(i + 0.35, j + 0.33, value, size = 16, color = col)\n",
    "            end\n",
    "        end\n",
    "    end\n",
    "end\n",
    "display_sudoku(init_vals)"
   ]
  },
  {
   "cell_type": "code",
   "execution_count": 5,
   "metadata": {
    "slideshow": {
     "slide_type": "slide"
    }
   },
   "outputs": [
    {
     "name": "stdout",
     "output_type": "stream",
     "text": [
      "Min 0\n",
      "Subject to\n",
      " x[1,1,1] + x[1,1,2] + x[1,1,3] + x[1,1,4] + x[1,1,5] + x[1,1,6] + x[1,1,7] + x[1,1,8] + x[1,1,9] = 1\n",
      " x[1,2,1] + x[1,2,2] + x[1,2,3] + x[1,2,4] + x[1,2,5] + x[1,2,6] + x[1,2,7] + x[1,2,8] + x[1,2,9] = 1\n",
      " x[1,3,1] + x[1,3,2] + x[1,3,3] + x[1,3,4] + x[1,3,5] + x[1,3,6] + x[1,3,7] + x[1,3,8] + x[1,3,9] = 1\n",
      " x[1,4,1] + x[1,4,2] + x[1,4,3] + x[1,4,4] + x[1,4,5] + x[1,4,6] + x[1,4,7] + x[1,4,8] + x[1,4,9] = 1\n",
      " x[1,5,1] + x[1,5,2] + x[1,5,3] + x[1,5,4] + x[1,5,5] + x[1,5,6] + x[1,5,7] + x[1,5,8] + x[1,5,9] = 1\n",
      " x[1,6,1] + x[1,6,2] + x[1,6,3] + x[1,6,4] + x[1,6,5] + x[1,6,6] + x[1,6,7] + x[1,6,8] + x[1,6,9] = 1\n",
      " x[1,7,1] + x[1,7,2] + x[1,7,3] + x[1,7,4] + x[1,7,5] + x[1,7,6] + x[1,7,7] + x[1,7,8] + x[1,7,9] = 1\n",
      " x[1,8,1] + x[1,8,2] + x[1,8,3] + x[1,8,4] + x[1,8,5] + x[1,8,6] + x[1,8,7] + x[1,8,8] + x[1,8,9] = 1\n",
      " x[1,9,1] + x[1,9,2] + x[1,9,3] + x[1,9,4] + x[1,9,5] + x[1,9,6] + x[1,9,7] + x[1,9,8] + x[1,9,9] = 1\n",
      " x[2,1,1] + x[2,1,2] + x[2,1,3] + x[2,1,4] + x[2,1,5] + x[2,1,6] + x[2,1,7] + x[2,1,8] + x[2,1,9] = 1\n",
      " x[2,2,1] + x[2,2,2] + x[2,2,3] + x[2,2,4] + x[2,2,5] + x[2,2,6] + x[2,2,7] + x[2,2,8] + x[2,2,9] = 1\n",
      " x[2,3,1] + x[2,3,2] + x[2,3,3] + x[2,3,4] + x[2,3,5] + x[2,3,6] + x[2,3,7] + x[2,3,8] + x[2,3,9] = 1\n",
      " x[2,4,1] + x[2,4,2] + x[2,4,3] + x[2,4,4] + x[2,4,5] + x[2,4,6] + x[2,4,7] + x[2,4,8] + x[2,4,9] = 1\n",
      " x[2,5,1] + x[2,5,2] + x[2,5,3] + x[2,5,4] + x[2,5,5] + x[2,5,6] + x[2,5,7] + x[2,5,8] + x[2,5,9] = 1\n",
      " x[2,6,1] + x[2,6,2] + x[2,6,3] + x[2,6,4] + x[2,6,5] + x[2,6,6] + x[2,6,7] + x[2,6,8] + x[2,6,9] = 1\n",
      " x[2,7,1] + x[2,7,2] + x[2,7,3] + x[2,7,4] + x[2,7,5] + x[2,7,6] + x[2,7,7] + x[2,7,8] + x[2,7,9] = 1\n",
      " x[2,8,1] + x[2,8,2] + x[2,8,3] + x[2,8,4] + x[2,8,5] + x[2,8,6] + x[2,8,7] + x[2,8,8] + x[2,8,9] = 1\n",
      " x[2,9,1] + x[2,9,2] + x[2,9,3] + x[2,9,4] + x[2,9,5] + x[2,9,6] + x[2,9,7] + x[2,9,8] + x[2,9,9] = 1\n",
      " x[3,1,1] + x[3,1,2] + x[3,1,3] + x[3,1,4] + x[3,1,5] + x[3,1,6] + x[3,1,7] + x[3,1,8] + x[3,1,9] = 1\n",
      " x[3,2,1] + x[3,2,2] + x[3,2,3] + x[3,2,4] + x[3,2,5] + x[3,2,6] + x[3,2,7] + x[3,2,8] + x[3,2,9] = 1\n",
      " x[3,3,1] + x[3,3,2] + x[3,3,3] + x[3,3,4] + x[3,3,5] + x[3,3,6] + x[3,3,7] + x[3,3,8] + x[3,3,9] = 1\n",
      " x[3,4,1] + x[3,4,2] + x[3,4,3] + x[3,4,4] + x[3,4,5] + x[3,4,6] + x[3,4,7] + x[3,4,8] + x[3,4,9] = 1\n",
      " x[3,5,1] + x[3,5,2] + x[3,5,3] + x[3,5,4] + x[3,5,5] + x[3,5,6] + x[3,5,7] + x[3,5,8] + x[3,5,9] = 1\n",
      " x[3,6,1] + x[3,6,2] + x[3,6,3] + x[3,6,4] + x[3,6,5] + x[3,6,6] + x[3,6,7] + x[3,6,8] + x[3,6,9] = 1\n",
      " x[3,7,1] + x[3,7,2] + x[3,7,3] + x[3,7,4] + x[3,7,5] + x[3,7,6] + x[3,7,7] + x[3,7,8] + x[3,7,9] = 1\n",
      " x[3,8,1] + x[3,8,2] + x[3,8,3] + x[3,8,4] + x[3,8,5] + x[3,8,6] + x[3,8,7] + x[3,8,8] + x[3,8,9] = 1\n",
      " x[3,9,1] + x[3,9,2] + x[3,9,3] + x[3,9,4] + x[3,9,5] + x[3,9,6] + x[3,9,7] + x[3,9,8] + x[3,9,9] = 1\n",
      " x[4,1,1] + x[4,1,2] + x[4,1,3] + x[4,1,4] + x[4,1,5] + x[4,1,6] + x[4,1,7] + x[4,1,8] + x[4,1,9] = 1\n",
      " x[4,2,1] + x[4,2,2] + x[4,2,3] + x[4,2,4] + x[4,2,5] + x[4,2,6] + x[4,2,7] + x[4,2,8] + x[4,2,9] = 1\n",
      " x[4,3,1] + x[4,3,2] + x[4,3,3] + x[4,3,4] + x[4,3,5] + x[4,3,6] + x[4,3,7] + x[4,3,8] + x[4,3,9] = 1\n",
      " x[4,4,1] + x[4,4,2] + x[4,4,3] + x[4,4,4] + x[4,4,5] + x[4,4,6] + x[4,4,7] + x[4,4,8] + x[4,4,9] = 1\n",
      " x[4,5,1] + x[4,5,2] + x[4,5,3] + x[4,5,4] + x[4,5,5] + x[4,5,6] + x[4,5,7] + x[4,5,8] + x[4,5,9] = 1\n",
      " x[4,6,1] + x[4,6,2] + x[4,6,3] + x[4,6,4] + x[4,6,5] + x[4,6,6] + x[4,6,7] + x[4,6,8] + x[4,6,9] = 1\n",
      " x[4,7,1] + x[4,7,2] + x[4,7,3] + x[4,7,4] + x[4,7,5] + x[4,7,6] + x[4,7,7] + x[4,7,8] + x[4,7,9] = 1\n",
      " x[4,8,1] + x[4,8,2] + x[4,8,3] + x[4,8,4] + x[4,8,5] + x[4,8,6] + x[4,8,7] + x[4,8,8] + x[4,8,9] = 1\n",
      " x[4,9,1] + x[4,9,2] + x[4,9,3] + x[4,9,4] + x[4,9,5] + x[4,9,6] + x[4,9,7] + x[4,9,8] + x[4,9,9] = 1\n",
      " x[5,1,1] + x[5,1,2] + x[5,1,3] + x[5,1,4] + x[5,1,5] + x[5,1,6] + x[5,1,7] + x[5,1,8] + x[5,1,9] = 1\n",
      " x[5,2,1] + x[5,2,2] + x[5,2,3] + x[5,2,4] + x[5,2,5] + x[5,2,6] + x[5,2,7] + x[5,2,8] + x[5,2,9] = 1\n",
      " x[5,3,1] + x[5,3,2] + x[5,3,3] + x[5,3,4] + x[5,3,5] + x[5,3,6] + x[5,3,7] + x[5,3,8] + x[5,3,9] = 1\n",
      " x[5,4,1] + x[5,4,2] + x[5,4,3] + x[5,4,4] + x[5,4,5] + x[5,4,6] + x[5,4,7] + x[5,4,8] + x[5,4,9] = 1\n",
      " x[5,5,1] + x[5,5,2] + x[5,5,3] + x[5,5,4] + x[5,5,5] + x[5,5,6] + x[5,5,7] + x[5,5,8] + x[5,5,9] = 1\n",
      " x[5,6,1] + x[5,6,2] + x[5,6,3] + x[5,6,4] + x[5,6,5] + x[5,6,6] + x[5,6,7] + x[5,6,8] + x[5,6,9] = 1\n",
      " x[5,7,1] + x[5,7,2] + x[5,7,3] + x[5,7,4] + x[5,7,5] + x[5,7,6] + x[5,7,7] + x[5,7,8] + x[5,7,9] = 1\n",
      " x[5,8,1] + x[5,8,2] + x[5,8,3] + x[5,8,4] + x[5,8,5] + x[5,8,6] + x[5,8,7] + x[5,8,8] + x[5,8,9] = 1\n",
      " x[5,9,1] + x[5,9,2] + x[5,9,3] + x[5,9,4] + x[5,9,5] + x[5,9,6] + x[5,9,7] + x[5,9,8] + x[5,9,9] = 1\n",
      " x[6,1,1] + x[6,1,2] + x[6,1,3] + x[6,1,4] + x[6,1,5] + x[6,1,6] + x[6,1,7] + x[6,1,8] + x[6,1,9] = 1\n",
      " x[6,2,1] + x[6,2,2] + x[6,2,3] + x[6,2,4] + x[6,2,5] + x[6,2,6] + x[6,2,7] + x[6,2,8] + x[6,2,9] = 1\n",
      " x[6,3,1] + x[6,3,2] + x[6,3,3] + x[6,3,4] + x[6,3,5] + x[6,3,6] + x[6,3,7] + x[6,3,8] + x[6,3,9] = 1\n",
      " x[6,4,1] + x[6,4,2] + x[6,4,3] + x[6,4,4] + x[6,4,5] + x[6,4,6] + x[6,4,7] + x[6,4,8] + x[6,4,9] = 1\n",
      " x[6,5,1] + x[6,5,2] + x[6,5,3] + x[6,5,4] + x[6,5,5] + x[6,5,6] + x[6,5,7] + x[6,5,8] + x[6,5,9] = 1\n",
      " x[6,6,1] + x[6,6,2] + x[6,6,3] + x[6,6,4] + x[6,6,5] + x[6,6,6] + x[6,6,7] + x[6,6,8] + x[6,6,9] = 1\n",
      " x[6,7,1] + x[6,7,2] + x[6,7,3] + x[6,7,4] + x[6,7,5] + x[6,7,6] + x[6,7,7] + x[6,7,8] + x[6,7,9] = 1\n",
      " x[6,8,1] + x[6,8,2] + x[6,8,3] + x[6,8,4] + x[6,8,5] + x[6,8,6] + x[6,8,7] + x[6,8,8] + x[6,8,9] = 1\n",
      " x[6,9,1] + x[6,9,2] + x[6,9,3] + x[6,9,4] + x[6,9,5] + x[6,9,6] + x[6,9,7] + x[6,9,8] + x[6,9,9] = 1\n",
      " x[7,1,1] + x[7,1,2] + x[7,1,3] + x[7,1,4] + x[7,1,5] + x[7,1,6] + x[7,1,7] + x[7,1,8] + x[7,1,9] = 1\n",
      " x[7,2,1] + x[7,2,2] + x[7,2,3] + x[7,2,4] + x[7,2,5] + x[7,2,6] + x[7,2,7] + x[7,2,8] + x[7,2,9] = 1\n",
      " x[7,3,1] + x[7,3,2] + x[7,3,3] + x[7,3,4] + x[7,3,5] + x[7,3,6] + x[7,3,7] + x[7,3,8] + x[7,3,9] = 1\n",
      " x[7,4,1] + x[7,4,2] + x[7,4,3] + x[7,4,4] + x[7,4,5] + x[7,4,6] + x[7,4,7] + x[7,4,8] + x[7,4,9] = 1\n",
      " x[7,5,1] + x[7,5,2] + x[7,5,3] + x[7,5,4] + x[7,5,5] + x[7,5,6] + x[7,5,7] + x[7,5,8] + x[7,5,9] = 1\n",
      " x[7,6,1] + x[7,6,2] + x[7,6,3] + x[7,6,4] + x[7,6,5] + x[7,6,6] + x[7,6,7] + x[7,6,8] + x[7,6,9] = 1\n",
      " x[7,7,1] + x[7,7,2] + x[7,7,3] + x[7,7,4] + x[7,7,5] + x[7,7,6] + x[7,7,7] + x[7,7,8] + x[7,7,9] = 1\n",
      " x[7,8,1] + x[7,8,2] + x[7,8,3] + x[7,8,4] + x[7,8,5] + x[7,8,6] + x[7,8,7] + x[7,8,8] + x[7,8,9] = 1\n",
      " x[7,9,1] + x[7,9,2] + x[7,9,3] + x[7,9,4] + x[7,9,5] + x[7,9,6] + x[7,9,7] + x[7,9,8] + x[7,9,9] = 1\n",
      " x[8,1,1] + x[8,1,2] + x[8,1,3] + x[8,1,4] + x[8,1,5] + x[8,1,6] + x[8,1,7] + x[8,1,8] + x[8,1,9] = 1\n",
      " x[8,2,1] + x[8,2,2] + x[8,2,3] + x[8,2,4] + x[8,2,5] + x[8,2,6] + x[8,2,7] + x[8,2,8] + x[8,2,9] = 1\n",
      " x[8,3,1] + x[8,3,2] + x[8,3,3] + x[8,3,4] + x[8,3,5] + x[8,3,6] + x[8,3,7] + x[8,3,8] + x[8,3,9] = 1\n",
      " x[8,4,1] + x[8,4,2] + x[8,4,3] + x[8,4,4] + x[8,4,5] + x[8,4,6] + x[8,4,7] + x[8,4,8] + x[8,4,9] = 1\n",
      " x[8,5,1] + x[8,5,2] + x[8,5,3] + x[8,5,4] + x[8,5,5] + x[8,5,6] + x[8,5,7] + x[8,5,8] + x[8,5,9] = 1\n",
      " x[8,6,1] + x[8,6,2] + x[8,6,3] + x[8,6,4] + x[8,6,5] + x[8,6,6] + x[8,6,7] + x[8,6,8] + x[8,6,9] = 1\n",
      " x[8,7,1] + x[8,7,2] + x[8,7,3] + x[8,7,4] + x[8,7,5] + x[8,7,6] + x[8,7,7] + x[8,7,8] + x[8,7,9] = 1\n",
      " x[8,8,1] + x[8,8,2] + x[8,8,3] + x[8,8,4] + x[8,8,5] + x[8,8,6] + x[8,8,7] + x[8,8,8] + x[8,8,9] = 1\n",
      " x[8,9,1] + x[8,9,2] + x[8,9,3] + x[8,9,4] + x[8,9,5] + x[8,9,6] + x[8,9,7] + x[8,9,8] + x[8,9,9] = 1\n",
      " x[9,1,1] + x[9,1,2] + x[9,1,3] + x[9,1,4] + x[9,1,5] + x[9,1,6] + x[9,1,7] + x[9,1,8] + x[9,1,9] = 1\n",
      " x[9,2,1] + x[9,2,2] + x[9,2,3] + x[9,2,4] + x[9,2,5] + x[9,2,6] + x[9,2,7] + x[9,2,8] + x[9,2,9] = 1\n",
      " x[9,3,1] + x[9,3,2] + x[9,3,3] + x[9,3,4] + x[9,3,5] + x[9,3,6] + x[9,3,7] + x[9,3,8] + x[9,3,9] = 1\n",
      " x[9,4,1] + x[9,4,2] + x[9,4,3] + x[9,4,4] + x[9,4,5] + x[9,4,6] + x[9,4,7] + x[9,4,8] + x[9,4,9] = 1\n",
      " x[9,5,1] + x[9,5,2] + x[9,5,3] + x[9,5,4] + x[9,5,5] + x[9,5,6] + x[9,5,7] + x[9,5,8] + x[9,5,9] = 1\n",
      " x[9,6,1] + x[9,6,2] + x[9,6,3] + x[9,6,4] + x[9,6,5] + x[9,6,6] + x[9,6,7] + x[9,6,8] + x[9,6,9] = 1\n",
      " x[9,7,1] + x[9,7,2] + x[9,7,3] + x[9,7,4] + x[9,7,5] + x[9,7,6] + x[9,7,7] + x[9,7,8] + x[9,7,9] = 1\n",
      " x[9,8,1] + x[9,8,2] + x[9,8,3] + x[9,8,4] + x[9,8,5] + x[9,8,6] + x[9,8,7] + x[9,8,8] + x[9,8,9] = 1\n",
      " x[9,9,1] + x[9,9,2] + x[9,9,3] + x[9,9,4] + x[9,9,5] + x[9,9,6] + x[9,9,7] + x[9,9,8] + x[9,9,9] = 1\n",
      " x[1,1,1] + x[1,2,1] + x[1,3,1] + x[1,4,1] + x[1,5,1] + x[1,6,1] + x[1,7,1] + x[1,8,1] + x[1,9,1] = 1\n",
      " x[1,1,2] + x[1,2,2] + x[1,3,2] + x[1,4,2] + x[1,5,2] + x[1,6,2] + x[1,7,2] + x[1,8,2] + x[1,9,2] = 1\n",
      " x[1,1,3] + x[1,2,3] + x[1,3,3] + x[1,4,3] + x[1,5,3] + x[1,6,3] + x[1,7,3] + x[1,8,3] + x[1,9,3] = 1\n",
      " x[1,1,4] + x[1,2,4] + x[1,3,4] + x[1,4,4] + x[1,5,4] + x[1,6,4] + x[1,7,4] + x[1,8,4] + x[1,9,4] = 1\n",
      " x[1,1,5] + x[1,2,5] + x[1,3,5] + x[1,4,5] + x[1,5,5] + x[1,6,5] + x[1,7,5] + x[1,8,5] + x[1,9,5] = 1\n",
      " x[1,1,6] + x[1,2,6] + x[1,3,6] + x[1,4,6] + x[1,5,6] + x[1,6,6] + x[1,7,6] + x[1,8,6] + x[1,9,6] = 1\n",
      " x[1,1,7] + x[1,2,7] + x[1,3,7] + x[1,4,7] + x[1,5,7] + x[1,6,7] + x[1,7,7] + x[1,8,7] + x[1,9,7] = 1\n",
      " x[1,1,8] + x[1,2,8] + x[1,3,8] + x[1,4,8] + x[1,5,8] + x[1,6,8] + x[1,7,8] + x[1,8,8] + x[1,9,8] = 1\n",
      " x[1,1,9] + x[1,2,9] + x[1,3,9] + x[1,4,9] + x[1,5,9] + x[1,6,9] + x[1,7,9] + x[1,8,9] + x[1,9,9] = 1\n",
      " x[2,1,1] + x[2,2,1] + x[2,3,1] + x[2,4,1] + x[2,5,1] + x[2,6,1] + x[2,7,1] + x[2,8,1] + x[2,9,1] = 1\n",
      " x[2,1,2] + x[2,2,2] + x[2,3,2] + x[2,4,2] + x[2,5,2] + x[2,6,2] + x[2,7,2] + x[2,8,2] + x[2,9,2] = 1\n",
      " x[2,1,3] + x[2,2,3] + x[2,3,3] + x[2,4,3] + x[2,5,3] + x[2,6,3] + x[2,7,3] + x[2,8,3] + x[2,9,3] = 1\n",
      " x[2,1,4] + x[2,2,4] + x[2,3,4] + x[2,4,4] + x[2,5,4] + x[2,6,4] + x[2,7,4] + x[2,8,4] + x[2,9,4] = 1\n",
      " x[2,1,5] + x[2,2,5] + x[2,3,5] + x[2,4,5] + x[2,5,5] + x[2,6,5] + x[2,7,5] + x[2,8,5] + x[2,9,5] = 1\n",
      " x[2,1,6] + x[2,2,6] + x[2,3,6] + x[2,4,6] + x[2,5,6] + x[2,6,6] + x[2,7,6] + x[2,8,6] + x[2,9,6] = 1\n",
      " x[2,1,7] + x[2,2,7] + x[2,3,7] + x[2,4,7] + x[2,5,7] + x[2,6,7] + x[2,7,7] + x[2,8,7] + x[2,9,7] = 1\n",
      " x[2,1,8] + x[2,2,8] + x[2,3,8] + x[2,4,8] + x[2,5,8] + x[2,6,8] + x[2,7,8] + x[2,8,8] + x[2,9,8] = 1\n",
      " x[2,1,9] + x[2,2,9] + x[2,3,9] + x[2,4,9] + x[2,5,9] + x[2,6,9] + x[2,7,9] + x[2,8,9] + x[2,9,9] = 1\n",
      " x[3,1,1] + x[3,2,1] + x[3,3,1] + x[3,4,1] + x[3,5,1] + x[3,6,1] + x[3,7,1] + x[3,8,1] + x[3,9,1] = 1\n",
      " x[3,1,2] + x[3,2,2] + x[3,3,2] + x[3,4,2] + x[3,5,2] + x[3,6,2] + x[3,7,2] + x[3,8,2] + x[3,9,2] = 1\n",
      " x[3,1,3] + x[3,2,3] + x[3,3,3] + x[3,4,3] + x[3,5,3] + x[3,6,3] + x[3,7,3] + x[3,8,3] + x[3,9,3] = 1\n",
      " x[3,1,4] + x[3,2,4] + x[3,3,4] + x[3,4,4] + x[3,5,4] + x[3,6,4] + x[3,7,4] + x[3,8,4] + x[3,9,4] = 1\n",
      " x[3,1,5] + x[3,2,5] + x[3,3,5] + x[3,4,5] + x[3,5,5] + x[3,6,5] + x[3,7,5] + x[3,8,5] + x[3,9,5] = 1\n",
      " x[3,1,6] + x[3,2,6] + x[3,3,6] + x[3,4,6] + x[3,5,6] + x[3,6,6] + x[3,7,6] + x[3,8,6] + x[3,9,6] = 1\n",
      " x[3,1,7] + x[3,2,7] + x[3,3,7] + x[3,4,7] + x[3,5,7] + x[3,6,7] + x[3,7,7] + x[3,8,7] + x[3,9,7] = 1\n",
      " x[3,1,8] + x[3,2,8] + x[3,3,8] + x[3,4,8] + x[3,5,8] + x[3,6,8] + x[3,7,8] + x[3,8,8] + x[3,9,8] = 1\n",
      " x[3,1,9] + x[3,2,9] + x[3,3,9] + x[3,4,9] + x[3,5,9] + x[3,6,9] + x[3,7,9] + x[3,8,9] + x[3,9,9] = 1\n",
      " x[4,1,1] + x[4,2,1] + x[4,3,1] + x[4,4,1] + x[4,5,1] + x[4,6,1] + x[4,7,1] + x[4,8,1] + x[4,9,1] = 1\n",
      " x[4,1,2] + x[4,2,2] + x[4,3,2] + x[4,4,2] + x[4,5,2] + x[4,6,2] + x[4,7,2] + x[4,8,2] + x[4,9,2] = 1\n",
      " x[4,1,3] + x[4,2,3] + x[4,3,3] + x[4,4,3] + x[4,5,3] + x[4,6,3] + x[4,7,3] + x[4,8,3] + x[4,9,3] = 1\n",
      " x[4,1,4] + x[4,2,4] + x[4,3,4] + x[4,4,4] + x[4,5,4] + x[4,6,4] + x[4,7,4] + x[4,8,4] + x[4,9,4] = 1\n",
      " x[4,1,5] + x[4,2,5] + x[4,3,5] + x[4,4,5] + x[4,5,5] + x[4,6,5] + x[4,7,5] + x[4,8,5] + x[4,9,5] = 1\n",
      " x[4,1,6] + x[4,2,6] + x[4,3,6] + x[4,4,6] + x[4,5,6] + x[4,6,6] + x[4,7,6] + x[4,8,6] + x[4,9,6] = 1\n",
      " x[4,1,7] + x[4,2,7] + x[4,3,7] + x[4,4,7] + x[4,5,7] + x[4,6,7] + x[4,7,7] + x[4,8,7] + x[4,9,7] = 1\n",
      " x[4,1,8] + x[4,2,8] + x[4,3,8] + x[4,4,8] + x[4,5,8] + x[4,6,8] + x[4,7,8] + x[4,8,8] + x[4,9,8] = 1\n",
      " x[4,1,9] + x[4,2,9] + x[4,3,9] + x[4,4,9] + x[4,5,9] + x[4,6,9] + x[4,7,9] + x[4,8,9] + x[4,9,9] = 1\n",
      " x[5,1,1] + x[5,2,1] + x[5,3,1] + x[5,4,1] + x[5,5,1] + x[5,6,1] + x[5,7,1] + x[5,8,1] + x[5,9,1] = 1\n",
      " x[5,1,2] + x[5,2,2] + x[5,3,2] + x[5,4,2] + x[5,5,2] + x[5,6,2] + x[5,7,2] + x[5,8,2] + x[5,9,2] = 1\n",
      " x[5,1,3] + x[5,2,3] + x[5,3,3] + x[5,4,3] + x[5,5,3] + x[5,6,3] + x[5,7,3] + x[5,8,3] + x[5,9,3] = 1\n",
      " x[5,1,4] + x[5,2,4] + x[5,3,4] + x[5,4,4] + x[5,5,4] + x[5,6,4] + x[5,7,4] + x[5,8,4] + x[5,9,4] = 1\n",
      " x[5,1,5] + x[5,2,5] + x[5,3,5] + x[5,4,5] + x[5,5,5] + x[5,6,5] + x[5,7,5] + x[5,8,5] + x[5,9,5] = 1\n",
      " x[5,1,6] + x[5,2,6] + x[5,3,6] + x[5,4,6] + x[5,5,6] + x[5,6,6] + x[5,7,6] + x[5,8,6] + x[5,9,6] = 1\n",
      " x[5,1,7] + x[5,2,7] + x[5,3,7] + x[5,4,7] + x[5,5,7] + x[5,6,7] + x[5,7,7] + x[5,8,7] + x[5,9,7] = 1\n",
      " x[5,1,8] + x[5,2,8] + x[5,3,8] + x[5,4,8] + x[5,5,8] + x[5,6,8] + x[5,7,8] + x[5,8,8] + x[5,9,8] = 1\n",
      " x[5,1,9] + x[5,2,9] + x[5,3,9] + x[5,4,9] + x[5,5,9] + x[5,6,9] + x[5,7,9] + x[5,8,9] + x[5,9,9] = 1\n",
      " x[6,1,1] + x[6,2,1] + x[6,3,1] + x[6,4,1] + x[6,5,1] + x[6,6,1] + x[6,7,1] + x[6,8,1] + x[6,9,1] = 1\n",
      " x[6,1,2] + x[6,2,2] + x[6,3,2] + x[6,4,2] + x[6,5,2] + x[6,6,2] + x[6,7,2] + x[6,8,2] + x[6,9,2] = 1\n",
      " x[6,1,3] + x[6,2,3] + x[6,3,3] + x[6,4,3] + x[6,5,3] + x[6,6,3] + x[6,7,3] + x[6,8,3] + x[6,9,3] = 1\n",
      " x[6,1,4] + x[6,2,4] + x[6,3,4] + x[6,4,4] + x[6,5,4] + x[6,6,4] + x[6,7,4] + x[6,8,4] + x[6,9,4] = 1\n",
      " x[6,1,5] + x[6,2,5] + x[6,3,5] + x[6,4,5] + x[6,5,5] + x[6,6,5] + x[6,7,5] + x[6,8,5] + x[6,9,5] = 1\n",
      " x[6,1,6] + x[6,2,6] + x[6,3,6] + x[6,4,6] + x[6,5,6] + x[6,6,6] + x[6,7,6] + x[6,8,6] + x[6,9,6] = 1\n",
      " x[6,1,7] + x[6,2,7] + x[6,3,7] + x[6,4,7] + x[6,5,7] + x[6,6,7] + x[6,7,7] + x[6,8,7] + x[6,9,7] = 1\n",
      " x[6,1,8] + x[6,2,8] + x[6,3,8] + x[6,4,8] + x[6,5,8] + x[6,6,8] + x[6,7,8] + x[6,8,8] + x[6,9,8] = 1\n",
      " x[6,1,9] + x[6,2,9] + x[6,3,9] + x[6,4,9] + x[6,5,9] + x[6,6,9] + x[6,7,9] + x[6,8,9] + x[6,9,9] = 1\n",
      " x[7,1,1] + x[7,2,1] + x[7,3,1] + x[7,4,1] + x[7,5,1] + x[7,6,1] + x[7,7,1] + x[7,8,1] + x[7,9,1] = 1\n",
      " x[7,1,2] + x[7,2,2] + x[7,3,2] + x[7,4,2] + x[7,5,2] + x[7,6,2] + x[7,7,2] + x[7,8,2] + x[7,9,2] = 1\n",
      " x[7,1,3] + x[7,2,3] + x[7,3,3] + x[7,4,3] + x[7,5,3] + x[7,6,3] + x[7,7,3] + x[7,8,3] + x[7,9,3] = 1\n",
      " x[7,1,4] + x[7,2,4] + x[7,3,4] + x[7,4,4] + x[7,5,4] + x[7,6,4] + x[7,7,4] + x[7,8,4] + x[7,9,4] = 1\n",
      " x[7,1,5] + x[7,2,5] + x[7,3,5] + x[7,4,5] + x[7,5,5] + x[7,6,5] + x[7,7,5] + x[7,8,5] + x[7,9,5] = 1\n",
      " x[7,1,6] + x[7,2,6] + x[7,3,6] + x[7,4,6] + x[7,5,6] + x[7,6,6] + x[7,7,6] + x[7,8,6] + x[7,9,6] = 1\n",
      " x[7,1,7] + x[7,2,7] + x[7,3,7] + x[7,4,7] + x[7,5,7] + x[7,6,7] + x[7,7,7] + x[7,8,7] + x[7,9,7] = 1\n",
      " x[7,1,8] + x[7,2,8] + x[7,3,8] + x[7,4,8] + x[7,5,8] + x[7,6,8] + x[7,7,8] + x[7,8,8] + x[7,9,8] = 1\n",
      " x[7,1,9] + x[7,2,9] + x[7,3,9] + x[7,4,9] + x[7,5,9] + x[7,6,9] + x[7,7,9] + x[7,8,9] + x[7,9,9] = 1\n",
      " x[8,1,1] + x[8,2,1] + x[8,3,1] + x[8,4,1] + x[8,5,1] + x[8,6,1] + x[8,7,1] + x[8,8,1] + x[8,9,1] = 1\n",
      " x[8,1,2] + x[8,2,2] + x[8,3,2] + x[8,4,2] + x[8,5,2] + x[8,6,2] + x[8,7,2] + x[8,8,2] + x[8,9,2] = 1\n",
      " x[8,1,3] + x[8,2,3] + x[8,3,3] + x[8,4,3] + x[8,5,3] + x[8,6,3] + x[8,7,3] + x[8,8,3] + x[8,9,3] = 1\n",
      " x[8,1,4] + x[8,2,4] + x[8,3,4] + x[8,4,4] + x[8,5,4] + x[8,6,4] + x[8,7,4] + x[8,8,4] + x[8,9,4] = 1\n",
      " x[8,1,5] + x[8,2,5] + x[8,3,5] + x[8,4,5] + x[8,5,5] + x[8,6,5] + x[8,7,5] + x[8,8,5] + x[8,9,5] = 1\n",
      " x[8,1,6] + x[8,2,6] + x[8,3,6] + x[8,4,6] + x[8,5,6] + x[8,6,6] + x[8,7,6] + x[8,8,6] + x[8,9,6] = 1\n",
      " x[8,1,7] + x[8,2,7] + x[8,3,7] + x[8,4,7] + x[8,5,7] + x[8,6,7] + x[8,7,7] + x[8,8,7] + x[8,9,7] = 1\n",
      " x[8,1,8] + x[8,2,8] + x[8,3,8] + x[8,4,8] + x[8,5,8] + x[8,6,8] + x[8,7,8] + x[8,8,8] + x[8,9,8] = 1\n",
      " x[8,1,9] + x[8,2,9] + x[8,3,9] + x[8,4,9] + x[8,5,9] + x[8,6,9] + x[8,7,9] + x[8,8,9] + x[8,9,9] = 1\n",
      " x[9,1,1] + x[9,2,1] + x[9,3,1] + x[9,4,1] + x[9,5,1] + x[9,6,1] + x[9,7,1] + x[9,8,1] + x[9,9,1] = 1\n",
      " x[9,1,2] + x[9,2,2] + x[9,3,2] + x[9,4,2] + x[9,5,2] + x[9,6,2] + x[9,7,2] + x[9,8,2] + x[9,9,2] = 1\n",
      " x[9,1,3] + x[9,2,3] + x[9,3,3] + x[9,4,3] + x[9,5,3] + x[9,6,3] + x[9,7,3] + x[9,8,3] + x[9,9,3] = 1\n",
      " x[9,1,4] + x[9,2,4] + x[9,3,4] + x[9,4,4] + x[9,5,4] + x[9,6,4] + x[9,7,4] + x[9,8,4] + x[9,9,4] = 1\n",
      " x[9,1,5] + x[9,2,5] + x[9,3,5] + x[9,4,5] + x[9,5,5] + x[9,6,5] + x[9,7,5] + x[9,8,5] + x[9,9,5] = 1\n",
      " x[9,1,6] + x[9,2,6] + x[9,3,6] + x[9,4,6] + x[9,5,6] + x[9,6,6] + x[9,7,6] + x[9,8,6] + x[9,9,6] = 1\n",
      " x[9,1,7] + x[9,2,7] + x[9,3,7] + x[9,4,7] + x[9,5,7] + x[9,6,7] + x[9,7,7] + x[9,8,7] + x[9,9,7] = 1\n",
      " x[9,1,8] + x[9,2,8] + x[9,3,8] + x[9,4,8] + x[9,5,8] + x[9,6,8] + x[9,7,8] + x[9,8,8] + x[9,9,8] = 1\n",
      " x[9,1,9] + x[9,2,9] + x[9,3,9] + x[9,4,9] + x[9,5,9] + x[9,6,9] + x[9,7,9] + x[9,8,9] + x[9,9,9] = 1\n",
      " x[1,1,1] + x[2,1,1] + x[3,1,1] + x[4,1,1] + x[5,1,1] + x[6,1,1] + x[7,1,1] + x[8,1,1] + x[9,1,1] = 1\n",
      " x[1,1,2] + x[2,1,2] + x[3,1,2] + x[4,1,2] + x[5,1,2] + x[6,1,2] + x[7,1,2] + x[8,1,2] + x[9,1,2] = 1\n",
      " x[1,1,3] + x[2,1,3] + x[3,1,3] + x[4,1,3] + x[5,1,3] + x[6,1,3] + x[7,1,3] + x[8,1,3] + x[9,1,3] = 1\n",
      " x[1,1,4] + x[2,1,4] + x[3,1,4] + x[4,1,4] + x[5,1,4] + x[6,1,4] + x[7,1,4] + x[8,1,4] + x[9,1,4] = 1\n",
      " x[1,1,5] + x[2,1,5] + x[3,1,5] + x[4,1,5] + x[5,1,5] + x[6,1,5] + x[7,1,5] + x[8,1,5] + x[9,1,5] = 1\n",
      " x[1,1,6] + x[2,1,6] + x[3,1,6] + x[4,1,6] + x[5,1,6] + x[6,1,6] + x[7,1,6] + x[8,1,6] + x[9,1,6] = 1\n",
      " x[1,1,7] + x[2,1,7] + x[3,1,7] + x[4,1,7] + x[5,1,7] + x[6,1,7] + x[7,1,7] + x[8,1,7] + x[9,1,7] = 1\n",
      " x[1,1,8] + x[2,1,8] + x[3,1,8] + x[4,1,8] + x[5,1,8] + x[6,1,8] + x[7,1,8] + x[8,1,8] + x[9,1,8] = 1\n",
      " x[1,1,9] + x[2,1,9] + x[3,1,9] + x[4,1,9] + x[5,1,9] + x[6,1,9] + x[7,1,9] + x[8,1,9] + x[9,1,9] = 1\n",
      " x[1,2,1] + x[2,2,1] + x[3,2,1] + x[4,2,1] + x[5,2,1] + x[6,2,1] + x[7,2,1] + x[8,2,1] + x[9,2,1] = 1\n",
      " x[1,2,2] + x[2,2,2] + x[3,2,2] + x[4,2,2] + x[5,2,2] + x[6,2,2] + x[7,2,2] + x[8,2,2] + x[9,2,2] = 1\n",
      " x[1,2,3] + x[2,2,3] + x[3,2,3] + x[4,2,3] + x[5,2,3] + x[6,2,3] + x[7,2,3] + x[8,2,3] + x[9,2,3] = 1\n",
      " x[1,2,4] + x[2,2,4] + x[3,2,4] + x[4,2,4] + x[5,2,4] + x[6,2,4] + x[7,2,4] + x[8,2,4] + x[9,2,4] = 1\n",
      " x[1,2,5] + x[2,2,5] + x[3,2,5] + x[4,2,5] + x[5,2,5] + x[6,2,5] + x[7,2,5] + x[8,2,5] + x[9,2,5] = 1\n",
      " x[1,2,6] + x[2,2,6] + x[3,2,6] + x[4,2,6] + x[5,2,6] + x[6,2,6] + x[7,2,6] + x[8,2,6] + x[9,2,6] = 1\n",
      " x[1,2,7] + x[2,2,7] + x[3,2,7] + x[4,2,7] + x[5,2,7] + x[6,2,7] + x[7,2,7] + x[8,2,7] + x[9,2,7] = 1\n",
      " x[1,2,8] + x[2,2,8] + x[3,2,8] + x[4,2,8] + x[5,2,8] + x[6,2,8] + x[7,2,8] + x[8,2,8] + x[9,2,8] = 1\n",
      " x[1,2,9] + x[2,2,9] + x[3,2,9] + x[4,2,9] + x[5,2,9] + x[6,2,9] + x[7,2,9] + x[8,2,9] + x[9,2,9] = 1\n",
      " x[1,3,1] + x[2,3,1] + x[3,3,1] + x[4,3,1] + x[5,3,1] + x[6,3,1] + x[7,3,1] + x[8,3,1] + x[9,3,1] = 1\n",
      " x[1,3,2] + x[2,3,2] + x[3,3,2] + x[4,3,2] + x[5,3,2] + x[6,3,2] + x[7,3,2] + x[8,3,2] + x[9,3,2] = 1\n",
      " x[1,3,3] + x[2,3,3] + x[3,3,3] + x[4,3,3] + x[5,3,3] + x[6,3,3] + x[7,3,3] + x[8,3,3] + x[9,3,3] = 1\n",
      " x[1,3,4] + x[2,3,4] + x[3,3,4] + x[4,3,4] + x[5,3,4] + x[6,3,4] + x[7,3,4] + x[8,3,4] + x[9,3,4] = 1\n",
      " x[1,3,5] + x[2,3,5] + x[3,3,5] + x[4,3,5] + x[5,3,5] + x[6,3,5] + x[7,3,5] + x[8,3,5] + x[9,3,5] = 1\n",
      " x[1,3,6] + x[2,3,6] + x[3,3,6] + x[4,3,6] + x[5,3,6] + x[6,3,6] + x[7,3,6] + x[8,3,6] + x[9,3,6] = 1\n",
      " x[1,3,7] + x[2,3,7] + x[3,3,7] + x[4,3,7] + x[5,3,7] + x[6,3,7] + x[7,3,7] + x[8,3,7] + x[9,3,7] = 1\n",
      " x[1,3,8] + x[2,3,8] + x[3,3,8] + x[4,3,8] + x[5,3,8] + x[6,3,8] + x[7,3,8] + x[8,3,8] + x[9,3,8] = 1\n",
      " x[1,3,9] + x[2,3,9] + x[3,3,9] + x[4,3,9] + x[5,3,9] + x[6,3,9] + x[7,3,9] + x[8,3,9] + x[9,3,9] = 1\n",
      " x[1,4,1] + x[2,4,1] + x[3,4,1] + x[4,4,1] + x[5,4,1] + x[6,4,1] + x[7,4,1] + x[8,4,1] + x[9,4,1] = 1\n",
      " x[1,4,2] + x[2,4,2] + x[3,4,2] + x[4,4,2] + x[5,4,2] + x[6,4,2] + x[7,4,2] + x[8,4,2] + x[9,4,2] = 1\n",
      " x[1,4,3] + x[2,4,3] + x[3,4,3] + x[4,4,3] + x[5,4,3] + x[6,4,3] + x[7,4,3] + x[8,4,3] + x[9,4,3] = 1\n",
      " x[1,4,4] + x[2,4,4] + x[3,4,4] + x[4,4,4] + x[5,4,4] + x[6,4,4] + x[7,4,4] + x[8,4,4] + x[9,4,4] = 1\n",
      " x[1,4,5] + x[2,4,5] + x[3,4,5] + x[4,4,5] + x[5,4,5] + x[6,4,5] + x[7,4,5] + x[8,4,5] + x[9,4,5] = 1\n",
      " x[1,4,6] + x[2,4,6] + x[3,4,6] + x[4,4,6] + x[5,4,6] + x[6,4,6] + x[7,4,6] + x[8,4,6] + x[9,4,6] = 1\n",
      " x[1,4,7] + x[2,4,7] + x[3,4,7] + x[4,4,7] + x[5,4,7] + x[6,4,7] + x[7,4,7] + x[8,4,7] + x[9,4,7] = 1\n",
      " x[1,4,8] + x[2,4,8] + x[3,4,8] + x[4,4,8] + x[5,4,8] + x[6,4,8] + x[7,4,8] + x[8,4,8] + x[9,4,8] = 1\n",
      " x[1,4,9] + x[2,4,9] + x[3,4,9] + x[4,4,9] + x[5,4,9] + x[6,4,9] + x[7,4,9] + x[8,4,9] + x[9,4,9] = 1\n",
      " x[1,5,1] + x[2,5,1] + x[3,5,1] + x[4,5,1] + x[5,5,1] + x[6,5,1] + x[7,5,1] + x[8,5,1] + x[9,5,1] = 1\n",
      " x[1,5,2] + x[2,5,2] + x[3,5,2] + x[4,5,2] + x[5,5,2] + x[6,5,2] + x[7,5,2] + x[8,5,2] + x[9,5,2] = 1\n",
      " x[1,5,3] + x[2,5,3] + x[3,5,3] + x[4,5,3] + x[5,5,3] + x[6,5,3] + x[7,5,3] + x[8,5,3] + x[9,5,3] = 1\n",
      " x[1,5,4] + x[2,5,4] + x[3,5,4] + x[4,5,4] + x[5,5,4] + x[6,5,4] + x[7,5,4] + x[8,5,4] + x[9,5,4] = 1\n",
      " x[1,5,5] + x[2,5,5] + x[3,5,5] + x[4,5,5] + x[5,5,5] + x[6,5,5] + x[7,5,5] + x[8,5,5] + x[9,5,5] = 1\n",
      " x[1,5,6] + x[2,5,6] + x[3,5,6] + x[4,5,6] + x[5,5,6] + x[6,5,6] + x[7,5,6] + x[8,5,6] + x[9,5,6] = 1\n",
      " x[1,5,7] + x[2,5,7] + x[3,5,7] + x[4,5,7] + x[5,5,7] + x[6,5,7] + x[7,5,7] + x[8,5,7] + x[9,5,7] = 1\n",
      " x[1,5,8] + x[2,5,8] + x[3,5,8] + x[4,5,8] + x[5,5,8] + x[6,5,8] + x[7,5,8] + x[8,5,8] + x[9,5,8] = 1\n",
      " x[1,5,9] + x[2,5,9] + x[3,5,9] + x[4,5,9] + x[5,5,9] + x[6,5,9] + x[7,5,9] + x[8,5,9] + x[9,5,9] = 1\n",
      " x[1,6,1] + x[2,6,1] + x[3,6,1] + x[4,6,1] + x[5,6,1] + x[6,6,1] + x[7,6,1] + x[8,6,1] + x[9,6,1] = 1\n",
      " x[1,6,2] + x[2,6,2] + x[3,6,2] + x[4,6,2] + x[5,6,2] + x[6,6,2] + x[7,6,2] + x[8,6,2] + x[9,6,2] = 1\n",
      " x[1,6,3] + x[2,6,3] + x[3,6,3] + x[4,6,3] + x[5,6,3] + x[6,6,3] + x[7,6,3] + x[8,6,3] + x[9,6,3] = 1\n",
      " x[1,6,4] + x[2,6,4] + x[3,6,4] + x[4,6,4] + x[5,6,4] + x[6,6,4] + x[7,6,4] + x[8,6,4] + x[9,6,4] = 1\n",
      " x[1,6,5] + x[2,6,5] + x[3,6,5] + x[4,6,5] + x[5,6,5] + x[6,6,5] + x[7,6,5] + x[8,6,5] + x[9,6,5] = 1\n",
      " x[1,6,6] + x[2,6,6] + x[3,6,6] + x[4,6,6] + x[5,6,6] + x[6,6,6] + x[7,6,6] + x[8,6,6] + x[9,6,6] = 1\n",
      " x[1,6,7] + x[2,6,7] + x[3,6,7] + x[4,6,7] + x[5,6,7] + x[6,6,7] + x[7,6,7] + x[8,6,7] + x[9,6,7] = 1\n",
      " x[1,6,8] + x[2,6,8] + x[3,6,8] + x[4,6,8] + x[5,6,8] + x[6,6,8] + x[7,6,8] + x[8,6,8] + x[9,6,8] = 1\n",
      " x[1,6,9] + x[2,6,9] + x[3,6,9] + x[4,6,9] + x[5,6,9] + x[6,6,9] + x[7,6,9] + x[8,6,9] + x[9,6,9] = 1\n",
      " x[1,7,1] + x[2,7,1] + x[3,7,1] + x[4,7,1] + x[5,7,1] + x[6,7,1] + x[7,7,1] + x[8,7,1] + x[9,7,1] = 1\n",
      " x[1,7,2] + x[2,7,2] + x[3,7,2] + x[4,7,2] + x[5,7,2] + x[6,7,2] + x[7,7,2] + x[8,7,2] + x[9,7,2] = 1\n",
      " x[1,7,3] + x[2,7,3] + x[3,7,3] + x[4,7,3] + x[5,7,3] + x[6,7,3] + x[7,7,3] + x[8,7,3] + x[9,7,3] = 1\n",
      " x[1,7,4] + x[2,7,4] + x[3,7,4] + x[4,7,4] + x[5,7,4] + x[6,7,4] + x[7,7,4] + x[8,7,4] + x[9,7,4] = 1\n",
      " x[1,7,5] + x[2,7,5] + x[3,7,5] + x[4,7,5] + x[5,7,5] + x[6,7,5] + x[7,7,5] + x[8,7,5] + x[9,7,5] = 1\n",
      " x[1,7,6] + x[2,7,6] + x[3,7,6] + x[4,7,6] + x[5,7,6] + x[6,7,6] + x[7,7,6] + x[8,7,6] + x[9,7,6] = 1\n",
      " x[1,7,7] + x[2,7,7] + x[3,7,7] + x[4,7,7] + x[5,7,7] + x[6,7,7] + x[7,7,7] + x[8,7,7] + x[9,7,7] = 1\n",
      " x[1,7,8] + x[2,7,8] + x[3,7,8] + x[4,7,8] + x[5,7,8] + x[6,7,8] + x[7,7,8] + x[8,7,8] + x[9,7,8] = 1\n",
      " x[1,7,9] + x[2,7,9] + x[3,7,9] + x[4,7,9] + x[5,7,9] + x[6,7,9] + x[7,7,9] + x[8,7,9] + x[9,7,9] = 1\n",
      " x[1,8,1] + x[2,8,1] + x[3,8,1] + x[4,8,1] + x[5,8,1] + x[6,8,1] + x[7,8,1] + x[8,8,1] + x[9,8,1] = 1\n",
      " x[1,8,2] + x[2,8,2] + x[3,8,2] + x[4,8,2] + x[5,8,2] + x[6,8,2] + x[7,8,2] + x[8,8,2] + x[9,8,2] = 1\n",
      " x[1,8,3] + x[2,8,3] + x[3,8,3] + x[4,8,3] + x[5,8,3] + x[6,8,3] + x[7,8,3] + x[8,8,3] + x[9,8,3] = 1\n",
      " x[1,8,4] + x[2,8,4] + x[3,8,4] + x[4,8,4] + x[5,8,4] + x[6,8,4] + x[7,8,4] + x[8,8,4] + x[9,8,4] = 1\n",
      " x[1,8,5] + x[2,8,5] + x[3,8,5] + x[4,8,5] + x[5,8,5] + x[6,8,5] + x[7,8,5] + x[8,8,5] + x[9,8,5] = 1\n",
      " x[1,8,6] + x[2,8,6] + x[3,8,6] + x[4,8,6] + x[5,8,6] + x[6,8,6] + x[7,8,6] + x[8,8,6] + x[9,8,6] = 1\n",
      " x[1,8,7] + x[2,8,7] + x[3,8,7] + x[4,8,7] + x[5,8,7] + x[6,8,7] + x[7,8,7] + x[8,8,7] + x[9,8,7] = 1\n",
      " x[1,8,8] + x[2,8,8] + x[3,8,8] + x[4,8,8] + x[5,8,8] + x[6,8,8] + x[7,8,8] + x[8,8,8] + x[9,8,8] = 1\n",
      " x[1,8,9] + x[2,8,9] + x[3,8,9] + x[4,8,9] + x[5,8,9] + x[6,8,9] + x[7,8,9] + x[8,8,9] + x[9,8,9] = 1\n",
      " x[1,9,1] + x[2,9,1] + x[3,9,1] + x[4,9,1] + x[5,9,1] + x[6,9,1] + x[7,9,1] + x[8,9,1] + x[9,9,1] = 1\n",
      " x[1,9,2] + x[2,9,2] + x[3,9,2] + x[4,9,2] + x[5,9,2] + x[6,9,2] + x[7,9,2] + x[8,9,2] + x[9,9,2] = 1\n",
      " x[1,9,3] + x[2,9,3] + x[3,9,3] + x[4,9,3] + x[5,9,3] + x[6,9,3] + x[7,9,3] + x[8,9,3] + x[9,9,3] = 1\n",
      " x[1,9,4] + x[2,9,4] + x[3,9,4] + x[4,9,4] + x[5,9,4] + x[6,9,4] + x[7,9,4] + x[8,9,4] + x[9,9,4] = 1\n",
      " x[1,9,5] + x[2,9,5] + x[3,9,5] + x[4,9,5] + x[5,9,5] + x[6,9,5] + x[7,9,5] + x[8,9,5] + x[9,9,5] = 1\n",
      " x[1,9,6] + x[2,9,6] + x[3,9,6] + x[4,9,6] + x[5,9,6] + x[6,9,6] + x[7,9,6] + x[8,9,6] + x[9,9,6] = 1\n",
      " x[1,9,7] + x[2,9,7] + x[3,9,7] + x[4,9,7] + x[5,9,7] + x[6,9,7] + x[7,9,7] + x[8,9,7] + x[9,9,7] = 1\n",
      " x[1,9,8] + x[2,9,8] + x[3,9,8] + x[4,9,8] + x[5,9,8] + x[6,9,8] + x[7,9,8] + x[8,9,8] + x[9,9,8] = 1\n",
      " x[1,9,9] + x[2,9,9] + x[3,9,9] + x[4,9,9] + x[5,9,9] + x[6,9,9] + x[7,9,9] + x[8,9,9] + x[9,9,9] = 1\n",
      " x[1,1,1] + x[2,1,1] + x[3,1,1] + x[1,2,1] + x[2,2,1] + x[3,2,1] + x[1,3,1] + x[2,3,1] + x[3,3,1] = 1\n",
      " x[1,1,2] + x[2,1,2] + x[3,1,2] + x[1,2,2] + x[2,2,2] + x[3,2,2] + x[1,3,2] + x[2,3,2] + x[3,3,2] = 1\n",
      " x[1,1,3] + x[2,1,3] + x[3,1,3] + x[1,2,3] + x[2,2,3] + x[3,2,3] + x[1,3,3] + x[2,3,3] + x[3,3,3] = 1\n",
      " x[1,1,4] + x[2,1,4] + x[3,1,4] + x[1,2,4] + x[2,2,4] + x[3,2,4] + x[1,3,4] + x[2,3,4] + x[3,3,4] = 1\n",
      " x[1,1,5] + x[2,1,5] + x[3,1,5] + x[1,2,5] + x[2,2,5] + x[3,2,5] + x[1,3,5] + x[2,3,5] + x[3,3,5] = 1\n",
      " x[1,1,6] + x[2,1,6] + x[3,1,6] + x[1,2,6] + x[2,2,6] + x[3,2,6] + x[1,3,6] + x[2,3,6] + x[3,3,6] = 1\n",
      " x[1,1,7] + x[2,1,7] + x[3,1,7] + x[1,2,7] + x[2,2,7] + x[3,2,7] + x[1,3,7] + x[2,3,7] + x[3,3,7] = 1\n",
      " x[1,1,8] + x[2,1,8] + x[3,1,8] + x[1,2,8] + x[2,2,8] + x[3,2,8] + x[1,3,8] + x[2,3,8] + x[3,3,8] = 1\n",
      " x[1,1,9] + x[2,1,9] + x[3,1,9] + x[1,2,9] + x[2,2,9] + x[3,2,9] + x[1,3,9] + x[2,3,9] + x[3,3,9] = 1\n",
      " x[1,4,1] + x[2,4,1] + x[3,4,1] + x[1,5,1] + x[2,5,1] + x[3,5,1] + x[1,6,1] + x[2,6,1] + x[3,6,1] = 1\n",
      " x[1,4,2] + x[2,4,2] + x[3,4,2] + x[1,5,2] + x[2,5,2] + x[3,5,2] + x[1,6,2] + x[2,6,2] + x[3,6,2] = 1\n",
      " x[1,4,3] + x[2,4,3] + x[3,4,3] + x[1,5,3] + x[2,5,3] + x[3,5,3] + x[1,6,3] + x[2,6,3] + x[3,6,3] = 1\n",
      " x[1,4,4] + x[2,4,4] + x[3,4,4] + x[1,5,4] + x[2,5,4] + x[3,5,4] + x[1,6,4] + x[2,6,4] + x[3,6,4] = 1\n",
      " x[1,4,5] + x[2,4,5] + x[3,4,5] + x[1,5,5] + x[2,5,5] + x[3,5,5] + x[1,6,5] + x[2,6,5] + x[3,6,5] = 1\n",
      " x[1,4,6] + x[2,4,6] + x[3,4,6] + x[1,5,6] + x[2,5,6] + x[3,5,6] + x[1,6,6] + x[2,6,6] + x[3,6,6] = 1\n",
      " x[1,4,7] + x[2,4,7] + x[3,4,7] + x[1,5,7] + x[2,5,7] + x[3,5,7] + x[1,6,7] + x[2,6,7] + x[3,6,7] = 1\n",
      " x[1,4,8] + x[2,4,8] + x[3,4,8] + x[1,5,8] + x[2,5,8] + x[3,5,8] + x[1,6,8] + x[2,6,8] + x[3,6,8] = 1\n",
      " x[1,4,9] + x[2,4,9] + x[3,4,9] + x[1,5,9] + x[2,5,9] + x[3,5,9] + x[1,6,9] + x[2,6,9] + x[3,6,9] = 1\n",
      " x[1,7,1] + x[2,7,1] + x[3,7,1] + x[1,8,1] + x[2,8,1] + x[3,8,1] + x[1,9,1] + x[2,9,1] + x[3,9,1] = 1\n",
      " x[1,7,2] + x[2,7,2] + x[3,7,2] + x[1,8,2] + x[2,8,2] + x[3,8,2] + x[1,9,2] + x[2,9,2] + x[3,9,2] = 1\n",
      " x[1,7,3] + x[2,7,3] + x[3,7,3] + x[1,8,3] + x[2,8,3] + x[3,8,3] + x[1,9,3] + x[2,9,3] + x[3,9,3] = 1\n",
      " x[1,7,4] + x[2,7,4] + x[3,7,4] + x[1,8,4] + x[2,8,4] + x[3,8,4] + x[1,9,4] + x[2,9,4] + x[3,9,4] = 1\n",
      " x[1,7,5] + x[2,7,5] + x[3,7,5] + x[1,8,5] + x[2,8,5] + x[3,8,5] + x[1,9,5] + x[2,9,5] + x[3,9,5] = 1\n",
      " x[1,7,6] + x[2,7,6] + x[3,7,6] + x[1,8,6] + x[2,8,6] + x[3,8,6] + x[1,9,6] + x[2,9,6] + x[3,9,6] = 1\n",
      " x[1,7,7] + x[2,7,7] + x[3,7,7] + x[1,8,7] + x[2,8,7] + x[3,8,7] + x[1,9,7] + x[2,9,7] + x[3,9,7] = 1\n",
      " x[1,7,8] + x[2,7,8] + x[3,7,8] + x[1,8,8] + x[2,8,8] + x[3,8,8] + x[1,9,8] + x[2,9,8] + x[3,9,8] = 1\n",
      " x[1,7,9] + x[2,7,9] + x[3,7,9] + x[1,8,9] + x[2,8,9] + x[3,8,9] + x[1,9,9] + x[2,9,9] + x[3,9,9] = 1\n",
      " x[4,1,1] + x[5,1,1] + x[6,1,1] + x[4,2,1] + x[5,2,1] + x[6,2,1] + x[4,3,1] + x[5,3,1] + x[6,3,1] = 1\n",
      " x[4,1,2] + x[5,1,2] + x[6,1,2] + x[4,2,2] + x[5,2,2] + x[6,2,2] + x[4,3,2] + x[5,3,2] + x[6,3,2] = 1\n",
      " x[4,1,3] + x[5,1,3] + x[6,1,3] + x[4,2,3] + x[5,2,3] + x[6,2,3] + x[4,3,3] + x[5,3,3] + x[6,3,3] = 1\n",
      " x[4,1,4] + x[5,1,4] + x[6,1,4] + x[4,2,4] + x[5,2,4] + x[6,2,4] + x[4,3,4] + x[5,3,4] + x[6,3,4] = 1\n",
      " x[4,1,5] + x[5,1,5] + x[6,1,5] + x[4,2,5] + x[5,2,5] + x[6,2,5] + x[4,3,5] + x[5,3,5] + x[6,3,5] = 1\n",
      " x[4,1,6] + x[5,1,6] + x[6,1,6] + x[4,2,6] + x[5,2,6] + x[6,2,6] + x[4,3,6] + x[5,3,6] + x[6,3,6] = 1\n",
      " x[4,1,7] + x[5,1,7] + x[6,1,7] + x[4,2,7] + x[5,2,7] + x[6,2,7] + x[4,3,7] + x[5,3,7] + x[6,3,7] = 1\n",
      " x[4,1,8] + x[5,1,8] + x[6,1,8] + x[4,2,8] + x[5,2,8] + x[6,2,8] + x[4,3,8] + x[5,3,8] + x[6,3,8] = 1\n",
      " x[4,1,9] + x[5,1,9] + x[6,1,9] + x[4,2,9] + x[5,2,9] + x[6,2,9] + x[4,3,9] + x[5,3,9] + x[6,3,9] = 1\n",
      " x[4,4,1] + x[5,4,1] + x[6,4,1] + x[4,5,1] + x[5,5,1] + x[6,5,1] + x[4,6,1] + x[5,6,1] + x[6,6,1] = 1\n",
      " x[4,4,2] + x[5,4,2] + x[6,4,2] + x[4,5,2] + x[5,5,2] + x[6,5,2] + x[4,6,2] + x[5,6,2] + x[6,6,2] = 1\n",
      " x[4,4,3] + x[5,4,3] + x[6,4,3] + x[4,5,3] + x[5,5,3] + x[6,5,3] + x[4,6,3] + x[5,6,3] + x[6,6,3] = 1\n",
      " x[4,4,4] + x[5,4,4] + x[6,4,4] + x[4,5,4] + x[5,5,4] + x[6,5,4] + x[4,6,4] + x[5,6,4] + x[6,6,4] = 1\n",
      " x[4,4,5] + x[5,4,5] + x[6,4,5] + x[4,5,5] + x[5,5,5] + x[6,5,5] + x[4,6,5] + x[5,6,5] + x[6,6,5] = 1\n",
      " x[4,4,6] + x[5,4,6] + x[6,4,6] + x[4,5,6] + x[5,5,6] + x[6,5,6] + x[4,6,6] + x[5,6,6] + x[6,6,6] = 1\n",
      " x[4,4,7] + x[5,4,7] + x[6,4,7] + x[4,5,7] + x[5,5,7] + x[6,5,7] + x[4,6,7] + x[5,6,7] + x[6,6,7] = 1\n",
      " x[4,4,8] + x[5,4,8] + x[6,4,8] + x[4,5,8] + x[5,5,8] + x[6,5,8] + x[4,6,8] + x[5,6,8] + x[6,6,8] = 1\n",
      " x[4,4,9] + x[5,4,9] + x[6,4,9] + x[4,5,9] + x[5,5,9] + x[6,5,9] + x[4,6,9] + x[5,6,9] + x[6,6,9] = 1\n",
      " x[4,7,1] + x[5,7,1] + x[6,7,1] + x[4,8,1] + x[5,8,1] + x[6,8,1] + x[4,9,1] + x[5,9,1] + x[6,9,1] = 1\n",
      " x[4,7,2] + x[5,7,2] + x[6,7,2] + x[4,8,2] + x[5,8,2] + x[6,8,2] + x[4,9,2] + x[5,9,2] + x[6,9,2] = 1\n",
      " x[4,7,3] + x[5,7,3] + x[6,7,3] + x[4,8,3] + x[5,8,3] + x[6,8,3] + x[4,9,3] + x[5,9,3] + x[6,9,3] = 1\n",
      " x[4,7,4] + x[5,7,4] + x[6,7,4] + x[4,8,4] + x[5,8,4] + x[6,8,4] + x[4,9,4] + x[5,9,4] + x[6,9,4] = 1\n",
      " x[4,7,5] + x[5,7,5] + x[6,7,5] + x[4,8,5] + x[5,8,5] + x[6,8,5] + x[4,9,5] + x[5,9,5] + x[6,9,5] = 1\n",
      " x[4,7,6] + x[5,7,6] + x[6,7,6] + x[4,8,6] + x[5,8,6] + x[6,8,6] + x[4,9,6] + x[5,9,6] + x[6,9,6] = 1\n",
      " x[4,7,7] + x[5,7,7] + x[6,7,7] + x[4,8,7] + x[5,8,7] + x[6,8,7] + x[4,9,7] + x[5,9,7] + x[6,9,7] = 1\n",
      " x[4,7,8] + x[5,7,8] + x[6,7,8] + x[4,8,8] + x[5,8,8] + x[6,8,8] + x[4,9,8] + x[5,9,8] + x[6,9,8] = 1\n",
      " x[4,7,9] + x[5,7,9] + x[6,7,9] + x[4,8,9] + x[5,8,9] + x[6,8,9] + x[4,9,9] + x[5,9,9] + x[6,9,9] = 1\n",
      " x[7,1,1] + x[8,1,1] + x[9,1,1] + x[7,2,1] + x[8,2,1] + x[9,2,1] + x[7,3,1] + x[8,3,1] + x[9,3,1] = 1\n",
      " x[7,1,2] + x[8,1,2] + x[9,1,2] + x[7,2,2] + x[8,2,2] + x[9,2,2] + x[7,3,2] + x[8,3,2] + x[9,3,2] = 1\n",
      " x[7,1,3] + x[8,1,3] + x[9,1,3] + x[7,2,3] + x[8,2,3] + x[9,2,3] + x[7,3,3] + x[8,3,3] + x[9,3,3] = 1\n",
      " x[7,1,4] + x[8,1,4] + x[9,1,4] + x[7,2,4] + x[8,2,4] + x[9,2,4] + x[7,3,4] + x[8,3,4] + x[9,3,4] = 1\n",
      " x[7,1,5] + x[8,1,5] + x[9,1,5] + x[7,2,5] + x[8,2,5] + x[9,2,5] + x[7,3,5] + x[8,3,5] + x[9,3,5] = 1\n",
      " x[7,1,6] + x[8,1,6] + x[9,1,6] + x[7,2,6] + x[8,2,6] + x[9,2,6] + x[7,3,6] + x[8,3,6] + x[9,3,6] = 1\n",
      " x[7,1,7] + x[8,1,7] + x[9,1,7] + x[7,2,7] + x[8,2,7] + x[9,2,7] + x[7,3,7] + x[8,3,7] + x[9,3,7] = 1\n",
      " x[7,1,8] + x[8,1,8] + x[9,1,8] + x[7,2,8] + x[8,2,8] + x[9,2,8] + x[7,3,8] + x[8,3,8] + x[9,3,8] = 1\n",
      " x[7,1,9] + x[8,1,9] + x[9,1,9] + x[7,2,9] + x[8,2,9] + x[9,2,9] + x[7,3,9] + x[8,3,9] + x[9,3,9] = 1\n",
      " x[7,4,1] + x[8,4,1] + x[9,4,1] + x[7,5,1] + x[8,5,1] + x[9,5,1] + x[7,6,1] + x[8,6,1] + x[9,6,1] = 1\n",
      " x[7,4,2] + x[8,4,2] + x[9,4,2] + x[7,5,2] + x[8,5,2] + x[9,5,2] + x[7,6,2] + x[8,6,2] + x[9,6,2] = 1\n",
      " x[7,4,3] + x[8,4,3] + x[9,4,3] + x[7,5,3] + x[8,5,3] + x[9,5,3] + x[7,6,3] + x[8,6,3] + x[9,6,3] = 1\n",
      " x[7,4,4] + x[8,4,4] + x[9,4,4] + x[7,5,4] + x[8,5,4] + x[9,5,4] + x[7,6,4] + x[8,6,4] + x[9,6,4] = 1\n",
      " x[7,4,5] + x[8,4,5] + x[9,4,5] + x[7,5,5] + x[8,5,5] + x[9,5,5] + x[7,6,5] + x[8,6,5] + x[9,6,5] = 1\n",
      " x[7,4,6] + x[8,4,6] + x[9,4,6] + x[7,5,6] + x[8,5,6] + x[9,5,6] + x[7,6,6] + x[8,6,6] + x[9,6,6] = 1\n",
      " x[7,4,7] + x[8,4,7] + x[9,4,7] + x[7,5,7] + x[8,5,7] + x[9,5,7] + x[7,6,7] + x[8,6,7] + x[9,6,7] = 1\n",
      " x[7,4,8] + x[8,4,8] + x[9,4,8] + x[7,5,8] + x[8,5,8] + x[9,5,8] + x[7,6,8] + x[8,6,8] + x[9,6,8] = 1\n",
      " x[7,4,9] + x[8,4,9] + x[9,4,9] + x[7,5,9] + x[8,5,9] + x[9,5,9] + x[7,6,9] + x[8,6,9] + x[9,6,9] = 1\n",
      " x[7,7,1] + x[8,7,1] + x[9,7,1] + x[7,8,1] + x[8,8,1] + x[9,8,1] + x[7,9,1] + x[8,9,1] + x[9,9,1] = 1\n",
      " x[7,7,2] + x[8,7,2] + x[9,7,2] + x[7,8,2] + x[8,8,2] + x[9,8,2] + x[7,9,2] + x[8,9,2] + x[9,9,2] = 1\n",
      " x[7,7,3] + x[8,7,3] + x[9,7,3] + x[7,8,3] + x[8,8,3] + x[9,8,3] + x[7,9,3] + x[8,9,3] + x[9,9,3] = 1\n",
      " x[7,7,4] + x[8,7,4] + x[9,7,4] + x[7,8,4] + x[8,8,4] + x[9,8,4] + x[7,9,4] + x[8,9,4] + x[9,9,4] = 1\n",
      " x[7,7,5] + x[8,7,5] + x[9,7,5] + x[7,8,5] + x[8,8,5] + x[9,8,5] + x[7,9,5] + x[8,9,5] + x[9,9,5] = 1\n",
      " x[7,7,6] + x[8,7,6] + x[9,7,6] + x[7,8,6] + x[8,8,6] + x[9,8,6] + x[7,9,6] + x[8,9,6] + x[9,9,6] = 1\n",
      " x[7,7,7] + x[8,7,7] + x[9,7,7] + x[7,8,7] + x[8,8,7] + x[9,8,7] + x[7,9,7] + x[8,9,7] + x[9,9,7] = 1\n",
      " x[7,7,8] + x[8,7,8] + x[9,7,8] + x[7,8,8] + x[8,8,8] + x[9,8,8] + x[7,9,8] + x[8,9,8] + x[9,9,8] = 1\n",
      " x[7,7,9] + x[8,7,9] + x[9,7,9] + x[7,8,9] + x[8,8,9] + x[9,8,9] + x[7,9,9] + x[8,9,9] + x[9,9,9] = 1\n",
      " x[1,1,5] = 1\n",
      " x[1,2,3] = 1\n",
      " x[1,5,7] = 1\n",
      " x[2,1,6] = 1\n",
      " x[2,4,1] = 1\n",
      " x[2,5,9] = 1\n",
      " x[2,6,5] = 1\n",
      " x[3,2,9] = 1\n",
      " x[3,3,8] = 1\n",
      " x[3,8,6] = 1\n",
      " x[4,1,8] = 1\n",
      " x[4,5,6] = 1\n",
      " x[4,9,3] = 1\n",
      " x[5,1,4] = 1\n",
      " x[5,4,8] = 1\n",
      " x[5,6,3] = 1\n",
      " x[5,9,1] = 1\n",
      " x[6,1,7] = 1\n",
      " x[6,5,2] = 1\n",
      " x[6,9,6] = 1\n",
      " x[7,2,6] = 1\n",
      " x[7,7,2] = 1\n",
      " x[7,8,8] = 1\n",
      " x[8,4,4] = 1\n",
      " x[8,5,1] = 1\n",
      " x[8,6,9] = 1\n",
      " x[8,9,5] = 1\n",
      " x[9,5,8] = 1\n",
      " x[9,8,7] = 1\n",
      " x[9,9,9] = 1\n",
      " x[i,j,k] ∈ {0,1} ∀ i ∈ {1,2,…,8,9}, j ∈ {1,2,…,8,9}, k ∈ {1,2,…,8,9}\n"
     ]
    }
   ],
   "source": [
    "sudoku = Model(solver=GurobiSolver())\n",
    "\n",
    "@variable(sudoku, x[i=1:9, j=1:9, k=1:9], Bin)\n",
    "\n",
    "# Exactly one value appears in each cell\n",
    "@constraint(sudoku, [i=1:9, j=1:9], sum([x[i,j,k] for k in 1:9]) == 1) #constraints indexed by their indices\n",
    "# Each value appears in each row exactly once.\n",
    "@constraint(sudoku, row[i=1:9, k=1:9], sum([x[i,j,k] for j in 1:9]) == 1) #constraints indexed by a name+indices\n",
    "# # Each value appears in each column exactly once.\n",
    "@constraint(sudoku, col[j=1:9, k=1:9], sum(x[:,j,k]) == 1) #drop the variable you sum over\n",
    "# Each value appears in each 3x3 subgrid exactly once.\n",
    "@constraint(sudoku, subgrid[i=1:3:7,j=1:3:7,val=1:9], sum(x[i:i+2,j:j+2,val]) == 1)\n",
    "\n",
    "# Fix given values. \n",
    "for row in 1:9, col in 1:9\n",
    "    if init_vals[row,col] != 0\n",
    "        @constraint(sudoku, x[row, col, init_vals[row, col]] == 1)\n",
    "    end\n",
    "end\n",
    "\n",
    "print(sudoku)"
   ]
  },
  {
   "cell_type": "code",
   "execution_count": 6,
   "metadata": {
    "slideshow": {
     "slide_type": "slide"
    }
   },
   "outputs": [
    {
     "name": "stdout",
     "output_type": "stream",
     "text": [
      "Academic license - for non-commercial use only\n",
      "Optimize a model with 354 rows, 729 columns and 2946 nonzeros\n",
      "Variable types: 0 continuous, 729 integer (729 binary)\n",
      "Coefficient statistics:\n",
      "  Matrix range     [1e+00, 1e+00]\n",
      "  Objective range  [0e+00, 0e+00]\n",
      "  Bounds range     [1e+00, 1e+00]\n",
      "  RHS range        [1e+00, 1e+00]\n",
      "Presolve removed 354 rows and 729 columns\n",
      "Presolve time: 0.00s\n",
      "Presolve: All rows and columns removed\n",
      "\n",
      "Explored 0 nodes (0 simplex iterations) in 0.00 seconds\n",
      "Thread count was 1 (of 4 available processors)\n",
      "\n",
      "Solution count 1: 0 \n",
      "\n",
      "Optimal solution found (tolerance 1.00e-04)\n",
      "Best objective 0.000000000000e+00, best bound 0.000000000000e+00, gap 0.0000%\n"
     ]
    },
    {
     "data": {
      "text/plain": [
       ":Optimal"
      ]
     },
     "execution_count": 6,
     "metadata": {},
     "output_type": "execute_result"
    }
   ],
   "source": [
    "solve(sudoku)"
   ]
  },
  {
   "cell_type": "code",
   "execution_count": 7,
   "metadata": {
    "slideshow": {
     "slide_type": "skip"
    }
   },
   "outputs": [
    {
     "data": {
      "text/plain": [
       "9×9 Array{Float64,2}:\n",
       " 5.0  3.0  4.0  6.0  7.0  8.0  9.0  1.0  2.0\n",
       " 6.0  7.0  2.0  1.0  9.0  5.0  3.0  4.0  8.0\n",
       " 1.0  9.0  8.0  3.0  4.0  2.0  5.0  6.0  7.0\n",
       " 8.0  5.0  9.0  7.0  6.0  1.0  4.0  2.0  3.0\n",
       " 4.0  2.0  6.0  8.0  5.0  3.0  7.0  9.0  1.0\n",
       " 7.0  1.0  3.0  9.0  2.0  4.0  8.0  5.0  6.0\n",
       " 9.0  6.0  1.0  5.0  3.0  7.0  2.0  8.0  4.0\n",
       " 2.0  8.0  7.0  4.0  1.0  9.0  6.0  3.0  5.0\n",
       " 3.0  4.0  5.0  2.0  8.0  6.0  1.0  7.0  9.0"
      ]
     },
     "execution_count": 7,
     "metadata": {},
     "output_type": "execute_result"
    }
   ],
   "source": [
    "sol = sum(i * getvalue(x)[:,:,i] for i in 1:9)"
   ]
  },
  {
   "cell_type": "code",
   "execution_count": 8,
   "metadata": {
    "slideshow": {
     "slide_type": "slide"
    }
   },
   "outputs": [
    {
     "data": {
      "image/png": "[encoded data removed]",
      "text/plain": [
       "Figure(PyObject <Figure size 640x480 with 1 Axes>)"
      ]
     },
     "metadata": {},
     "output_type": "display_data"
    }
   ],
   "source": [
    "display_sudoku(sol, init_vals)"
   ]
  },
  {
   "cell_type": "code",
   "execution_count": null,
   "metadata": {
    "collapsed": true
   },
   "outputs": [],
   "source": []
  }
 ],
 "metadata": {
  "anaconda-cloud": {},
  "celltoolbar": "Slideshow",
  "kernelspec": {
   "display_name": "Julia 1.0.1",
   "language": "julia",
   "name": "julia-1.0"
  },
  "language_info": {
   "file_extension": ".jl",
   "mimetype": "application/julia",
   "name": "julia",
   "version": "1.0.1"
  }
 },
 "nbformat": 4,
 "nbformat_minor": 1
}
