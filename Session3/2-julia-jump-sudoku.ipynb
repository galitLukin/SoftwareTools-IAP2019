{
 "cells": [
  {
   "cell_type": "markdown",
   "metadata": {
    "slideshow": {
     "slide_type": "slide"
    }
   },
   "source": [
    "# Optimization with JuMP\n",
    "\n",
    "Optimization models play a central role in operations research. \n",
    "\n",
    "In this session, we will explore the basic functionalities of JuMP, a modeling language to define and solve optimization models in Julia.\n",
    "\n",
    "<a href=\"https://github.com/JuliaOpt/JuMP.jl\"><img src=\"figures/jump.svg\" alt=\"Julia\" style=\"width: 500px;\"/></a>"
   ]
  },
  {
   "cell_type": "markdown",
   "metadata": {
    "slideshow": {
     "slide_type": "subslide"
    }
   },
   "source": [
    "Suppose Iain wants to carry items to the pawn shop to get some extra cash. He has $N$ items, each with a weight $w_i$ and a price $p_i$. Iain hasn't been to the gym lately, so he can only carry $C$ kilos. How does he choose what to bring with him?\n",
    "\n",
    "We can model this as an integer optimization problem:\n",
    "\n",
    "\\begin{align*}\n",
    "\\max& \\sum_{i=1}^N p_i x_i \\\\\n",
    "\\text{s.t.}& \\sum_{i=1}^N w_i x_i \\leq C \\\\\n",
    "& x_i \\in \\{0,1\\} \\quad \\forall i = 1,\\ldots,N\n",
    "\\end{align*}\n",
    "\n"
   ]
  },
  {
   "cell_type": "markdown",
   "metadata": {
    "slideshow": {
     "slide_type": "slide"
    }
   },
   "source": [
    "## A toy example\n",
    "\n",
    "Consider the following (small) knapsack problem:\n",
    "\n",
    "\\begin{align*}\n",
    "    \\max\\:& x + y \\\\\n",
    "    \\text{s.t.}\\:& x + 2y \\leq 1.5 \\\\\n",
    "    & x, y \\in \\{0,1\\}\n",
    "\\end{align*}\n",
    "\n",
    "How would you solve this? "
   ]
  },
  {
   "cell_type": "markdown",
   "metadata": {
    "slideshow": {
     "slide_type": "subslide"
    }
   },
   "source": [
    "## Exhaustive enumeration\n",
    "\n",
    "The simple way is just to consider each possible value for $x$ and $y$ and compare the cost.\n",
    "\n",
    "![alt text](figures/tree_1.png)\n",
    "\n",
    "In the general case, this would lead to $2^N$ possible collections of items. After Iain has weighed all of them (and verified that he can lift them at once), he just chooses the best set."
   ]
  },
  {
   "cell_type": "markdown",
   "metadata": {
    "slideshow": {
     "slide_type": "subslide"
    }
   },
   "source": [
    "## Branch-and-bound: smart enumeration\n",
    "Let's visualize this approach as a search tree:\n",
    "\n",
    "![alt text](figures/tree_2.png)"
   ]
  },
  {
   "cell_type": "markdown",
   "metadata": {
    "slideshow": {
     "slide_type": "subslide"
    }
   },
   "source": [
    "Each node is a subproblem with \n",
    "- some variables fixed to $0$\n",
    "- some variables fixed to $1$\n",
    "- the remaining variables are unknown \n",
    "\n",
    "At each node, we have techniques to \n",
    "- find a lower bound on the objective value (i.e., find a feasible solution)\n",
    "- find an upper bound on the objective value (e.g., solve the relaxation)\n",
    "\n",
    "This leads us to a powerful tool in solving these enumeration problems: \n",
    ">If I can show you that the optimal cost for subproblem ``q`` is _less_ than the optimal cost for the original problem, the same is true for any descendent of ``q``. "
   ]
  },
  {
   "cell_type": "markdown",
   "metadata": {
    "slideshow": {
     "slide_type": "subslide"
    }
   },
   "source": [
    "\n",
    "That is, we can _prune_ the tree and safely discard some nodes, kind of like this:\n",
    "\n",
    "![alt text](figures/tree_3.png)"
   ]
  },
  {
   "cell_type": "markdown",
   "metadata": {
    "slideshow": {
     "slide_type": "slide"
    }
   },
   "source": [
    "# Implementation in JuMP\n",
    "\n",
    "Let's solve our simple knapsack problem in JuMP."
   ]
  },
  {
   "cell_type": "markdown",
   "metadata": {
    "slideshow": {
     "slide_type": "subslide"
    }
   },
   "source": [
    "[JuMP.jl](https://github.com/JuliaOpt/JuMP.jl) is a high-level modeling language for mathematical optimization embedded in Julia. It currently supports \n",
    "- a number of open-source and commercial solvers (Artelys Knitro, BARON, Bonmin, Cbc, Clp, Couenne, CPLEX, ECOS, FICO Xpress, GLPK, Gurobi, Ipopt, MOSEK, NLopt, SCS) \n",
    "- for a variety of problem classes, including linear programming, (mixed) integer programming, second-order conic programming, semidefinite programming, and nonlinear programming."
   ]
  },
  {
   "cell_type": "markdown",
   "metadata": {
    "slideshow": {
     "slide_type": "subslide"
    }
   },
   "source": [
    "<a href=\"http://www.juliaopt.org\"><img src=\"figures/juliaopt.png\" alt=\"JuliaOpt\" style=\"width: 1000px;\"/></a>"
   ]
  },
  {
   "cell_type": "markdown",
   "metadata": {
    "collapsed": true,
    "slideshow": {
     "slide_type": "slide"
    }
   },
   "source": [
    "Take a simple knapsack problem \n",
    "\n",
    "\\begin{align*}\n",
    "    \\max\\:& x + y \\\\\n",
    "    \\text{s.t.}\\:& x + 2y \\leq 1.5 \\\\\n",
    "    & x, y \\in \\{0,1\\}\n",
    "\\end{align*}\n",
    "\n",
    "you can easily define it in JuMP:"
   ]
  },
  {
   "cell_type": "code",
   "execution_count": null,
   "metadata": {
    "collapsed": true,
    "slideshow": {
     "slide_type": "fragment"
    }
   },
   "outputs": [],
   "source": [
    "using JuMP, Gurobi\n",
    "m = Model(solver=GurobiSolver())\n",
    "\n",
    "@variable(m, x, Bin) # or Int\n",
    "@variable(m, y, Bin)\n",
    "\n",
    "@constraint(m, x + 2y ≤ 1.5)\n",
    "@objective(m, Max, x + y)\n",
    "\n",
    "print(m)"
   ]
  },
  {
   "cell_type": "markdown",
   "metadata": {
    "slideshow": {
     "slide_type": "subslide"
    }
   },
   "source": [
    "and solve it"
   ]
  },
  {
   "cell_type": "code",
   "execution_count": null,
   "metadata": {
    "collapsed": true,
    "slideshow": {
     "slide_type": "fragment"
    }
   },
   "outputs": [],
   "source": [
    "solve(m)"
   ]
  },
  {
   "cell_type": "markdown",
   "metadata": {
    "collapsed": true,
    "slideshow": {
     "slide_type": "subslide"
    }
   },
   "source": [
    "This is kind of dull since Gurobi solves this before we ever get to the branch-and-bound tree! Let's cook up a problem that's a little more interesting. What about more items, and more knapsacks! If $N=100$, naïve enumeration would create $2^{100}$ nodes, which would take quite some time. How does the solver actually tackle it?"
   ]
  },
  {
   "cell_type": "code",
   "execution_count": null,
   "metadata": {
    "collapsed": true,
    "slideshow": {
     "slide_type": "fragment"
    }
   },
   "outputs": [],
   "source": [
    "using LinearAlgebra\n",
    "N = 100\n",
    "\n",
    "m = Model(solver=GurobiSolver())\n",
    "@variable(m, x[1:N], Bin)\n",
    "for _ in 1:10\n",
    "    @constraint(m, dot(rand(N), x) ≤ N / 50)\n",
    "end\n",
    "\n",
    "@objective(m, Max, dot(rand(N), x))\n",
    "\n",
    "solve(m)"
   ]
  },
  {
   "cell_type": "markdown",
   "metadata": {
    "slideshow": {
     "slide_type": "slide"
    }
   },
   "source": [
    "## Sudoku\n",
    "\n",
    "![Sudoku](http://upload.wikimedia.org/wikipedia/commons/f/ff/Sudoku-by-L2G-20050714.svg)\n",
    "\n",
    "**Sudoku** is a number puzzle played on a 9x9 grid. The challenge is to place a digit between 1 and 9 inclusive in each empty cell, such that the completed grid obeys the following rules:\n",
    "\n",
    "* Each row contains the numbers 1 to 9 once and only once.\n",
    "* Each column contains the numbers 1 to 9 once and only once.\n",
    "* Each 3x3 subgrid contains the numbers 1 to 9 once and only once."
   ]
  },
  {
   "cell_type": "markdown",
   "metadata": {
    "slideshow": {
     "slide_type": "slide"
    }
   },
   "source": [
    ">**\\[Exercise\\]**: Sudoku\n",
    "\n",
    "> Model the Sudoku problem as an optimization problem.\n",
    "\n",
    "> Write a Julia function to solve it."
   ]
  },
  {
   "cell_type": "markdown",
   "metadata": {
    "slideshow": {
     "slide_type": "slide"
    }
   },
   "source": [
    "** Variables **\n",
    "\n",
    "We define binary variables \n",
    "$$ x_{i,j,k} \\in \\{0, 1\\}, $$\n",
    "for each row $i$, column $j$ and integer $k \\in \\{ 1,2, \\dots,9\\}$.\n",
    "\n",
    "$x_{i,j,k} = 1$ iff the number $k$ appears in cell $(i,j)$"
   ]
  },
  {
   "cell_type": "markdown",
   "metadata": {
    "slideshow": {
     "slide_type": "slide"
    }
   },
   "source": [
    "** Constraints **"
   ]
  },
  {
   "cell_type": "markdown",
   "metadata": {
    "slideshow": {
     "slide_type": "slide"
    }
   },
   "source": [
    "** Objective **"
   ]
  },
  {
   "cell_type": "markdown",
   "metadata": {
    "slideshow": {
     "slide_type": "slide"
    }
   },
   "source": [
    "Let us solve this problem in Julia now!"
   ]
  },
  {
   "cell_type": "code",
   "execution_count": null,
   "metadata": {
    "collapsed": true,
    "slideshow": {
     "slide_type": "slide"
    }
   },
   "outputs": [],
   "source": [
    "init_vals = [\n",
    "5 3 0 0 7 0 0 0 0\n",
    "6 0 0 1 9 5 0 0 0\n",
    "0 9 8 0 0 0 0 6 0\n",
    "8 0 0 0 6 0 0 0 3\n",
    "4 0 0 8 0 3 0 0 1\n",
    "7 0 0 0 2 0 0 0 6\n",
    "0 6 0 0 0 0 2 8 0\n",
    "0 0 0 4 1 9 0 0 5\n",
    "0 0 0 0 8 0 0 7 9\n",
    "]\n",
    "\n",
    "using PyPlot\n",
    "# Displays a sudoku matrix. If an initial state is provided, \n",
    "# then the new numbers are displayed in red. \n",
    "function display_sudoku(sudoku, initial_state=zeros(9,9))\n",
    "    fig, ax = subplots()\n",
    "    ax[:axis](\"off\")\n",
    "    # Make sudoku basic 9x9 grid.\n",
    "    for i in 0:9\n",
    "        plot([i,i], [0, 9], color = \"black\")\n",
    "        plot([0, 9], [i,i], color = \"black\")\n",
    "    end\n",
    "    # Make thicker lines to separate the 3x3 subgrids.\n",
    "    for i in 0:3:9\n",
    "        plot([i,i], [0,9], color = \"black\", linewidth = 3)\n",
    "        plot([0,9], [i,i], color = \"black\", linewidth = 3)\n",
    "    end\n",
    "    # Display the values at the right square.\n",
    "    for i in 0:8\n",
    "        for j in 0:8 \n",
    "            value = Int(sudoku[9-j,i+1])\n",
    "            old_value = initial_state[9-j,i+1]\n",
    "            # If an initial state is not provided (set to zero) or the value of the \n",
    "            # square did not change, the color is set to black. Otherwise, it becomes red.\n",
    "            col = (sum(initial_state) == 0 || old_value == value) ? \"black\" : \"red\"\n",
    "            if value > 0 # Omit zero values  \n",
    "                text(i + 0.35, j + 0.33, value, size = 16, color = col)\n",
    "            end\n",
    "        end\n",
    "    end\n",
    "end\n",
    "display_sudoku(init_vals)"
   ]
  },
  {
   "cell_type": "code",
   "execution_count": null,
   "metadata": {
    "collapsed": true,
    "slideshow": {
     "slide_type": "slide"
    }
   },
   "outputs": [],
   "source": [
    "sudoku = Model(solver=GurobiSolver())\n",
    "\n",
    "#write your code here\n",
    "\n",
    "print(sudoku)"
   ]
  },
  {
   "cell_type": "code",
   "execution_count": null,
   "metadata": {
    "collapsed": true,
    "slideshow": {
     "slide_type": "slide"
    }
   },
   "outputs": [],
   "source": [
    "solve(sudoku)"
   ]
  },
  {
   "cell_type": "code",
   "execution_count": null,
   "metadata": {
    "collapsed": true,
    "slideshow": {
     "slide_type": "skip"
    }
   },
   "outputs": [],
   "source": [
    "sol = sum(i * getvalue(x)[:,:,i] for i in 1:9)"
   ]
  },
  {
   "cell_type": "code",
   "execution_count": null,
   "metadata": {
    "collapsed": true,
    "slideshow": {
     "slide_type": "slide"
    }
   },
   "outputs": [],
   "source": [
    "display_sudoku(sol, init_vals)"
   ]
  }
 ],
 "metadata": {
  "anaconda-cloud": {},
  "celltoolbar": "Slideshow",
  "kernelspec": {
   "display_name": "Julia 1.0.1",
   "language": "julia",
   "name": "julia-1.0"
  },
  "language_info": {
   "file_extension": ".jl",
   "mimetype": "application/julia",
   "name": "julia",
   "version": "1.0.1"
  }
 },
 "nbformat": 4,
 "nbformat_minor": 1
}
